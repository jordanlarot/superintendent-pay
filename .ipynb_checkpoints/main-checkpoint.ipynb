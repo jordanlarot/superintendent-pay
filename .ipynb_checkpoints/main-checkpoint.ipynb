{
 "cells": [
  {
   "cell_type": "code",
   "execution_count": 165,
   "id": "4e203b59",
   "metadata": {},
   "outputs": [],
   "source": [
    "# Import pandas and numpy\n",
    "import pandas as pd\n",
    "import numpy as np"
   ]
  },
  {
   "cell_type": "code",
   "execution_count": 166,
   "id": "bc438665",
   "metadata": {},
   "outputs": [],
   "source": [
    "file = 'data.csv'\n",
    "df = pd.read_csv(file)"
   ]
  },
  {
   "cell_type": "markdown",
   "id": "76bb50ac",
   "metadata": {},
   "source": [
    "### Data cleaning"
   ]
  },
  {
   "cell_type": "code",
   "execution_count": 167,
   "id": "3ce9c066",
   "metadata": {},
   "outputs": [
    {
     "data": {
      "text/html": [
       "<div>\n",
       "<style scoped>\n",
       "    .dataframe tbody tr th:only-of-type {\n",
       "        vertical-align: middle;\n",
       "    }\n",
       "\n",
       "    .dataframe tbody tr th {\n",
       "        vertical-align: top;\n",
       "    }\n",
       "\n",
       "    .dataframe thead th {\n",
       "        text-align: right;\n",
       "    }\n",
       "</style>\n",
       "<table border=\"1\" class=\"dataframe\">\n",
       "  <thead>\n",
       "    <tr style=\"text-align: right;\">\n",
       "      <th></th>\n",
       "      <th>Employee Name</th>\n",
       "      <th>Job Title</th>\n",
       "      <th>Base Pay</th>\n",
       "      <th>Overtime Pay</th>\n",
       "      <th>Other Pay</th>\n",
       "      <th>Benefits</th>\n",
       "      <th>Total Pay &amp; Benefits</th>\n",
       "      <th>Year</th>\n",
       "      <th>Notes</th>\n",
       "      <th>Agency</th>\n",
       "      <th>Status</th>\n",
       "    </tr>\n",
       "  </thead>\n",
       "  <tbody>\n",
       "    <tr>\n",
       "      <th>0</th>\n",
       "      <td>James Hammond</td>\n",
       "      <td>Superintendent</td>\n",
       "      <td>355285.00</td>\n",
       "      <td>0.0</td>\n",
       "      <td>197112.00</td>\n",
       "      <td>167573.00</td>\n",
       "      <td>719970.00</td>\n",
       "      <td>2020.0</td>\n",
       "      <td>None</td>\n",
       "      <td>Ontario-Montclair</td>\n",
       "      <td>NaN</td>\n",
       "    </tr>\n",
       "    <tr>\n",
       "      <th>1</th>\n",
       "      <td>Craig M Guensler</td>\n",
       "      <td>Superintendent</td>\n",
       "      <td>233539.86</td>\n",
       "      <td>0.0</td>\n",
       "      <td>10099.42</td>\n",
       "      <td>342424.16</td>\n",
       "      <td>586063.44</td>\n",
       "      <td>2020.0</td>\n",
       "      <td>None</td>\n",
       "      <td>Wheatland Union High</td>\n",
       "      <td>NaN</td>\n",
       "    </tr>\n",
       "    <tr>\n",
       "      <th>2</th>\n",
       "      <td>Michael Lin</td>\n",
       "      <td>Superintendent</td>\n",
       "      <td>398979.02</td>\n",
       "      <td>0.0</td>\n",
       "      <td>57050.69</td>\n",
       "      <td>80208.48</td>\n",
       "      <td>536238.19</td>\n",
       "      <td>2020.0</td>\n",
       "      <td>None</td>\n",
       "      <td>Corona-Norco Unified</td>\n",
       "      <td>NaN</td>\n",
       "    </tr>\n",
       "    <tr>\n",
       "      <th>3</th>\n",
       "      <td>Joel Lee Kinnamon</td>\n",
       "      <td>Superintendent/President</td>\n",
       "      <td>399006.00</td>\n",
       "      <td>0.0</td>\n",
       "      <td>60457.00</td>\n",
       "      <td>66557.00</td>\n",
       "      <td>526020.00</td>\n",
       "      <td>2020.0</td>\n",
       "      <td>None</td>\n",
       "      <td>College of the Desert</td>\n",
       "      <td>NaN</td>\n",
       "    </tr>\n",
       "    <tr>\n",
       "      <th>4</th>\n",
       "      <td>Mary E Streshly</td>\n",
       "      <td>Superintendent</td>\n",
       "      <td>192784.38</td>\n",
       "      <td>0.0</td>\n",
       "      <td>259544.88</td>\n",
       "      <td>66560.32</td>\n",
       "      <td>518889.58</td>\n",
       "      <td>2020.0</td>\n",
       "      <td>None</td>\n",
       "      <td>Sequoia Union High</td>\n",
       "      <td>NaN</td>\n",
       "    </tr>\n",
       "  </tbody>\n",
       "</table>\n",
       "</div>"
      ],
      "text/plain": [
       "       Employee Name                 Job Title   Base Pay   Overtime Pay  \\\n",
       "0      James Hammond            Superintendent  355285.00            0.0   \n",
       "1   Craig M Guensler            Superintendent  233539.86            0.0   \n",
       "2        Michael Lin            Superintendent  398979.02            0.0   \n",
       "3  Joel Lee Kinnamon  Superintendent/President  399006.00            0.0   \n",
       "4    Mary E Streshly            Superintendent  192784.38            0.0   \n",
       "\n",
       "    Other Pay   Benefits   Total Pay & Benefits    Year  Notes  \\\n",
       "0   197112.00  167573.00              719970.00  2020.0   None   \n",
       "1    10099.42  342424.16              586063.44  2020.0   None   \n",
       "2    57050.69   80208.48              536238.19  2020.0   None   \n",
       "3    60457.00   66557.00              526020.00  2020.0   None   \n",
       "4   259544.88   66560.32              518889.58  2020.0   None   \n",
       "\n",
       "                  Agency  Status  \n",
       "0      Ontario-Montclair     NaN  \n",
       "1   Wheatland Union High     NaN  \n",
       "2   Corona-Norco Unified     NaN  \n",
       "3  College of the Desert     NaN  \n",
       "4     Sequoia Union High     NaN  "
      ]
     },
     "execution_count": 167,
     "metadata": {},
     "output_type": "execute_result"
    }
   ],
   "source": [
    "df.head()"
   ]
  },
  {
   "cell_type": "code",
   "execution_count": 168,
   "id": "6f4c939d",
   "metadata": {},
   "outputs": [
    {
     "data": {
      "text/plain": [
       "Index(['Employee Name', ' Job Title', ' Base Pay', ' Overtime Pay',\n",
       "       ' Other Pay', ' Benefits', ' Total Pay & Benefits', ' Year', ' Notes',\n",
       "       ' Agency', ' Status'],\n",
       "      dtype='object')"
      ]
     },
     "execution_count": 168,
     "metadata": {},
     "output_type": "execute_result"
    }
   ],
   "source": [
    "df.columns"
   ]
  },
  {
   "cell_type": "code",
   "execution_count": 169,
   "id": "0990721b",
   "metadata": {},
   "outputs": [
    {
     "data": {
      "text/plain": [
       "Index(['Employee Name', 'Job Title', 'Base Pay', 'Overtime Pay', 'Other Pay',\n",
       "       'Benefits', 'Total Pay & Benefits', 'Year', 'Notes', 'Agency',\n",
       "       'Status'],\n",
       "      dtype='object')"
      ]
     },
     "execution_count": 169,
     "metadata": {},
     "output_type": "execute_result"
    }
   ],
   "source": [
    "# Rename the columns; strip the whitespace\n",
    "for i in df.columns:\n",
    "    df.rename(columns={i:i.strip()}, inplace=True)\n",
    "\n",
    "# Verify change\n",
    "df.columns"
   ]
  },
  {
   "cell_type": "code",
   "execution_count": 170,
   "id": "036bf81e",
   "metadata": {},
   "outputs": [
    {
     "data": {
      "text/plain": [
       "Superintendent                                          435\n",
       "Assistant Superintendent                                 68\n",
       "Deputy Superintendent                                    52\n",
       "Associate Superintendent                                 23\n",
       "Superintendent/President                                 21\n",
       "                                                       ... \n",
       "Assistant Superintendent Student Support Services         1\n",
       "Assistant Superintendent-Bsvc                             1\n",
       "Assistant Superintendent, Pupil Services &amp; Selpa      1\n",
       "Assistant Superintendent-Edser                            1\n",
       "Assistant Superintendent Of Instructional Services        1\n",
       "Name: Job Title, Length: 255, dtype: int64"
      ]
     },
     "execution_count": 170,
     "metadata": {},
     "output_type": "execute_result"
    }
   ],
   "source": [
    "# Look at counts of 'Job Title'\n",
    "df['Job Title'].value_counts()"
   ]
  },
  {
   "cell_type": "code",
   "execution_count": 171,
   "id": "bd1db5ec",
   "metadata": {},
   "outputs": [
    {
     "data": {
      "text/plain": [
       "array(['Superintendent', 'Superintendent/President',\n",
       "       'Superintendent Of Schools', 'District Superintendent',\n",
       "       'Superintendent President', 'President/Superintendent',\n",
       "       'County Superintendent Of Schl', 'Superintendent-President',\n",
       "       'Deputy Superintendent, Business Services And Operations',\n",
       "       'General Superintendent', 'Associate Superintendent',\n",
       "       'County Superintendent/Schools', 'Assistant Superintendent Moft',\n",
       "       'Deputy Superintendent - 2302', 'Street Tree Superintendent',\n",
       "       'State Park Superintendent Iii', 'Associate Superintendent - Cbo',\n",
       "       'State Park Superintendent V', 'Shops Superintendent',\n",
       "       'Deputy Superintendent Of Business Services',\n",
       "       'Assistant Superintendent',\n",
       "       'President/Superintendent Chief Executive Officer',\n",
       "       'Water Utility Superintendent', 'Deputy Superintendent',\n",
       "       'A Superintendent', 'Superintendent, Deputy',\n",
       "       'Superintendent/Presi', 'Superintendent-Cert',\n",
       "       'Interim Superintendent', 'Deputy Superintendent Of Building I',\n",
       "       'Electrical Superintendent', 'Deputy Superintendent, Busines',\n",
       "       'Asst. Superintendent Business',\n",
       "       'Associate Superintendent, Business Services',\n",
       "       'Vice President, Academic Affairs/Asst Superintendent',\n",
       "       '2900 Superintendent', 'Assistant Superintendent-Business',\n",
       "       'Assistant Superintendent Education Services',\n",
       "       'Chief Personnel Officer/Associate Superintendent',\n",
       "       'Vp Hr/Asst Superintendent',\n",
       "       'Assistant Superintendent Human Resource',\n",
       "       'Asst Superintendent Human Resc',\n",
       "       'Senior Maintenance Superintendent',\n",
       "       'Street Services General Superintendent Ii',\n",
       "       '5043 Deputy Superintendent',\n",
       "       'Street Services General Superintendent I',\n",
       "       'Interim Superintendent/President', 'County Superintendent',\n",
       "       'Asst. Superintendent/Vice Pres',\n",
       "       'Vice President, Student Services/Assistant Superintendent',\n",
       "       'Assistant Superintendent-Admin', 'Assist Superintendent-Ed Servi',\n",
       "       'Associate Superintendent, School Climate, Culture And Safety',\n",
       "       'Operations &amp; Maintenance Superintendent',\n",
       "       'Building Construction And Maintenance General Superintendent Ii',\n",
       "       'Superintendent/Principal', 'Deputy Superintendent,Business',\n",
       "       'Shift Superintendent Wastewater Treatment Ii',\n",
       "       'Asst Superintendent,Pr Sv', 'Equipment Superintendent',\n",
       "       'Local District Superintendent', 'Aa746 : Superintendent',\n",
       "       'Airport Superintendent Of Operations Ii',\n",
       "       'Public Works Superintendent', 'Power Generation Superintendent',\n",
       "       'Associate Superintendent, Human Resources',\n",
       "       'Superintendent Of Parks &amp; Golf',\n",
       "       'Asst. Superintendent Bus. Svc.', 'Asst Superintendent Bsn Servs',\n",
       "       'Assistant Superintendent Of Op', 'Assistant Superintendent Of Bu',\n",
       "       'Electric Operations Superintendent',\n",
       "       'Assistant Superintendent Innovation And Instructional Services',\n",
       "       'Ast Superintendent Ed Services', 'President / Superintendent',\n",
       "       'Park Superintendent', 'Superintendent Of Libraries',\n",
       "       'Building Construction And Maintenance Superintendent',\n",
       "       'Asst To Superintendent -Dist.',\n",
       "       'Assistant Superintendent, Ed Services',\n",
       "       'County Superintendent Of Schs', 'Associate Superintendent, Sps',\n",
       "       'Assistant Superintendent - Education Services',\n",
       "       'Assistant Superintendent - Human Resources',\n",
       "       'Superintendent Of Public Works Operations',\n",
       "       'Assistant Superintendent Personnel Services',\n",
       "       'Assistant Superintendent Of Operations',\n",
       "       'Superintendent, Asst Business', 'Deputy Superintendent, Educati',\n",
       "       'Assistant Superintendent - Business Services',\n",
       "       'Superintendent Of Recreation And Parks Operations',\n",
       "       'Assistant Superintendent-Business Services',\n",
       "       'Asst Superintendent-Business', 'Assist Superintendent - Admin',\n",
       "       'Airport Superintendent Of Operations Iii',\n",
       "       'Superintendent Of Building',\n",
       "       'Assistant Superintendent Business Services',\n",
       "       'Assistant Superintendent Educational Services',\n",
       "       'Superintendent, Probation',\n",
       "       'Assistant Superintendent, Human Resources',\n",
       "       'Water Treatment Superintendent', 'Deputy Superintendent-12',\n",
       "       'Assistant Deputy Superintendent Of Building Ii',\n",
       "       'Deputy Superintendent/Cbo', 'Street Superintendent',\n",
       "       'Vice President Instruction/Assistant Superintendent',\n",
       "       'Assist Superintendent - Hr',\n",
       "       'Assistant Superintendent Student Support Services',\n",
       "       'Airports Maintenance Superintendent',\n",
       "       'Assistant Superintendent-Bsvc',\n",
       "       'Assistant Superintendent, Pupil Services &amp; Selpa',\n",
       "       'Assistant Superintendent-Edser', 'Assistant Superintendent Bus.',\n",
       "       'Associate Superintendent, Educational Services',\n",
       "       'Acting Asst Superintendent/Vp', 'Associate Superintendent, Huma',\n",
       "       'State Park Superintendent Ii', 'Assist Superintendent - Is',\n",
       "       'Assistant Superintendent Hr',\n",
       "       'Shift Superintendent Wastewater Treatment I',\n",
       "       'Asst Superintendent-', 'Laboratory Superintendent',\n",
       "       'Associate Superintendent, Inno', 'Assoc Superintendent',\n",
       "       'Superintendent Of Pardee', 'Signal Systems Superintendent',\n",
       "       'Assist Superintendent', 'Assist Superintendent Bus Svcs',\n",
       "       'Dist Deputy Superintendent', 'Assistant Superintendent Cl',\n",
       "       'Associate Superintendent - Human Resources',\n",
       "       'Asst Superintendent/Personnel', 'Street Services Superintendent',\n",
       "       'Asst. Superintendent', 'Asst Superintendent, Inst',\n",
       "       'O&amp;M Superintendent', 'Facilities &amp; Field Superintendent',\n",
       "       'Assistant Superintendent - Hr',\n",
       "       'Assistant Superintendent Instruction/Curriculum',\n",
       "       'Field Operations Superintendent', 'Assistant Superintendent, Hr',\n",
       "       'Superintendent Of Aqueduct', 'Street Services Superintendent I',\n",
       "       'Maintenance Superintendent', 'Assistant Superintendent-Curri',\n",
       "       'Environmental Compliance Superintendent', 'Water Superintendent',\n",
       "       'Associate Superintendent, Selp', 'Superintendent/Clo',\n",
       "       'Assistant Superintendent, Business Services-Interim',\n",
       "       'Asst Superintendent Special Ed', 'Asst. Superintendent-Selpa',\n",
       "       'Asst Superintendent', 'Street Tree Superintendent I',\n",
       "       'Plant Maint Superintendent',\n",
       "       'Vice President Student Services/Assistant Superintendent',\n",
       "       'Assistant Superintendent Admin', 'Asst Superintendent-Bus Serv',\n",
       "       'Utilities Electric Superintendent',\n",
       "       'Assistant Superintendent Of Ed', 'Assist. Superintendent/Busines',\n",
       "       'Superintendent Of Community Services',\n",
       "       'Assistant Superintendent Human Resources',\n",
       "       'Hydroelectric Plant Operations Superintendent',\n",
       "       'Utilities Water Superintendent',\n",
       "       'Plant Operations Superintendent',\n",
       "       'Assistant Superintendent-Edsvc',\n",
       "       'Assistant Superintendent Business',\n",
       "       'Asst Superintendent Ed Options', 'Asst Superintendent Bus Svs',\n",
       "       'Assistant Superintendent, Human Resources Dev.',\n",
       "       'Asst Superintendent-Hr', 'SUPERINTENDENT',\n",
       "       'Street Services Superintendent Ii', 'General Srvc Superintendent',\n",
       "       'Superintendent*', 'Asst Superintendent-Ed Service',\n",
       "       'Assist Superintendent, Prob',\n",
       "       'Assistant Power Production Superintendent',\n",
       "       'Asst Superintendent Bus Serv', 'Asst Superintendent-Ed Serv',\n",
       "       'Assistant Superintendent, Early Learning Services',\n",
       "       'Asst Superintendent Of Facilit',\n",
       "       'Superintendent Of Maintenance Sv',\n",
       "       'Assistant Superintendent Of Business Services',\n",
       "       'Assist Superintendent - Educat',\n",
       "       'Assistant Superintendent Ed Services',\n",
       "       'Asst Superintendent-Spl Educ', 'Associate Superintendent-Bussv',\n",
       "       'Water Quality Superintendent', 'Gas Systems Superintendent',\n",
       "       'Assistant Superintendent Instr',\n",
       "       'Asst Superintendent-Business Services',\n",
       "       'Network Superintendent Hs',\n",
       "       'Site Superintendent, School For The Deaf',\n",
       "       'Water And Sewer Superintendent', 'Principal Superintendent',\n",
       "       'Assistant Superintendent, Pers', 'Asst. Superintendent, Ele Sch',\n",
       "       'Superintendent - Building And Safety',\n",
       "       'Water Utility Distribution Superintendent',\n",
       "       'Watershed Rescs Superintendent', 'Assistant Superintendent-Sped',\n",
       "       'Community Serv Superintendent', 'Superintendent/District Admin',\n",
       "       'Recreation Services Superintendent',\n",
       "       'Assistant Superintendent, Educational Service',\n",
       "       'Asst Superintendent Bus &amp; Ops', 'Superintendent, Assistant',\n",
       "       'Asst Superintendent-Educ Serv', 'Superintendent Community',\n",
       "       'Construction Superintendent', 'Assist Superintendent - Hr/Stu',\n",
       "       'Network Superintendent Pre-K5', 'Assist. Superintendent',\n",
       "       'Associate Superintendent Selpa',\n",
       "       'Water Utility Operations Superintendent',\n",
       "       'Asso Superintendent Es', 'Elec Utility Superintendent',\n",
       "       'Assistant Superintendent Of Bo', 'Asst Superintendent - Human Re',\n",
       "       'Street Tree Superintendent Ii', 'Asst Superintendent Admin Svc',\n",
       "       'Chief Of Staff To The Superintendent',\n",
       "       'Environmental Utilities Maintenance Superintendent',\n",
       "       'District Superintendent Ii, Department Of Parks And Recreation',\n",
       "       'Water Reclamation Operations Superintendent',\n",
       "       'Asst. Superintendent Of Educat', 'Pw Superintendent',\n",
       "       'Distribution System Superintendent',\n",
       "       'Fleet Services Superintendent', 'Public Services Superintendent',\n",
       "       'Assistant Superintendent, Ed. Services',\n",
       "       'State Park Superintendent Iv', '2021 Assistant Superintendent Hr',\n",
       "       '3002 Asst Superintendent Cert', 'Chief Deputy Superintendent',\n",
       "       'Assistant Superintendent Cbo', 'Acting Superintendent',\n",
       "       'Water Operations Superintendent',\n",
       "       'Assistant Superintendent/Admin', 'Superintendent-1',\n",
       "       'Assistant Superintendent- Hr', 'Asst Superintendent Ed Svc',\n",
       "       'Water Systems Operations Superintendent',\n",
       "       'Superintendent Facilities Ops', 'Asst Superintendent Aqueduct',\n",
       "       'Superintendent-District', 'Assistant Superintendent, Sss',\n",
       "       'Operations Superintendent',\n",
       "       'General Superintendent - Development Services',\n",
       "       'Associate Superintendent - Curriculum',\n",
       "       'Utility Maintenance Superintendent',\n",
       "       'Administrative Services Assistant Superintendent',\n",
       "       'Assistant Superintendent Of Instructional Services', nan],\n",
       "      dtype=object)"
      ]
     },
     "execution_count": 171,
     "metadata": {},
     "output_type": "execute_result"
    }
   ],
   "source": [
    "# Find school related superintedent jobs only\n",
    "df['Job Title'].unique()"
   ]
  },
  {
   "cell_type": "markdown",
   "id": "85789b90",
   "metadata": {},
   "source": [
    "NOTE: Only looking for superintendents that work in education"
   ]
  },
  {
   "cell_type": "code",
   "execution_count": 172,
   "id": "f8cc561b",
   "metadata": {},
   "outputs": [
    {
     "data": {
      "text/plain": [
       "(490, 10)"
      ]
     },
     "execution_count": 172,
     "metadata": {},
     "output_type": "execute_result"
    }
   ],
   "source": [
    "# Create a list with education related superintendents\n",
    "titles = [\n",
    "        'Superintendent', \n",
    "        'Superintendent/President',\n",
    "        'Superintendent Of Schools', \n",
    "        'District Superintendent',\n",
    "        'Superintendent President', \n",
    "        'President/Superintendent',\n",
    "        'County Superintendent Of Schl', \n",
    "        'Superintendent-President', \n",
    "        'Superintendent-District'\n",
    "        ]\n",
    "\n",
    "# Only get rows that are titles\n",
    "df = df[df['Job Title'].isin(titles)].reset_index().drop(columns=['index'])\n",
    "\n",
    "# Drop 'Job Title'\n",
    "df.drop(columns= 'Job Title', axis=1, inplace=True)\n",
    "\n",
    "# Check shape of data\n",
    "df.shape"
   ]
  },
  {
   "cell_type": "code",
   "execution_count": 173,
   "id": "22a429cc",
   "metadata": {},
   "outputs": [
    {
     "data": {
      "text/plain": [
       "Notes\n",
       "None    490\n",
       "dtype: int64"
      ]
     },
     "execution_count": 173,
     "metadata": {},
     "output_type": "execute_result"
    }
   ],
   "source": [
    "# Check the count of 'Notes'\n",
    "df.value_counts('Notes')"
   ]
  },
  {
   "cell_type": "markdown",
   "id": "e4d9302c",
   "metadata": {},
   "source": [
    "Since there is no useful information in the notes column, drop the column."
   ]
  },
  {
   "cell_type": "code",
   "execution_count": 174,
   "id": "8606a9b0",
   "metadata": {},
   "outputs": [],
   "source": [
    "# Drop notes column\n",
    "df.drop(columns= 'Notes', axis=1, inplace=True)"
   ]
  },
  {
   "cell_type": "code",
   "execution_count": 175,
   "id": "5d3ce968",
   "metadata": {},
   "outputs": [
    {
     "data": {
      "text/plain": [
       "2020.0    490\n",
       "Name: Year, dtype: int64"
      ]
     },
     "execution_count": 175,
     "metadata": {},
     "output_type": "execute_result"
    }
   ],
   "source": [
    "# Check 'Year' column\n",
    "df['Year'].value_counts()"
   ]
  },
  {
   "cell_type": "markdown",
   "id": "0a63b0c7",
   "metadata": {},
   "source": [
    "Since the data contains information only for 2020, delete the 'Year' column"
   ]
  },
  {
   "cell_type": "code",
   "execution_count": 176,
   "id": "6c7a3fcc",
   "metadata": {},
   "outputs": [],
   "source": [
    "# Drop 'Year'\n",
    "df.drop(columns= 'Year', axis=1, inplace=True)"
   ]
  },
  {
   "cell_type": "code",
   "execution_count": 177,
   "id": "811bc630",
   "metadata": {},
   "outputs": [
    {
     "data": {
      "text/plain": [
       "0      NaN\n",
       "1      NaN\n",
       "2      NaN\n",
       "3      NaN\n",
       "4      NaN\n",
       "      ... \n",
       "485    NaN\n",
       "486    NaN\n",
       "487    NaN\n",
       "488    NaN\n",
       "489    NaN\n",
       "Name: Status, Length: 490, dtype: object"
      ]
     },
     "execution_count": 177,
     "metadata": {},
     "output_type": "execute_result"
    }
   ],
   "source": [
    "# Check 'Status'\n",
    "df['Status']"
   ]
  },
  {
   "cell_type": "code",
   "execution_count": 178,
   "id": "06ff3382",
   "metadata": {},
   "outputs": [
    {
     "data": {
      "text/plain": [
       "490"
      ]
     },
     "execution_count": 178,
     "metadata": {},
     "output_type": "execute_result"
    }
   ],
   "source": [
    "# Count missing values in 'Status'\n",
    "df['Status'].isna().sum()"
   ]
  },
  {
   "cell_type": "markdown",
   "id": "d9b231a3",
   "metadata": {},
   "source": [
    "Since all rows are missing in the 'Status' column, drop it"
   ]
  },
  {
   "cell_type": "code",
   "execution_count": 179,
   "id": "74b2bc27",
   "metadata": {},
   "outputs": [],
   "source": [
    "# Drop 'Status'\n",
    "df.drop(columns= 'Status', axis=1, inplace=True)"
   ]
  },
  {
   "cell_type": "markdown",
   "id": "49800c40",
   "metadata": {},
   "source": [
    "Check for any duplicate names in 'Employee Name'"
   ]
  },
  {
   "cell_type": "code",
   "execution_count": 180,
   "id": "54726299",
   "metadata": {},
   "outputs": [
    {
     "data": {
      "text/plain": [
       "Not Provided            3\n",
       "Craig M Guensler        2\n",
       "Michael R Watenpaugh    2\n",
       "Krystal K Lomanto       2\n",
       "Adela Jones             1\n",
       "                       ..\n",
       "Kimberly Mae Fricker    1\n",
       "Stacy L McAfee          1\n",
       "Juan Cruz               1\n",
       "Kimberly M Berman       1\n",
       "Shannon M Sanford       1\n",
       "Name: Employee Name, Length: 485, dtype: int64"
      ]
     },
     "execution_count": 180,
     "metadata": {},
     "output_type": "execute_result"
    }
   ],
   "source": [
    "df['Employee Name'].value_counts()"
   ]
  },
  {
   "cell_type": "code",
   "execution_count": 181,
   "id": "1c9f682a",
   "metadata": {},
   "outputs": [
    {
     "data": {
      "text/html": [
       "<div>\n",
       "<style scoped>\n",
       "    .dataframe tbody tr th:only-of-type {\n",
       "        vertical-align: middle;\n",
       "    }\n",
       "\n",
       "    .dataframe tbody tr th {\n",
       "        vertical-align: top;\n",
       "    }\n",
       "\n",
       "    .dataframe thead th {\n",
       "        text-align: right;\n",
       "    }\n",
       "</style>\n",
       "<table border=\"1\" class=\"dataframe\">\n",
       "  <thead>\n",
       "    <tr style=\"text-align: right;\">\n",
       "      <th></th>\n",
       "      <th>Employee Name</th>\n",
       "      <th>Base Pay</th>\n",
       "      <th>Overtime Pay</th>\n",
       "      <th>Other Pay</th>\n",
       "      <th>Benefits</th>\n",
       "      <th>Total Pay &amp; Benefits</th>\n",
       "      <th>Agency</th>\n",
       "    </tr>\n",
       "  </thead>\n",
       "  <tbody>\n",
       "    <tr>\n",
       "      <th>1</th>\n",
       "      <td>Craig M Guensler</td>\n",
       "      <td>233539.86</td>\n",
       "      <td>0.0</td>\n",
       "      <td>10099.42</td>\n",
       "      <td>342424.16</td>\n",
       "      <td>586063.44</td>\n",
       "      <td>Wheatland Union High</td>\n",
       "    </tr>\n",
       "    <tr>\n",
       "      <th>257</th>\n",
       "      <td>Craig M Guensler</td>\n",
       "      <td>233539.86</td>\n",
       "      <td>0.0</td>\n",
       "      <td>10099.42</td>\n",
       "      <td>49392.44</td>\n",
       "      <td>293031.72</td>\n",
       "      <td>Wheatland School District</td>\n",
       "    </tr>\n",
       "  </tbody>\n",
       "</table>\n",
       "</div>"
      ],
      "text/plain": [
       "        Employee Name   Base Pay  Overtime Pay  Other Pay   Benefits  \\\n",
       "1    Craig M Guensler  233539.86           0.0   10099.42  342424.16   \n",
       "257  Craig M Guensler  233539.86           0.0   10099.42   49392.44   \n",
       "\n",
       "     Total Pay & Benefits                     Agency  \n",
       "1               586063.44       Wheatland Union High  \n",
       "257             293031.72  Wheatland School District  "
      ]
     },
     "execution_count": 181,
     "metadata": {},
     "output_type": "execute_result"
    }
   ],
   "source": [
    "# Locate rows with \"Craig M Guensler\"\n",
    "df[df['Employee Name'] == 'Craig M Guensler']"
   ]
  },
  {
   "cell_type": "markdown",
   "id": "4cce1a7a",
   "metadata": {},
   "source": [
    "I decide to keep the first row because 'Total Pay & Benefits' is higher."
   ]
  },
  {
   "cell_type": "code",
   "execution_count": 182,
   "id": "b7fec276",
   "metadata": {},
   "outputs": [],
   "source": [
    "# Drop duplicate row\n",
    "df = df.drop(df.index[257])\n",
    "df.reset_index(inplace=True, drop=True)"
   ]
  },
  {
   "cell_type": "code",
   "execution_count": 183,
   "id": "93f5eaba",
   "metadata": {},
   "outputs": [
    {
     "data": {
      "text/html": [
       "<div>\n",
       "<style scoped>\n",
       "    .dataframe tbody tr th:only-of-type {\n",
       "        vertical-align: middle;\n",
       "    }\n",
       "\n",
       "    .dataframe tbody tr th {\n",
       "        vertical-align: top;\n",
       "    }\n",
       "\n",
       "    .dataframe thead th {\n",
       "        text-align: right;\n",
       "    }\n",
       "</style>\n",
       "<table border=\"1\" class=\"dataframe\">\n",
       "  <thead>\n",
       "    <tr style=\"text-align: right;\">\n",
       "      <th></th>\n",
       "      <th>Employee Name</th>\n",
       "      <th>Base Pay</th>\n",
       "      <th>Overtime Pay</th>\n",
       "      <th>Other Pay</th>\n",
       "      <th>Benefits</th>\n",
       "      <th>Total Pay &amp; Benefits</th>\n",
       "      <th>Agency</th>\n",
       "    </tr>\n",
       "  </thead>\n",
       "  <tbody>\n",
       "    <tr>\n",
       "      <th>48</th>\n",
       "      <td>Not Provided</td>\n",
       "      <td>310000.00</td>\n",
       "      <td>0.0</td>\n",
       "      <td>18500.00</td>\n",
       "      <td>70866.00</td>\n",
       "      <td>399366.00</td>\n",
       "      <td>Glendale Unified</td>\n",
       "    </tr>\n",
       "    <tr>\n",
       "      <th>222</th>\n",
       "      <td>Not Provided</td>\n",
       "      <td>134238.15</td>\n",
       "      <td>0.0</td>\n",
       "      <td>150228.55</td>\n",
       "      <td>20443.45</td>\n",
       "      <td>304910.15</td>\n",
       "      <td>Hayward Unified</td>\n",
       "    </tr>\n",
       "    <tr>\n",
       "      <th>264</th>\n",
       "      <td>Not Provided</td>\n",
       "      <td>227718.66</td>\n",
       "      <td>0.0</td>\n",
       "      <td>6000.00</td>\n",
       "      <td>57150.11</td>\n",
       "      <td>290868.77</td>\n",
       "      <td>Lincoln Unified</td>\n",
       "    </tr>\n",
       "  </tbody>\n",
       "</table>\n",
       "</div>"
      ],
      "text/plain": [
       "    Employee Name   Base Pay  Overtime Pay  Other Pay  Benefits  \\\n",
       "48   Not Provided  310000.00           0.0   18500.00  70866.00   \n",
       "222  Not Provided  134238.15           0.0  150228.55  20443.45   \n",
       "264  Not Provided  227718.66           0.0    6000.00  57150.11   \n",
       "\n",
       "     Total Pay & Benefits            Agency  \n",
       "48              399366.00  Glendale Unified  \n",
       "222             304910.15   Hayward Unified  \n",
       "264             290868.77   Lincoln Unified  "
      ]
     },
     "execution_count": 183,
     "metadata": {},
     "output_type": "execute_result"
    }
   ],
   "source": [
    "# Locate rows with \"Not Provided\"\n",
    "df[df['Employee Name'] == 'Not Provided']"
   ]
  },
  {
   "cell_type": "markdown",
   "id": "112af801",
   "metadata": {},
   "source": [
    "I decide to leave all rows with no 'Employee Name' because the pay and agency are not similar."
   ]
  },
  {
   "cell_type": "code",
   "execution_count": 184,
   "id": "b7f53ded",
   "metadata": {},
   "outputs": [
    {
     "data": {
      "text/html": [
       "<div>\n",
       "<style scoped>\n",
       "    .dataframe tbody tr th:only-of-type {\n",
       "        vertical-align: middle;\n",
       "    }\n",
       "\n",
       "    .dataframe tbody tr th {\n",
       "        vertical-align: top;\n",
       "    }\n",
       "\n",
       "    .dataframe thead th {\n",
       "        text-align: right;\n",
       "    }\n",
       "</style>\n",
       "<table border=\"1\" class=\"dataframe\">\n",
       "  <thead>\n",
       "    <tr style=\"text-align: right;\">\n",
       "      <th></th>\n",
       "      <th>Employee Name</th>\n",
       "      <th>Base Pay</th>\n",
       "      <th>Overtime Pay</th>\n",
       "      <th>Other Pay</th>\n",
       "      <th>Benefits</th>\n",
       "      <th>Total Pay &amp; Benefits</th>\n",
       "      <th>Agency</th>\n",
       "    </tr>\n",
       "  </thead>\n",
       "  <tbody>\n",
       "    <tr>\n",
       "      <th>270</th>\n",
       "      <td>Michael R Watenpaugh</td>\n",
       "      <td>226763.27</td>\n",
       "      <td>0.0</td>\n",
       "      <td>5624.63</td>\n",
       "      <td>56979.68</td>\n",
       "      <td>289367.58</td>\n",
       "      <td>Cotati-Rohnert Park Unified</td>\n",
       "    </tr>\n",
       "    <tr>\n",
       "      <th>382</th>\n",
       "      <td>Michael R Watenpaugh</td>\n",
       "      <td>172581.20</td>\n",
       "      <td>0.0</td>\n",
       "      <td>34222.00</td>\n",
       "      <td>45477.13</td>\n",
       "      <td>252280.33</td>\n",
       "      <td>San Rafael City High</td>\n",
       "    </tr>\n",
       "  </tbody>\n",
       "</table>\n",
       "</div>"
      ],
      "text/plain": [
       "            Employee Name   Base Pay  Overtime Pay  Other Pay  Benefits  \\\n",
       "270  Michael R Watenpaugh  226763.27           0.0    5624.63  56979.68   \n",
       "382  Michael R Watenpaugh  172581.20           0.0   34222.00  45477.13   \n",
       "\n",
       "     Total Pay & Benefits                       Agency  \n",
       "270             289367.58  Cotati-Rohnert Park Unified  \n",
       "382             252280.33         San Rafael City High  "
      ]
     },
     "execution_count": 184,
     "metadata": {},
     "output_type": "execute_result"
    }
   ],
   "source": [
    "# Locate rows with \"Michael R Watenpaugh\"\n",
    "df[df['Employee Name'] == 'Michael R Watenpaugh']"
   ]
  },
  {
   "cell_type": "markdown",
   "id": "537f1a38",
   "metadata": {},
   "source": [
    "I decide to drop the row with the lower 'Total Pay & Benefits'."
   ]
  },
  {
   "cell_type": "code",
   "execution_count": 185,
   "id": "9ffd0566",
   "metadata": {},
   "outputs": [],
   "source": [
    "# Drop duplicate row\n",
    "df = df.drop(df.index[382])\n",
    "df.reset_index(inplace=True, drop=True)"
   ]
  },
  {
   "cell_type": "code",
   "execution_count": 186,
   "id": "7bfcc51a",
   "metadata": {},
   "outputs": [
    {
     "data": {
      "text/html": [
       "<div>\n",
       "<style scoped>\n",
       "    .dataframe tbody tr th:only-of-type {\n",
       "        vertical-align: middle;\n",
       "    }\n",
       "\n",
       "    .dataframe tbody tr th {\n",
       "        vertical-align: top;\n",
       "    }\n",
       "\n",
       "    .dataframe thead th {\n",
       "        text-align: right;\n",
       "    }\n",
       "</style>\n",
       "<table border=\"1\" class=\"dataframe\">\n",
       "  <thead>\n",
       "    <tr style=\"text-align: right;\">\n",
       "      <th></th>\n",
       "      <th>Employee Name</th>\n",
       "      <th>Base Pay</th>\n",
       "      <th>Overtime Pay</th>\n",
       "      <th>Other Pay</th>\n",
       "      <th>Benefits</th>\n",
       "      <th>Total Pay &amp; Benefits</th>\n",
       "      <th>Agency</th>\n",
       "    </tr>\n",
       "  </thead>\n",
       "  <tbody>\n",
       "    <tr>\n",
       "      <th>476</th>\n",
       "      <td>Krystal K Lomanto</td>\n",
       "      <td>179345.16</td>\n",
       "      <td>0.0</td>\n",
       "      <td>2160.0</td>\n",
       "      <td>45228.24</td>\n",
       "      <td>226733.4</td>\n",
       "      <td>San Benito High</td>\n",
       "    </tr>\n",
       "    <tr>\n",
       "      <th>477</th>\n",
       "      <td>Krystal K Lomanto</td>\n",
       "      <td>179345.16</td>\n",
       "      <td>0.0</td>\n",
       "      <td>2160.0</td>\n",
       "      <td>45228.24</td>\n",
       "      <td>226733.4</td>\n",
       "      <td>San Benito County Office of Education</td>\n",
       "    </tr>\n",
       "  </tbody>\n",
       "</table>\n",
       "</div>"
      ],
      "text/plain": [
       "         Employee Name   Base Pay  Overtime Pay  Other Pay  Benefits  \\\n",
       "476  Krystal K Lomanto  179345.16           0.0     2160.0  45228.24   \n",
       "477  Krystal K Lomanto  179345.16           0.0     2160.0  45228.24   \n",
       "\n",
       "     Total Pay & Benefits                                 Agency  \n",
       "476              226733.4                        San Benito High  \n",
       "477              226733.4  San Benito County Office of Education  "
      ]
     },
     "execution_count": 186,
     "metadata": {},
     "output_type": "execute_result"
    }
   ],
   "source": [
    "# Locate rows with 'Krystal K Lomanto'\n",
    "df[df['Employee Name'] == 'Krystal K Lomanto']"
   ]
  },
  {
   "cell_type": "markdown",
   "id": "c6af7e9a",
   "metadata": {},
   "source": [
    "The information is the same, so I decide to keep the first row."
   ]
  },
  {
   "cell_type": "code",
   "execution_count": 187,
   "id": "008e899a",
   "metadata": {},
   "outputs": [],
   "source": [
    "# Drop duplicate row\n",
    "df = df.drop(df.index[477])\n",
    "df.reset_index(inplace=True, drop=True)"
   ]
  },
  {
   "cell_type": "code",
   "execution_count": 188,
   "id": "927f684a",
   "metadata": {},
   "outputs": [
    {
     "data": {
      "text/plain": [
       "Not Provided                              3\n",
       "James Hammond                             1\n",
       "Edward President\\&#39;S Office Knudson    1\n",
       "Christi Lynn Barrett                      1\n",
       "Thomas Rooney                             1\n",
       "                                         ..\n",
       "Kimberly Mae Fricker                      1\n",
       "Stacy L McAfee                            1\n",
       "Juan Cruz                                 1\n",
       "Kimberly M Berman                         1\n",
       "Shannon M Sanford                         1\n",
       "Name: Employee Name, Length: 485, dtype: int64"
      ]
     },
     "execution_count": 188,
     "metadata": {},
     "output_type": "execute_result"
    }
   ],
   "source": [
    "df['Employee Name'].value_counts()"
   ]
  },
  {
   "cell_type": "code",
   "execution_count": 189,
   "id": "c848f3df",
   "metadata": {},
   "outputs": [
    {
     "data": {
      "text/plain": [
       "(487, 7)"
      ]
     },
     "execution_count": 189,
     "metadata": {},
     "output_type": "execute_result"
    }
   ],
   "source": [
    "df.shape"
   ]
  },
  {
   "cell_type": "markdown",
   "id": "d382beaa",
   "metadata": {},
   "source": [
    "No need for 'Employee Name' anymore. Therefore, drop the column"
   ]
  },
  {
   "cell_type": "code",
   "execution_count": 190,
   "id": "de64fad1",
   "metadata": {},
   "outputs": [],
   "source": [
    "# Drop 'Employee Name'\n",
    "df.drop(columns='Employee Name', inplace=True)"
   ]
  },
  {
   "cell_type": "code",
   "execution_count": 191,
   "id": "8559ff67",
   "metadata": {},
   "outputs": [
    {
     "data": {
      "text/plain": [
       "0.00        479\n",
       "500.00        1\n",
       "3834.78       1\n",
       "36536.46      1\n",
       "20642.00      1\n",
       "7411.00       1\n",
       "19933.60      1\n",
       "2500.00       1\n",
       "9231.28       1\n",
       "Name: Overtime Pay, dtype: int64"
      ]
     },
     "execution_count": 191,
     "metadata": {},
     "output_type": "execute_result"
    }
   ],
   "source": [
    "# Count values for 'Overtime Pay'\n",
    "df['Overtime Pay'].value_counts()"
   ]
  },
  {
   "cell_type": "code",
   "execution_count": 192,
   "id": "fd34de5e",
   "metadata": {},
   "outputs": [
    {
     "data": {
      "text/plain": [
       "Base Pay                float64\n",
       "Overtime Pay            float64\n",
       "Other Pay               float64\n",
       "Benefits                float64\n",
       "Total Pay & Benefits    float64\n",
       "Agency                   object\n",
       "dtype: object"
      ]
     },
     "execution_count": 192,
     "metadata": {},
     "output_type": "execute_result"
    }
   ],
   "source": [
    "# Check data types\n",
    "df.dtypes"
   ]
  },
  {
   "cell_type": "code",
   "execution_count": 193,
   "id": "b3c14ed9",
   "metadata": {},
   "outputs": [],
   "source": [
    "# Convert 'Agency' into string\n",
    "df['Agency'] = df.Agency.astype('string')"
   ]
  },
  {
   "cell_type": "code",
   "execution_count": 194,
   "id": "62ee85cb",
   "metadata": {},
   "outputs": [],
   "source": [
    "# Create new column 'Total Pay'\n",
    "df['Total Pay'] = (\n",
    "    df['Base Pay'] + \n",
    "    df['Overtime Pay'] +\n",
    "    df['Other Pay']\n",
    ")"
   ]
  },
  {
   "cell_type": "code",
   "execution_count": 195,
   "id": "5432e8e4",
   "metadata": {},
   "outputs": [
    {
     "data": {
      "text/plain": [
       "Base Pay                 int64\n",
       "Overtime Pay             int64\n",
       "Other Pay                int64\n",
       "Benefits                 int64\n",
       "Total Pay & Benefits     int64\n",
       "Agency                  string\n",
       "Total Pay                int64\n",
       "dtype: object"
      ]
     },
     "execution_count": 195,
     "metadata": {},
     "output_type": "execute_result"
    }
   ],
   "source": [
    "# Convert float64 columns into int\n",
    "for i in df.columns:\n",
    "    if df[i].dtype == 'float64':\n",
    "        df[i] = df[i].astype('int')\n",
    "        \n",
    "# Verify\n",
    "df.dtypes"
   ]
  },
  {
   "cell_type": "code",
   "execution_count": 196,
   "id": "e36f8c13",
   "metadata": {},
   "outputs": [],
   "source": [
    "# Rearrange column order\n",
    "column_order = [\n",
    "                'Agency', \n",
    "                'Base Pay',\n",
    "                'Other Pay', \n",
    "                'Overtime Pay', \n",
    "                'Total Pay', \n",
    "                'Benefits',\n",
    "                'Total Pay & Benefits'\n",
    "                ]\n",
    "\n",
    "df = df.loc[:, column_order]"
   ]
  },
  {
   "cell_type": "code",
   "execution_count": 197,
   "id": "6809d740",
   "metadata": {},
   "outputs": [
    {
     "data": {
      "text/html": [
       "<div>\n",
       "<style scoped>\n",
       "    .dataframe tbody tr th:only-of-type {\n",
       "        vertical-align: middle;\n",
       "    }\n",
       "\n",
       "    .dataframe tbody tr th {\n",
       "        vertical-align: top;\n",
       "    }\n",
       "\n",
       "    .dataframe thead th {\n",
       "        text-align: right;\n",
       "    }\n",
       "</style>\n",
       "<table border=\"1\" class=\"dataframe\">\n",
       "  <thead>\n",
       "    <tr style=\"text-align: right;\">\n",
       "      <th></th>\n",
       "      <th>Agency</th>\n",
       "      <th>Base Pay</th>\n",
       "      <th>Other Pay</th>\n",
       "      <th>Overtime Pay</th>\n",
       "      <th>Total Pay</th>\n",
       "      <th>Benefits</th>\n",
       "      <th>Total Pay &amp; Benefits</th>\n",
       "    </tr>\n",
       "  </thead>\n",
       "  <tbody>\n",
       "    <tr>\n",
       "      <th>0</th>\n",
       "      <td>Ontario-Montclair</td>\n",
       "      <td>355285</td>\n",
       "      <td>197112</td>\n",
       "      <td>0</td>\n",
       "      <td>552397</td>\n",
       "      <td>167573</td>\n",
       "      <td>719970</td>\n",
       "    </tr>\n",
       "    <tr>\n",
       "      <th>1</th>\n",
       "      <td>Wheatland Union High</td>\n",
       "      <td>233539</td>\n",
       "      <td>10099</td>\n",
       "      <td>0</td>\n",
       "      <td>243639</td>\n",
       "      <td>342424</td>\n",
       "      <td>586063</td>\n",
       "    </tr>\n",
       "    <tr>\n",
       "      <th>2</th>\n",
       "      <td>Corona-Norco Unified</td>\n",
       "      <td>398979</td>\n",
       "      <td>57050</td>\n",
       "      <td>0</td>\n",
       "      <td>456029</td>\n",
       "      <td>80208</td>\n",
       "      <td>536238</td>\n",
       "    </tr>\n",
       "    <tr>\n",
       "      <th>3</th>\n",
       "      <td>College of the Desert</td>\n",
       "      <td>399006</td>\n",
       "      <td>60457</td>\n",
       "      <td>0</td>\n",
       "      <td>459463</td>\n",
       "      <td>66557</td>\n",
       "      <td>526020</td>\n",
       "    </tr>\n",
       "    <tr>\n",
       "      <th>4</th>\n",
       "      <td>Sequoia Union High</td>\n",
       "      <td>192784</td>\n",
       "      <td>259544</td>\n",
       "      <td>0</td>\n",
       "      <td>452329</td>\n",
       "      <td>66560</td>\n",
       "      <td>518889</td>\n",
       "    </tr>\n",
       "  </tbody>\n",
       "</table>\n",
       "</div>"
      ],
      "text/plain": [
       "                  Agency  Base Pay  Other Pay  Overtime Pay  Total Pay  \\\n",
       "0      Ontario-Montclair    355285     197112             0     552397   \n",
       "1   Wheatland Union High    233539      10099             0     243639   \n",
       "2   Corona-Norco Unified    398979      57050             0     456029   \n",
       "3  College of the Desert    399006      60457             0     459463   \n",
       "4     Sequoia Union High    192784     259544             0     452329   \n",
       "\n",
       "   Benefits  Total Pay & Benefits  \n",
       "0    167573                719970  \n",
       "1    342424                586063  \n",
       "2     80208                536238  \n",
       "3     66557                526020  \n",
       "4     66560                518889  "
      ]
     },
     "execution_count": 197,
     "metadata": {},
     "output_type": "execute_result"
    }
   ],
   "source": [
    "df.head()"
   ]
  },
  {
   "cell_type": "markdown",
   "id": "60ce5e1a",
   "metadata": {},
   "source": [
    "### Feature Engineering"
   ]
  },
  {
   "cell_type": "code",
   "execution_count": 198,
   "id": "e13fb3d1",
   "metadata": {},
   "outputs": [],
   "source": [
    "# Import Caliofornia_Counties\n",
    "data = 'ca-cities.csv'\n",
    "cities = pd.read_csv(data)"
   ]
  },
  {
   "cell_type": "code",
   "execution_count": 199,
   "id": "b475b821",
   "metadata": {},
   "outputs": [
    {
     "data": {
      "text/html": [
       "<div>\n",
       "<style scoped>\n",
       "    .dataframe tbody tr th:only-of-type {\n",
       "        vertical-align: middle;\n",
       "    }\n",
       "\n",
       "    .dataframe tbody tr th {\n",
       "        vertical-align: top;\n",
       "    }\n",
       "\n",
       "    .dataframe thead th {\n",
       "        text-align: right;\n",
       "    }\n",
       "</style>\n",
       "<table border=\"1\" class=\"dataframe\">\n",
       "  <thead>\n",
       "    <tr style=\"text-align: right;\">\n",
       "      <th></th>\n",
       "      <th>Name</th>\n",
       "      <th>Latitude</th>\n",
       "      <th>Longitude</th>\n",
       "    </tr>\n",
       "  </thead>\n",
       "  <tbody>\n",
       "    <tr>\n",
       "      <th>0</th>\n",
       "      <td>Adelanto</td>\n",
       "      <td>34.582769</td>\n",
       "      <td>-117.409214</td>\n",
       "    </tr>\n",
       "    <tr>\n",
       "      <th>1</th>\n",
       "      <td>Agoura Hills</td>\n",
       "      <td>34.153339</td>\n",
       "      <td>-118.761675</td>\n",
       "    </tr>\n",
       "    <tr>\n",
       "      <th>2</th>\n",
       "      <td>Alameda</td>\n",
       "      <td>37.765206</td>\n",
       "      <td>-122.241636</td>\n",
       "    </tr>\n",
       "  </tbody>\n",
       "</table>\n",
       "</div>"
      ],
      "text/plain": [
       "           Name   Latitude   Longitude\n",
       "0      Adelanto  34.582769 -117.409214\n",
       "1  Agoura Hills  34.153339 -118.761675\n",
       "2       Alameda  37.765206 -122.241636"
      ]
     },
     "execution_count": 199,
     "metadata": {},
     "output_type": "execute_result"
    }
   ],
   "source": [
    "# Preview data\n",
    "cities.head(3)"
   ]
  },
  {
   "cell_type": "code",
   "execution_count": 200,
   "id": "fafccb4b",
   "metadata": {},
   "outputs": [
    {
     "data": {
      "text/plain": [
       "Name         False\n",
       "Latitude     False\n",
       "Longitude    False\n",
       "dtype: bool"
      ]
     },
     "execution_count": 200,
     "metadata": {},
     "output_type": "execute_result"
    }
   ],
   "source": [
    "# Check for missing values\n",
    "cities.isna().any()"
   ]
  },
  {
   "cell_type": "code",
   "execution_count": 201,
   "id": "a917ea61",
   "metadata": {},
   "outputs": [
    {
     "data": {
      "text/plain": [
       "Name          object\n",
       "Latitude     float64\n",
       "Longitude    float64\n",
       "dtype: object"
      ]
     },
     "execution_count": 201,
     "metadata": {},
     "output_type": "execute_result"
    }
   ],
   "source": [
    "# Check data types\n",
    "cities.dtypes"
   ]
  },
  {
   "cell_type": "code",
   "execution_count": 202,
   "id": "d9796ac9",
   "metadata": {},
   "outputs": [
    {
     "data": {
      "text/plain": [
       "Name          string\n",
       "Latitude     float64\n",
       "Longitude    float64\n",
       "dtype: object"
      ]
     },
     "execution_count": 202,
     "metadata": {},
     "output_type": "execute_result"
    }
   ],
   "source": [
    "# Convert city names to string\n",
    "cities['Name'] = cities['Name'].astype('string')\n",
    "\n",
    "# Confirm change\n",
    "cities.dtypes"
   ]
  },
  {
   "cell_type": "code",
   "execution_count": 163,
   "id": "88088d7e",
   "metadata": {},
   "outputs": [],
   "source": [
    "# Import process from fuzzywuzzy; string similarity\n",
    "from fuzzywuzzy import process\n",
    "\n",
    "# Convert city names to a Pandas Series\n",
    "choices = pd.Series(cities.Name)\n",
    "\n",
    "matched_cities = []\n",
    "\n",
    "# String similarity\n",
    "for i, row in df.iterrows():\n",
    "    string = df.loc[i, 'Agency']\n",
    "    choice = process.extract(string, choices, limit=3)\n",
    "    \n",
    "    # Append choice to matched_cities\n",
    "    matched_cities.append(choice[0][0])\n",
    "\n",
    "df['matched_city'] = matched_cities"
   ]
  },
  {
   "cell_type": "code",
   "execution_count": 164,
   "id": "a4a72f3c",
   "metadata": {},
   "outputs": [
    {
     "data": {
      "text/html": [
       "<div>\n",
       "<style scoped>\n",
       "    .dataframe tbody tr th:only-of-type {\n",
       "        vertical-align: middle;\n",
       "    }\n",
       "\n",
       "    .dataframe tbody tr th {\n",
       "        vertical-align: top;\n",
       "    }\n",
       "\n",
       "    .dataframe thead th {\n",
       "        text-align: right;\n",
       "    }\n",
       "</style>\n",
       "<table border=\"1\" class=\"dataframe\">\n",
       "  <thead>\n",
       "    <tr style=\"text-align: right;\">\n",
       "      <th></th>\n",
       "      <th>Agency</th>\n",
       "      <th>Base Pay</th>\n",
       "      <th>Other Pay</th>\n",
       "      <th>Overtime Pay</th>\n",
       "      <th>Total Pay</th>\n",
       "      <th>Benefits</th>\n",
       "      <th>Total Pay &amp; Benefits</th>\n",
       "      <th>matched_city</th>\n",
       "      <th>Ontario-Montclair</th>\n",
       "      <th>355285</th>\n",
       "      <th>...</th>\n",
       "      <th>475</th>\n",
       "      <th>476</th>\n",
       "      <th>478</th>\n",
       "      <th>479</th>\n",
       "      <th>481</th>\n",
       "      <th>482</th>\n",
       "      <th>483</th>\n",
       "      <th>484</th>\n",
       "      <th>485</th>\n",
       "      <th>486</th>\n",
       "    </tr>\n",
       "  </thead>\n",
       "  <tbody>\n",
       "    <tr>\n",
       "      <th>0</th>\n",
       "      <td>Ontario-Montclair</td>\n",
       "      <td>355285</td>\n",
       "      <td>197112</td>\n",
       "      <td>0</td>\n",
       "      <td>552397</td>\n",
       "      <td>167573</td>\n",
       "      <td>719970</td>\n",
       "      <td>Montclair</td>\n",
       "      <td>Montclair</td>\n",
       "      <td>Montclair</td>\n",
       "      <td>...</td>\n",
       "      <td>Santa Barbara</td>\n",
       "      <td>San Bruno</td>\n",
       "      <td>Dos Palos</td>\n",
       "      <td>Union City</td>\n",
       "      <td>Del Mar</td>\n",
       "      <td>Santa Monica</td>\n",
       "      <td>Union City</td>\n",
       "      <td>Fountain Valley</td>\n",
       "      <td>Coalinga</td>\n",
       "      <td>Union City</td>\n",
       "    </tr>\n",
       "    <tr>\n",
       "      <th>1</th>\n",
       "      <td>Wheatland Union High</td>\n",
       "      <td>233539</td>\n",
       "      <td>10099</td>\n",
       "      <td>0</td>\n",
       "      <td>243639</td>\n",
       "      <td>342424</td>\n",
       "      <td>586063</td>\n",
       "      <td>Wheatland</td>\n",
       "      <td>Montclair</td>\n",
       "      <td>Montclair</td>\n",
       "      <td>...</td>\n",
       "      <td>Santa Barbara</td>\n",
       "      <td>San Bruno</td>\n",
       "      <td>Dos Palos</td>\n",
       "      <td>Union City</td>\n",
       "      <td>Del Mar</td>\n",
       "      <td>Santa Monica</td>\n",
       "      <td>Union City</td>\n",
       "      <td>Fountain Valley</td>\n",
       "      <td>Coalinga</td>\n",
       "      <td>Union City</td>\n",
       "    </tr>\n",
       "    <tr>\n",
       "      <th>2</th>\n",
       "      <td>Corona-Norco Unified</td>\n",
       "      <td>398979</td>\n",
       "      <td>57050</td>\n",
       "      <td>0</td>\n",
       "      <td>456029</td>\n",
       "      <td>80208</td>\n",
       "      <td>536238</td>\n",
       "      <td>Corona</td>\n",
       "      <td>Montclair</td>\n",
       "      <td>Montclair</td>\n",
       "      <td>...</td>\n",
       "      <td>Santa Barbara</td>\n",
       "      <td>San Bruno</td>\n",
       "      <td>Dos Palos</td>\n",
       "      <td>Union City</td>\n",
       "      <td>Del Mar</td>\n",
       "      <td>Santa Monica</td>\n",
       "      <td>Union City</td>\n",
       "      <td>Fountain Valley</td>\n",
       "      <td>Coalinga</td>\n",
       "      <td>Union City</td>\n",
       "    </tr>\n",
       "    <tr>\n",
       "      <th>3</th>\n",
       "      <td>College of the Desert</td>\n",
       "      <td>399006</td>\n",
       "      <td>60457</td>\n",
       "      <td>0</td>\n",
       "      <td>459463</td>\n",
       "      <td>66557</td>\n",
       "      <td>526020</td>\n",
       "      <td>Palm Desert</td>\n",
       "      <td>Montclair</td>\n",
       "      <td>Montclair</td>\n",
       "      <td>...</td>\n",
       "      <td>Santa Barbara</td>\n",
       "      <td>San Bruno</td>\n",
       "      <td>Dos Palos</td>\n",
       "      <td>Union City</td>\n",
       "      <td>Del Mar</td>\n",
       "      <td>Santa Monica</td>\n",
       "      <td>Union City</td>\n",
       "      <td>Fountain Valley</td>\n",
       "      <td>Coalinga</td>\n",
       "      <td>Union City</td>\n",
       "    </tr>\n",
       "    <tr>\n",
       "      <th>4</th>\n",
       "      <td>Sequoia Union High</td>\n",
       "      <td>192784</td>\n",
       "      <td>259544</td>\n",
       "      <td>0</td>\n",
       "      <td>452329</td>\n",
       "      <td>66560</td>\n",
       "      <td>518889</td>\n",
       "      <td>Union City</td>\n",
       "      <td>Montclair</td>\n",
       "      <td>Montclair</td>\n",
       "      <td>...</td>\n",
       "      <td>Santa Barbara</td>\n",
       "      <td>San Bruno</td>\n",
       "      <td>Dos Palos</td>\n",
       "      <td>Union City</td>\n",
       "      <td>Del Mar</td>\n",
       "      <td>Santa Monica</td>\n",
       "      <td>Union City</td>\n",
       "      <td>Fountain Valley</td>\n",
       "      <td>Coalinga</td>\n",
       "      <td>Union City</td>\n",
       "    </tr>\n",
       "  </tbody>\n",
       "</table>\n",
       "<p>5 rows × 3423 columns</p>\n",
       "</div>"
      ],
      "text/plain": [
       "                  Agency  Base Pay  Other Pay  Overtime Pay  Total Pay  \\\n",
       "0      Ontario-Montclair    355285     197112             0     552397   \n",
       "1   Wheatland Union High    233539      10099             0     243639   \n",
       "2   Corona-Norco Unified    398979      57050             0     456029   \n",
       "3  College of the Desert    399006      60457             0     459463   \n",
       "4     Sequoia Union High    192784     259544             0     452329   \n",
       "\n",
       "   Benefits  Total Pay & Benefits matched_city Ontario-Montclair     355285  \\\n",
       "0    167573                719970    Montclair         Montclair  Montclair   \n",
       "1    342424                586063    Wheatland         Montclair  Montclair   \n",
       "2     80208                536238       Corona         Montclair  Montclair   \n",
       "3     66557                526020  Palm Desert         Montclair  Montclair   \n",
       "4     66560                518889   Union City         Montclair  Montclair   \n",
       "\n",
       "   ...            475        476        478         479      481  \\\n",
       "0  ...  Santa Barbara  San Bruno  Dos Palos  Union City  Del Mar   \n",
       "1  ...  Santa Barbara  San Bruno  Dos Palos  Union City  Del Mar   \n",
       "2  ...  Santa Barbara  San Bruno  Dos Palos  Union City  Del Mar   \n",
       "3  ...  Santa Barbara  San Bruno  Dos Palos  Union City  Del Mar   \n",
       "4  ...  Santa Barbara  San Bruno  Dos Palos  Union City  Del Mar   \n",
       "\n",
       "            482         483              484       485         486  \n",
       "0  Santa Monica  Union City  Fountain Valley  Coalinga  Union City  \n",
       "1  Santa Monica  Union City  Fountain Valley  Coalinga  Union City  \n",
       "2  Santa Monica  Union City  Fountain Valley  Coalinga  Union City  \n",
       "3  Santa Monica  Union City  Fountain Valley  Coalinga  Union City  \n",
       "4  Santa Monica  Union City  Fountain Valley  Coalinga  Union City  \n",
       "\n",
       "[5 rows x 3423 columns]"
      ]
     },
     "execution_count": 164,
     "metadata": {},
     "output_type": "execute_result"
    }
   ],
   "source": [
    "df.head()"
   ]
  },
  {
   "cell_type": "code",
   "execution_count": 111,
   "id": "69c8d9e2",
   "metadata": {},
   "outputs": [
    {
     "data": {
      "text/plain": [
       "0        Ontario-Montclair\n",
       "1     Wheatland Union High\n",
       "2     Corona-Norco Unified\n",
       "3    College of the Desert\n",
       "4       Sequoia Union High\n",
       "Name: Agency, dtype: string"
      ]
     },
     "execution_count": 111,
     "metadata": {},
     "output_type": "execute_result"
    }
   ],
   "source": [
    "df.Agency.head()"
   ]
  },
  {
   "cell_type": "code",
   "execution_count": 100,
   "id": "f60298d9",
   "metadata": {},
   "outputs": [
    {
     "data": {
      "text/plain": [
       "Del Norte          1\n",
       "Yuba               1\n",
       "Solano             1\n",
       "Modoc              1\n",
       "Humboldt           1\n",
       "Trinity            1\n",
       "Shasta             1\n",
       "Lassen             1\n",
       "Tehama             1\n",
       "Plumas             1\n",
       "Butte              1\n",
       "Mendocino          1\n",
       "Glenn              1\n",
       "Sierra             1\n",
       "Lake               1\n",
       "Santa Cruz         1\n",
       "Nevada             1\n",
       "Colusa             1\n",
       "Sutter             1\n",
       "Placer             1\n",
       "El Dorado          1\n",
       "Yolo               1\n",
       "Alpine             1\n",
       "Sonoma             1\n",
       "Napa               1\n",
       "Sacramento         1\n",
       "Mono               1\n",
       "Amador             1\n",
       "Calaveras          1\n",
       "Tuolumne           1\n",
       "Marin              1\n",
       "San Diego          1\n",
       "San Joaquin        1\n",
       "Contra Costa       1\n",
       "Stanislaus         1\n",
       "Alameda            1\n",
       "Mariposa           1\n",
       "San Francisco      1\n",
       "Madera             1\n",
       "San Mateo          1\n",
       "Merced             1\n",
       "Fresno             1\n",
       "Santa Clara        1\n",
       "Inyo               1\n",
       "San Benito         1\n",
       "Siskiyou           1\n",
       "Monterey           1\n",
       "Tulare             1\n",
       "Kings              1\n",
       "San Bernardino     1\n",
       "Kern               1\n",
       "San Luis Obispo    1\n",
       "Santa Barbara      1\n",
       "Los Angeles        1\n",
       "Riverside          1\n",
       "Orange             1\n",
       "Imperial           1\n",
       "Ventura            1\n",
       "Name: Name, dtype: Int64"
      ]
     },
     "execution_count": 100,
     "metadata": {},
     "output_type": "execute_result"
    }
   ],
   "source": [
    "counties.Name.value_counts()"
   ]
  },
  {
   "cell_type": "code",
   "execution_count": 98,
   "id": "54f5b94e",
   "metadata": {},
   "outputs": [
    {
     "data": {
      "text/plain": [
       "0        Ontario-Montclair\n",
       "1     Wheatland Union High\n",
       "2     Corona-Norco Unified\n",
       "3    College of the Desert\n",
       "4       Sequoia Union High\n",
       "Name: Agency, dtype: string"
      ]
     },
     "execution_count": 98,
     "metadata": {},
     "output_type": "execute_result"
    }
   ],
   "source": [
    "df.Agency.head()"
   ]
  },
  {
   "cell_type": "code",
   "execution_count": 99,
   "id": "f288ecd9",
   "metadata": {},
   "outputs": [
    {
     "data": {
      "text/plain": [
       "pandas.core.series.Series"
      ]
     },
     "execution_count": 99,
     "metadata": {},
     "output_type": "execute_result"
    }
   ],
   "source": [
    "ser = counties.Name\n",
    "\n",
    "type(ser)"
   ]
  },
  {
   "cell_type": "code",
   "execution_count": 87,
   "id": "fafbb356",
   "metadata": {},
   "outputs": [
    {
     "name": "stdout",
     "output_type": "stream",
     "text": [
      "<class 'pandas.core.series.Series'>\n",
      "[('Wheatland', 90, 0), ('Union', 90, 1)]\n"
     ]
    },
    {
     "data": {
      "text/plain": [
       "str"
      ]
     },
     "execution_count": 87,
     "metadata": {},
     "output_type": "execute_result"
    }
   ],
   "source": [
    "# Import process\n",
    "from fuzzywuzzy import process\n",
    "\n",
    "# Define string and array of possible matches\n",
    "string = \"Wheatland Union High\"\n",
    "choices = pd.Series(['Wheatland', 'Union', 'Humboldt', 'Montclair'])\n",
    "\n",
    "test = process.extract(string, choices, limit = 2)\n",
    "\n",
    "print(type(choices))\n",
    "\n",
    "print(test)\n",
    "\n",
    "\n",
    "#### 2\n",
    "# city = 'Union Elementary High Unified College'\n",
    "# count = []\n",
    "\n",
    "# for i in df['Agency']:\n",
    "#     sim = process.extract(city, pd.Series([i]), limit=1)\n",
    "#     if sim[0][1] >= 60:\n",
    "#         count.append(i)\n",
    "# len(count)\n",
    "\n",
    "\n",
    "# ### 3\n",
    "# fuzzy wuzzy\n",
    "# choices = pd.Series(['Stanislaus', 'Union', 'Lazy', 'Education'])\n",
    "# process.extract('Stanislaus Union Elementary', choices, limit=1)"
   ]
  },
  {
   "cell_type": "code",
   "execution_count": 53,
   "id": "90ef2a31",
   "metadata": {},
   "outputs": [
    {
     "name": "stdout",
     "output_type": "stream",
     "text": [
      "[('Union', 60, 1), ('Education', 57, 3)]\n"
     ]
    }
   ],
   "source": [
    "### SAVE \n",
    "# Import process\n",
    "from fuzzywuzzy import process\n",
    "\n",
    "# Define string and array of possible matches\n",
    "string = \"Unified Elementary School District High Union\"\n",
    "choices = pd.Series(['Tree', 'Union', 'Lazy', 'Education'])\n",
    "\n",
    "test = process.extract(string, choices, limit = 2)\n",
    "\n",
    "print(test)\n",
    "\n",
    "\n",
    "#### 2\n",
    "# city = 'Union Elementary High Unified College'\n",
    "# count = []\n",
    "\n",
    "# for i in df['Agency']:\n",
    "#     sim = process.extract(city, pd.Series([i]), limit=1)\n",
    "#     if sim[0][1] >= 60:\n",
    "#         count.append(i)\n",
    "# len(count)\n",
    "\n",
    "\n",
    "# ### 3\n",
    "# fuzzy wuzzy\n",
    "# choices = pd.Series(['Stanislaus', 'Union', 'Lazy', 'Education'])\n",
    "# process.extract('Stanislaus Union Elementary', choices, limit=1)"
   ]
  },
  {
   "cell_type": "code",
   "execution_count": 57,
   "id": "eeaf1d0d",
   "metadata": {},
   "outputs": [
    {
     "data": {
      "text/plain": [
       "dtype('O')"
      ]
     },
     "execution_count": 57,
     "metadata": {},
     "output_type": "execute_result"
    }
   ],
   "source": [
    "choices.dtype"
   ]
  },
  {
   "cell_type": "code",
   "execution_count": 55,
   "id": "7d895db4",
   "metadata": {},
   "outputs": [
    {
     "data": {
      "text/plain": [
       "0    Hello\n",
       "dtype: object"
      ]
     },
     "execution_count": 55,
     "metadata": {},
     "output_type": "execute_result"
    }
   ],
   "source": [
    "pd.Series(['Hello'])"
   ]
  },
  {
   "cell_type": "code",
   "execution_count": null,
   "id": "06d30eaf",
   "metadata": {},
   "outputs": [],
   "source": []
  }
 ],
 "metadata": {
  "kernelspec": {
   "display_name": "Python 3 (ipykernel)",
   "language": "python",
   "name": "python3"
  },
  "language_info": {
   "codemirror_mode": {
    "name": "ipython",
    "version": 3
   },
   "file_extension": ".py",
   "mimetype": "text/x-python",
   "name": "python",
   "nbconvert_exporter": "python",
   "pygments_lexer": "ipython3",
   "version": "3.9.13"
  }
 },
 "nbformat": 4,
 "nbformat_minor": 5
}
