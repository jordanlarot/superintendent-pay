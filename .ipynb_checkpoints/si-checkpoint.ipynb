{
 "cells": [
  {
   "cell_type": "code",
   "execution_count": 383,
   "id": "4e203b59",
   "metadata": {},
   "outputs": [
    {
     "data": {
      "text/html": [
       "<div>\n",
       "<style scoped>\n",
       "    .dataframe tbody tr th:only-of-type {\n",
       "        vertical-align: middle;\n",
       "    }\n",
       "\n",
       "    .dataframe tbody tr th {\n",
       "        vertical-align: top;\n",
       "    }\n",
       "\n",
       "    .dataframe thead th {\n",
       "        text-align: right;\n",
       "    }\n",
       "</style>\n",
       "<table border=\"1\" class=\"dataframe\">\n",
       "  <thead>\n",
       "    <tr style=\"text-align: right;\">\n",
       "      <th></th>\n",
       "      <th>Employee Name</th>\n",
       "      <th>Job Title</th>\n",
       "      <th>Base Pay</th>\n",
       "      <th>Overtime Pay</th>\n",
       "      <th>Other Pay</th>\n",
       "      <th>Benefits</th>\n",
       "      <th>Total Pay &amp; Benefits</th>\n",
       "      <th>Year</th>\n",
       "      <th>Notes</th>\n",
       "      <th>Agency</th>\n",
       "      <th>Status</th>\n",
       "    </tr>\n",
       "  </thead>\n",
       "  <tbody>\n",
       "    <tr>\n",
       "      <th>0</th>\n",
       "      <td>James Hammond</td>\n",
       "      <td>Superintendent</td>\n",
       "      <td>355285.00</td>\n",
       "      <td>0.0</td>\n",
       "      <td>197112.00</td>\n",
       "      <td>167573.00</td>\n",
       "      <td>719970.00</td>\n",
       "      <td>2020.0</td>\n",
       "      <td>None</td>\n",
       "      <td>Ontario-Montclair</td>\n",
       "      <td>NaN</td>\n",
       "    </tr>\n",
       "    <tr>\n",
       "      <th>1</th>\n",
       "      <td>Craig M Guensler</td>\n",
       "      <td>Superintendent</td>\n",
       "      <td>233539.86</td>\n",
       "      <td>0.0</td>\n",
       "      <td>10099.42</td>\n",
       "      <td>342424.16</td>\n",
       "      <td>586063.44</td>\n",
       "      <td>2020.0</td>\n",
       "      <td>None</td>\n",
       "      <td>Wheatland Union High</td>\n",
       "      <td>NaN</td>\n",
       "    </tr>\n",
       "    <tr>\n",
       "      <th>2</th>\n",
       "      <td>Michael Lin</td>\n",
       "      <td>Superintendent</td>\n",
       "      <td>398979.02</td>\n",
       "      <td>0.0</td>\n",
       "      <td>57050.69</td>\n",
       "      <td>80208.48</td>\n",
       "      <td>536238.19</td>\n",
       "      <td>2020.0</td>\n",
       "      <td>None</td>\n",
       "      <td>Corona-Norco Unified</td>\n",
       "      <td>NaN</td>\n",
       "    </tr>\n",
       "    <tr>\n",
       "      <th>3</th>\n",
       "      <td>Joel Lee Kinnamon</td>\n",
       "      <td>Superintendent/President</td>\n",
       "      <td>399006.00</td>\n",
       "      <td>0.0</td>\n",
       "      <td>60457.00</td>\n",
       "      <td>66557.00</td>\n",
       "      <td>526020.00</td>\n",
       "      <td>2020.0</td>\n",
       "      <td>None</td>\n",
       "      <td>College of the Desert</td>\n",
       "      <td>NaN</td>\n",
       "    </tr>\n",
       "    <tr>\n",
       "      <th>4</th>\n",
       "      <td>Mary E Streshly</td>\n",
       "      <td>Superintendent</td>\n",
       "      <td>192784.38</td>\n",
       "      <td>0.0</td>\n",
       "      <td>259544.88</td>\n",
       "      <td>66560.32</td>\n",
       "      <td>518889.58</td>\n",
       "      <td>2020.0</td>\n",
       "      <td>None</td>\n",
       "      <td>Sequoia Union High</td>\n",
       "      <td>NaN</td>\n",
       "    </tr>\n",
       "  </tbody>\n",
       "</table>\n",
       "</div>"
      ],
      "text/plain": [
       "       Employee Name                 Job Title   Base Pay   Overtime Pay  \\\n",
       "0      James Hammond            Superintendent  355285.00            0.0   \n",
       "1   Craig M Guensler            Superintendent  233539.86            0.0   \n",
       "2        Michael Lin            Superintendent  398979.02            0.0   \n",
       "3  Joel Lee Kinnamon  Superintendent/President  399006.00            0.0   \n",
       "4    Mary E Streshly            Superintendent  192784.38            0.0   \n",
       "\n",
       "    Other Pay   Benefits   Total Pay & Benefits    Year  Notes  \\\n",
       "0   197112.00  167573.00              719970.00  2020.0   None   \n",
       "1    10099.42  342424.16              586063.44  2020.0   None   \n",
       "2    57050.69   80208.48              536238.19  2020.0   None   \n",
       "3    60457.00   66557.00              526020.00  2020.0   None   \n",
       "4   259544.88   66560.32              518889.58  2020.0   None   \n",
       "\n",
       "                  Agency  Status  \n",
       "0      Ontario-Montclair     NaN  \n",
       "1   Wheatland Union High     NaN  \n",
       "2   Corona-Norco Unified     NaN  \n",
       "3  College of the Desert     NaN  \n",
       "4     Sequoia Union High     NaN  "
      ]
     },
     "execution_count": 383,
     "metadata": {},
     "output_type": "execute_result"
    }
   ],
   "source": [
    "import pandas as pd\n",
    "import numpy as np\n",
    "\n",
    "file = 'search_results_superintendent_1.csv'\n",
    "df = pd.read_csv(file)\n",
    "df.head()"
   ]
  },
  {
   "cell_type": "code",
   "execution_count": 384,
   "id": "6f4c939d",
   "metadata": {},
   "outputs": [
    {
     "data": {
      "text/plain": [
       "Index(['Employee Name', ' Job Title', ' Base Pay', ' Overtime Pay',\n",
       "       ' Other Pay', ' Benefits', ' Total Pay & Benefits', ' Year', ' Notes',\n",
       "       ' Agency', ' Status'],\n",
       "      dtype='object')"
      ]
     },
     "execution_count": 384,
     "metadata": {},
     "output_type": "execute_result"
    }
   ],
   "source": [
    "df.columns"
   ]
  },
  {
   "cell_type": "code",
   "execution_count": 385,
   "id": "036bf81e",
   "metadata": {},
   "outputs": [
    {
     "data": {
      "text/plain": [
       "Superintendent                                          435\n",
       "Assistant Superintendent                                 68\n",
       "Deputy Superintendent                                    52\n",
       "Associate Superintendent                                 23\n",
       "Superintendent/President                                 21\n",
       "                                                       ... \n",
       "Assistant Superintendent Student Support Services         1\n",
       "Assistant Superintendent-Bsvc                             1\n",
       "Assistant Superintendent, Pupil Services &amp; Selpa      1\n",
       "Assistant Superintendent-Edser                            1\n",
       "Assistant Superintendent Of Instructional Services        1\n",
       "Name:  Job Title, Length: 255, dtype: int64"
      ]
     },
     "execution_count": 385,
     "metadata": {},
     "output_type": "execute_result"
    }
   ],
   "source": [
    "df[' Job Title'].value_counts()"
   ]
  },
  {
   "cell_type": "code",
   "execution_count": 386,
   "id": "bd1db5ec",
   "metadata": {},
   "outputs": [
    {
     "data": {
      "text/plain": [
       "array(['Superintendent', 'Superintendent/President',\n",
       "       'Superintendent Of Schools', 'District Superintendent',\n",
       "       'Superintendent President', 'President/Superintendent',\n",
       "       'County Superintendent Of Schl', 'Superintendent-President',\n",
       "       'Deputy Superintendent, Business Services And Operations',\n",
       "       'General Superintendent', 'Associate Superintendent',\n",
       "       'County Superintendent/Schools', 'Assistant Superintendent Moft',\n",
       "       'Deputy Superintendent - 2302', 'Street Tree Superintendent',\n",
       "       'State Park Superintendent Iii', 'Associate Superintendent - Cbo',\n",
       "       'State Park Superintendent V', 'Shops Superintendent',\n",
       "       'Deputy Superintendent Of Business Services',\n",
       "       'Assistant Superintendent',\n",
       "       'President/Superintendent Chief Executive Officer',\n",
       "       'Water Utility Superintendent', 'Deputy Superintendent',\n",
       "       'A Superintendent', 'Superintendent, Deputy',\n",
       "       'Superintendent/Presi', 'Superintendent-Cert',\n",
       "       'Interim Superintendent', 'Deputy Superintendent Of Building I',\n",
       "       'Electrical Superintendent', 'Deputy Superintendent, Busines',\n",
       "       'Asst. Superintendent Business',\n",
       "       'Associate Superintendent, Business Services',\n",
       "       'Vice President, Academic Affairs/Asst Superintendent',\n",
       "       '2900 Superintendent', 'Assistant Superintendent-Business',\n",
       "       'Assistant Superintendent Education Services',\n",
       "       'Chief Personnel Officer/Associate Superintendent',\n",
       "       'Vp Hr/Asst Superintendent',\n",
       "       'Assistant Superintendent Human Resource',\n",
       "       'Asst Superintendent Human Resc',\n",
       "       'Senior Maintenance Superintendent',\n",
       "       'Street Services General Superintendent Ii',\n",
       "       '5043 Deputy Superintendent',\n",
       "       'Street Services General Superintendent I',\n",
       "       'Interim Superintendent/President', 'County Superintendent',\n",
       "       'Asst. Superintendent/Vice Pres',\n",
       "       'Vice President, Student Services/Assistant Superintendent',\n",
       "       'Assistant Superintendent-Admin', 'Assist Superintendent-Ed Servi',\n",
       "       'Associate Superintendent, School Climate, Culture And Safety',\n",
       "       'Operations &amp; Maintenance Superintendent',\n",
       "       'Building Construction And Maintenance General Superintendent Ii',\n",
       "       'Superintendent/Principal', 'Deputy Superintendent,Business',\n",
       "       'Shift Superintendent Wastewater Treatment Ii',\n",
       "       'Asst Superintendent,Pr Sv', 'Equipment Superintendent',\n",
       "       'Local District Superintendent', 'Aa746 : Superintendent',\n",
       "       'Airport Superintendent Of Operations Ii',\n",
       "       'Public Works Superintendent', 'Power Generation Superintendent',\n",
       "       'Associate Superintendent, Human Resources',\n",
       "       'Superintendent Of Parks &amp; Golf',\n",
       "       'Asst. Superintendent Bus. Svc.', 'Asst Superintendent Bsn Servs',\n",
       "       'Assistant Superintendent Of Op', 'Assistant Superintendent Of Bu',\n",
       "       'Electric Operations Superintendent',\n",
       "       'Assistant Superintendent Innovation And Instructional Services',\n",
       "       'Ast Superintendent Ed Services', 'President / Superintendent',\n",
       "       'Park Superintendent', 'Superintendent Of Libraries',\n",
       "       'Building Construction And Maintenance Superintendent',\n",
       "       'Asst To Superintendent -Dist.',\n",
       "       'Assistant Superintendent, Ed Services',\n",
       "       'County Superintendent Of Schs', 'Associate Superintendent, Sps',\n",
       "       'Assistant Superintendent - Education Services',\n",
       "       'Assistant Superintendent - Human Resources',\n",
       "       'Superintendent Of Public Works Operations',\n",
       "       'Assistant Superintendent Personnel Services',\n",
       "       'Assistant Superintendent Of Operations',\n",
       "       'Superintendent, Asst Business', 'Deputy Superintendent, Educati',\n",
       "       'Assistant Superintendent - Business Services',\n",
       "       'Superintendent Of Recreation And Parks Operations',\n",
       "       'Assistant Superintendent-Business Services',\n",
       "       'Asst Superintendent-Business', 'Assist Superintendent - Admin',\n",
       "       'Airport Superintendent Of Operations Iii',\n",
       "       'Superintendent Of Building',\n",
       "       'Assistant Superintendent Business Services',\n",
       "       'Assistant Superintendent Educational Services',\n",
       "       'Superintendent, Probation',\n",
       "       'Assistant Superintendent, Human Resources',\n",
       "       'Water Treatment Superintendent', 'Deputy Superintendent-12',\n",
       "       'Assistant Deputy Superintendent Of Building Ii',\n",
       "       'Deputy Superintendent/Cbo', 'Street Superintendent',\n",
       "       'Vice President Instruction/Assistant Superintendent',\n",
       "       'Assist Superintendent - Hr',\n",
       "       'Assistant Superintendent Student Support Services',\n",
       "       'Airports Maintenance Superintendent',\n",
       "       'Assistant Superintendent-Bsvc',\n",
       "       'Assistant Superintendent, Pupil Services &amp; Selpa',\n",
       "       'Assistant Superintendent-Edser', 'Assistant Superintendent Bus.',\n",
       "       'Associate Superintendent, Educational Services',\n",
       "       'Acting Asst Superintendent/Vp', 'Associate Superintendent, Huma',\n",
       "       'State Park Superintendent Ii', 'Assist Superintendent - Is',\n",
       "       'Assistant Superintendent Hr',\n",
       "       'Shift Superintendent Wastewater Treatment I',\n",
       "       'Asst Superintendent-', 'Laboratory Superintendent',\n",
       "       'Associate Superintendent, Inno', 'Assoc Superintendent',\n",
       "       'Superintendent Of Pardee', 'Signal Systems Superintendent',\n",
       "       'Assist Superintendent', 'Assist Superintendent Bus Svcs',\n",
       "       'Dist Deputy Superintendent', 'Assistant Superintendent Cl',\n",
       "       'Associate Superintendent - Human Resources',\n",
       "       'Asst Superintendent/Personnel', 'Street Services Superintendent',\n",
       "       'Asst. Superintendent', 'Asst Superintendent, Inst',\n",
       "       'O&amp;M Superintendent', 'Facilities &amp; Field Superintendent',\n",
       "       'Assistant Superintendent - Hr',\n",
       "       'Assistant Superintendent Instruction/Curriculum',\n",
       "       'Field Operations Superintendent', 'Assistant Superintendent, Hr',\n",
       "       'Superintendent Of Aqueduct', 'Street Services Superintendent I',\n",
       "       'Maintenance Superintendent', 'Assistant Superintendent-Curri',\n",
       "       'Environmental Compliance Superintendent', 'Water Superintendent',\n",
       "       'Associate Superintendent, Selp', 'Superintendent/Clo',\n",
       "       'Assistant Superintendent, Business Services-Interim',\n",
       "       'Asst Superintendent Special Ed', 'Asst. Superintendent-Selpa',\n",
       "       'Asst Superintendent', 'Street Tree Superintendent I',\n",
       "       'Plant Maint Superintendent',\n",
       "       'Vice President Student Services/Assistant Superintendent',\n",
       "       'Assistant Superintendent Admin', 'Asst Superintendent-Bus Serv',\n",
       "       'Utilities Electric Superintendent',\n",
       "       'Assistant Superintendent Of Ed', 'Assist. Superintendent/Busines',\n",
       "       'Superintendent Of Community Services',\n",
       "       'Assistant Superintendent Human Resources',\n",
       "       'Hydroelectric Plant Operations Superintendent',\n",
       "       'Utilities Water Superintendent',\n",
       "       'Plant Operations Superintendent',\n",
       "       'Assistant Superintendent-Edsvc',\n",
       "       'Assistant Superintendent Business',\n",
       "       'Asst Superintendent Ed Options', 'Asst Superintendent Bus Svs',\n",
       "       'Assistant Superintendent, Human Resources Dev.',\n",
       "       'Asst Superintendent-Hr', 'SUPERINTENDENT',\n",
       "       'Street Services Superintendent Ii', 'General Srvc Superintendent',\n",
       "       'Superintendent*', 'Asst Superintendent-Ed Service',\n",
       "       'Assist Superintendent, Prob',\n",
       "       'Assistant Power Production Superintendent',\n",
       "       'Asst Superintendent Bus Serv', 'Asst Superintendent-Ed Serv',\n",
       "       'Assistant Superintendent, Early Learning Services',\n",
       "       'Asst Superintendent Of Facilit',\n",
       "       'Superintendent Of Maintenance Sv',\n",
       "       'Assistant Superintendent Of Business Services',\n",
       "       'Assist Superintendent - Educat',\n",
       "       'Assistant Superintendent Ed Services',\n",
       "       'Asst Superintendent-Spl Educ', 'Associate Superintendent-Bussv',\n",
       "       'Water Quality Superintendent', 'Gas Systems Superintendent',\n",
       "       'Assistant Superintendent Instr',\n",
       "       'Asst Superintendent-Business Services',\n",
       "       'Network Superintendent Hs',\n",
       "       'Site Superintendent, School For The Deaf',\n",
       "       'Water And Sewer Superintendent', 'Principal Superintendent',\n",
       "       'Assistant Superintendent, Pers', 'Asst. Superintendent, Ele Sch',\n",
       "       'Superintendent - Building And Safety',\n",
       "       'Water Utility Distribution Superintendent',\n",
       "       'Watershed Rescs Superintendent', 'Assistant Superintendent-Sped',\n",
       "       'Community Serv Superintendent', 'Superintendent/District Admin',\n",
       "       'Recreation Services Superintendent',\n",
       "       'Assistant Superintendent, Educational Service',\n",
       "       'Asst Superintendent Bus &amp; Ops', 'Superintendent, Assistant',\n",
       "       'Asst Superintendent-Educ Serv', 'Superintendent Community',\n",
       "       'Construction Superintendent', 'Assist Superintendent - Hr/Stu',\n",
       "       'Network Superintendent Pre-K5', 'Assist. Superintendent',\n",
       "       'Associate Superintendent Selpa',\n",
       "       'Water Utility Operations Superintendent',\n",
       "       'Asso Superintendent Es', 'Elec Utility Superintendent',\n",
       "       'Assistant Superintendent Of Bo', 'Asst Superintendent - Human Re',\n",
       "       'Street Tree Superintendent Ii', 'Asst Superintendent Admin Svc',\n",
       "       'Chief Of Staff To The Superintendent',\n",
       "       'Environmental Utilities Maintenance Superintendent',\n",
       "       'District Superintendent Ii, Department Of Parks And Recreation',\n",
       "       'Water Reclamation Operations Superintendent',\n",
       "       'Asst. Superintendent Of Educat', 'Pw Superintendent',\n",
       "       'Distribution System Superintendent',\n",
       "       'Fleet Services Superintendent', 'Public Services Superintendent',\n",
       "       'Assistant Superintendent, Ed. Services',\n",
       "       'State Park Superintendent Iv', '2021 Assistant Superintendent Hr',\n",
       "       '3002 Asst Superintendent Cert', 'Chief Deputy Superintendent',\n",
       "       'Assistant Superintendent Cbo', 'Acting Superintendent',\n",
       "       'Water Operations Superintendent',\n",
       "       'Assistant Superintendent/Admin', 'Superintendent-1',\n",
       "       'Assistant Superintendent- Hr', 'Asst Superintendent Ed Svc',\n",
       "       'Water Systems Operations Superintendent',\n",
       "       'Superintendent Facilities Ops', 'Asst Superintendent Aqueduct',\n",
       "       'Superintendent-District', 'Assistant Superintendent, Sss',\n",
       "       'Operations Superintendent',\n",
       "       'General Superintendent - Development Services',\n",
       "       'Associate Superintendent - Curriculum',\n",
       "       'Utility Maintenance Superintendent',\n",
       "       'Administrative Services Assistant Superintendent',\n",
       "       'Assistant Superintendent Of Instructional Services', nan],\n",
       "      dtype=object)"
      ]
     },
     "execution_count": 386,
     "metadata": {},
     "output_type": "execute_result"
    }
   ],
   "source": [
    "df[' Job Title'].unique()"
   ]
  },
  {
   "cell_type": "code",
   "execution_count": 387,
   "id": "f8cc561b",
   "metadata": {},
   "outputs": [
    {
     "data": {
      "text/plain": [
       "(490, 10)"
      ]
     },
     "execution_count": 387,
     "metadata": {},
     "output_type": "execute_result"
    }
   ],
   "source": [
    "titles = ['Superintendent', 'Superintendent/President',\n",
    "       'Superintendent Of Schools', 'District Superintendent',\n",
    "       'Superintendent President', 'President/Superintendent',\n",
    "       'County Superintendent Of Schl', 'Superintendent-President', 'Superintendent-District']\n",
    "\n",
    "df = df[df[' Job Title'].isin(titles)].reset_index().drop(columns=['index'])\n",
    "df.drop(columns= ' Job Title', axis=1, inplace=True)\n",
    "df.shape"
   ]
  },
  {
   "cell_type": "code",
   "execution_count": 388,
   "id": "3af35fa9",
   "metadata": {},
   "outputs": [
    {
     "data": {
      "text/plain": [
       "Index(['Employee Name', ' Base Pay', ' Overtime Pay', ' Other Pay',\n",
       "       ' Benefits', ' Total Pay & Benefits', ' Year', ' Notes', ' Agency',\n",
       "       ' Status'],\n",
       "      dtype='object')"
      ]
     },
     "execution_count": 388,
     "metadata": {},
     "output_type": "execute_result"
    }
   ],
   "source": [
    "df.columns"
   ]
  },
  {
   "cell_type": "code",
   "execution_count": 389,
   "id": "22a429cc",
   "metadata": {},
   "outputs": [
    {
     "data": {
      "text/plain": [
       " Notes\n",
       "None    490\n",
       "dtype: int64"
      ]
     },
     "execution_count": 389,
     "metadata": {},
     "output_type": "execute_result"
    }
   ],
   "source": [
    "df.value_counts(' Notes')"
   ]
  },
  {
   "cell_type": "code",
   "execution_count": 390,
   "id": "8606a9b0",
   "metadata": {},
   "outputs": [],
   "source": [
    "df.drop(columns= ' Notes', axis=1, inplace=True)"
   ]
  },
  {
   "cell_type": "code",
   "execution_count": 391,
   "id": "5d3ce968",
   "metadata": {},
   "outputs": [
    {
     "data": {
      "text/plain": [
       "2020.0    490\n",
       "Name:  Year, dtype: int64"
      ]
     },
     "execution_count": 391,
     "metadata": {},
     "output_type": "execute_result"
    }
   ],
   "source": [
    "df[' Year'].value_counts()"
   ]
  },
  {
   "cell_type": "code",
   "execution_count": 392,
   "id": "6c7a3fcc",
   "metadata": {},
   "outputs": [],
   "source": [
    "df.drop(columns= ' Year', axis=1, inplace=True)"
   ]
  },
  {
   "cell_type": "code",
   "execution_count": 393,
   "id": "ef1ebe0b",
   "metadata": {},
   "outputs": [
    {
     "data": {
      "text/plain": [
       "Index(['Employee Name', ' Base Pay', ' Overtime Pay', ' Other Pay',\n",
       "       ' Benefits', ' Total Pay & Benefits', ' Agency', ' Status'],\n",
       "      dtype='object')"
      ]
     },
     "execution_count": 393,
     "metadata": {},
     "output_type": "execute_result"
    }
   ],
   "source": [
    "df.columns"
   ]
  },
  {
   "cell_type": "code",
   "execution_count": 394,
   "id": "b0e52522",
   "metadata": {},
   "outputs": [
    {
     "data": {
      "text/plain": [
       "Series([], dtype: int64)"
      ]
     },
     "execution_count": 394,
     "metadata": {},
     "output_type": "execute_result"
    }
   ],
   "source": [
    "df.value_counts(' Status')"
   ]
  },
  {
   "cell_type": "code",
   "execution_count": 395,
   "id": "f01f8e83",
   "metadata": {},
   "outputs": [
    {
     "data": {
      "text/plain": [
       "Employee Name             object\n",
       " Base Pay                float64\n",
       " Overtime Pay            float64\n",
       " Other Pay               float64\n",
       " Benefits                float64\n",
       " Total Pay & Benefits    float64\n",
       " Agency                   object\n",
       " Status                   object\n",
       "dtype: object"
      ]
     },
     "execution_count": 395,
     "metadata": {},
     "output_type": "execute_result"
    }
   ],
   "source": [
    "df.dtypes"
   ]
  },
  {
   "cell_type": "code",
   "execution_count": 396,
   "id": "06ff3382",
   "metadata": {},
   "outputs": [
    {
     "data": {
      "text/plain": [
       "490"
      ]
     },
     "execution_count": 396,
     "metadata": {},
     "output_type": "execute_result"
    }
   ],
   "source": [
    "df[' Status'].isna().sum()"
   ]
  },
  {
   "cell_type": "code",
   "execution_count": 397,
   "id": "08879ae1",
   "metadata": {},
   "outputs": [
    {
     "data": {
      "text/html": [
       "<div>\n",
       "<style scoped>\n",
       "    .dataframe tbody tr th:only-of-type {\n",
       "        vertical-align: middle;\n",
       "    }\n",
       "\n",
       "    .dataframe tbody tr th {\n",
       "        vertical-align: top;\n",
       "    }\n",
       "\n",
       "    .dataframe thead th {\n",
       "        text-align: right;\n",
       "    }\n",
       "</style>\n",
       "<table border=\"1\" class=\"dataframe\">\n",
       "  <thead>\n",
       "    <tr style=\"text-align: right;\">\n",
       "      <th></th>\n",
       "      <th>Employee Name</th>\n",
       "      <th>Base Pay</th>\n",
       "      <th>Overtime Pay</th>\n",
       "      <th>Other Pay</th>\n",
       "      <th>Benefits</th>\n",
       "      <th>Total Pay &amp; Benefits</th>\n",
       "      <th>Agency</th>\n",
       "      <th>Status</th>\n",
       "    </tr>\n",
       "  </thead>\n",
       "  <tbody>\n",
       "    <tr>\n",
       "      <th>0</th>\n",
       "      <td>James Hammond</td>\n",
       "      <td>355285.00</td>\n",
       "      <td>0.0</td>\n",
       "      <td>197112.00</td>\n",
       "      <td>167573.00</td>\n",
       "      <td>719970.00</td>\n",
       "      <td>Ontario-Montclair</td>\n",
       "      <td>NaN</td>\n",
       "    </tr>\n",
       "    <tr>\n",
       "      <th>1</th>\n",
       "      <td>Craig M Guensler</td>\n",
       "      <td>233539.86</td>\n",
       "      <td>0.0</td>\n",
       "      <td>10099.42</td>\n",
       "      <td>342424.16</td>\n",
       "      <td>586063.44</td>\n",
       "      <td>Wheatland Union High</td>\n",
       "      <td>NaN</td>\n",
       "    </tr>\n",
       "    <tr>\n",
       "      <th>2</th>\n",
       "      <td>Michael Lin</td>\n",
       "      <td>398979.02</td>\n",
       "      <td>0.0</td>\n",
       "      <td>57050.69</td>\n",
       "      <td>80208.48</td>\n",
       "      <td>536238.19</td>\n",
       "      <td>Corona-Norco Unified</td>\n",
       "      <td>NaN</td>\n",
       "    </tr>\n",
       "    <tr>\n",
       "      <th>3</th>\n",
       "      <td>Joel Lee Kinnamon</td>\n",
       "      <td>399006.00</td>\n",
       "      <td>0.0</td>\n",
       "      <td>60457.00</td>\n",
       "      <td>66557.00</td>\n",
       "      <td>526020.00</td>\n",
       "      <td>College of the Desert</td>\n",
       "      <td>NaN</td>\n",
       "    </tr>\n",
       "    <tr>\n",
       "      <th>4</th>\n",
       "      <td>Mary E Streshly</td>\n",
       "      <td>192784.38</td>\n",
       "      <td>0.0</td>\n",
       "      <td>259544.88</td>\n",
       "      <td>66560.32</td>\n",
       "      <td>518889.58</td>\n",
       "      <td>Sequoia Union High</td>\n",
       "      <td>NaN</td>\n",
       "    </tr>\n",
       "    <tr>\n",
       "      <th>...</th>\n",
       "      <td>...</td>\n",
       "      <td>...</td>\n",
       "      <td>...</td>\n",
       "      <td>...</td>\n",
       "      <td>...</td>\n",
       "      <td>...</td>\n",
       "      <td>...</td>\n",
       "      <td>...</td>\n",
       "    </tr>\n",
       "    <tr>\n",
       "      <th>485</th>\n",
       "      <td>Daniel E Moore</td>\n",
       "      <td>171437.52</td>\n",
       "      <td>0.0</td>\n",
       "      <td>7500.00</td>\n",
       "      <td>46002.28</td>\n",
       "      <td>224939.80</td>\n",
       "      <td>Banta Unified</td>\n",
       "      <td>NaN</td>\n",
       "    </tr>\n",
       "    <tr>\n",
       "      <th>486</th>\n",
       "      <td>Cheryl L Olson</td>\n",
       "      <td>186381.54</td>\n",
       "      <td>0.0</td>\n",
       "      <td>0.00</td>\n",
       "      <td>38463.54</td>\n",
       "      <td>224845.08</td>\n",
       "      <td>Rescue Union Elementary</td>\n",
       "      <td>NaN</td>\n",
       "    </tr>\n",
       "    <tr>\n",
       "      <th>487</th>\n",
       "      <td>Matthew Reno</td>\n",
       "      <td>171531.54</td>\n",
       "      <td>0.0</td>\n",
       "      <td>14221.80</td>\n",
       "      <td>38898.40</td>\n",
       "      <td>224651.74</td>\n",
       "      <td>Alexander Valley Union Elementary</td>\n",
       "      <td>NaN</td>\n",
       "    </tr>\n",
       "    <tr>\n",
       "      <th>488</th>\n",
       "      <td>Carol Lynne Hume</td>\n",
       "      <td>174545.00</td>\n",
       "      <td>0.0</td>\n",
       "      <td>420.00</td>\n",
       "      <td>48709.22</td>\n",
       "      <td>223674.22</td>\n",
       "      <td>Coastline ROP</td>\n",
       "      <td>NaN</td>\n",
       "    </tr>\n",
       "    <tr>\n",
       "      <th>489</th>\n",
       "      <td>Shannon M Sanford</td>\n",
       "      <td>178585.00</td>\n",
       "      <td>0.0</td>\n",
       "      <td>4800.00</td>\n",
       "      <td>40212.00</td>\n",
       "      <td>223597.00</td>\n",
       "      <td>Stanislaus Union Elementary</td>\n",
       "      <td>NaN</td>\n",
       "    </tr>\n",
       "  </tbody>\n",
       "</table>\n",
       "<p>490 rows × 8 columns</p>\n",
       "</div>"
      ],
      "text/plain": [
       "         Employee Name   Base Pay   Overtime Pay   Other Pay   Benefits  \\\n",
       "0        James Hammond  355285.00            0.0   197112.00  167573.00   \n",
       "1     Craig M Guensler  233539.86            0.0    10099.42  342424.16   \n",
       "2          Michael Lin  398979.02            0.0    57050.69   80208.48   \n",
       "3    Joel Lee Kinnamon  399006.00            0.0    60457.00   66557.00   \n",
       "4      Mary E Streshly  192784.38            0.0   259544.88   66560.32   \n",
       "..                 ...        ...            ...         ...        ...   \n",
       "485     Daniel E Moore  171437.52            0.0     7500.00   46002.28   \n",
       "486     Cheryl L Olson  186381.54            0.0        0.00   38463.54   \n",
       "487       Matthew Reno  171531.54            0.0    14221.80   38898.40   \n",
       "488   Carol Lynne Hume  174545.00            0.0      420.00   48709.22   \n",
       "489  Shannon M Sanford  178585.00            0.0     4800.00   40212.00   \n",
       "\n",
       "      Total Pay & Benefits                             Agency  Status  \n",
       "0                719970.00                  Ontario-Montclair     NaN  \n",
       "1                586063.44               Wheatland Union High     NaN  \n",
       "2                536238.19               Corona-Norco Unified     NaN  \n",
       "3                526020.00              College of the Desert     NaN  \n",
       "4                518889.58                 Sequoia Union High     NaN  \n",
       "..                     ...                                ...     ...  \n",
       "485              224939.80                      Banta Unified     NaN  \n",
       "486              224845.08            Rescue Union Elementary     NaN  \n",
       "487              224651.74  Alexander Valley Union Elementary     NaN  \n",
       "488              223674.22                      Coastline ROP     NaN  \n",
       "489              223597.00        Stanislaus Union Elementary     NaN  \n",
       "\n",
       "[490 rows x 8 columns]"
      ]
     },
     "execution_count": 397,
     "metadata": {},
     "output_type": "execute_result"
    }
   ],
   "source": [
    "df"
   ]
  },
  {
   "cell_type": "code",
   "execution_count": 398,
   "id": "dbe50c01",
   "metadata": {},
   "outputs": [
    {
     "data": {
      "text/plain": [
       "'Craig M Guensler'"
      ]
     },
     "execution_count": 398,
     "metadata": {},
     "output_type": "execute_result"
    }
   ],
   "source": [
    "df['Employee Name'].iloc[1]"
   ]
  },
  {
   "cell_type": "code",
   "execution_count": 399,
   "id": "1c9f682a",
   "metadata": {},
   "outputs": [
    {
     "data": {
      "text/html": [
       "<div>\n",
       "<style scoped>\n",
       "    .dataframe tbody tr th:only-of-type {\n",
       "        vertical-align: middle;\n",
       "    }\n",
       "\n",
       "    .dataframe tbody tr th {\n",
       "        vertical-align: top;\n",
       "    }\n",
       "\n",
       "    .dataframe thead th {\n",
       "        text-align: right;\n",
       "    }\n",
       "</style>\n",
       "<table border=\"1\" class=\"dataframe\">\n",
       "  <thead>\n",
       "    <tr style=\"text-align: right;\">\n",
       "      <th></th>\n",
       "      <th>Employee Name</th>\n",
       "      <th>Base Pay</th>\n",
       "      <th>Overtime Pay</th>\n",
       "      <th>Other Pay</th>\n",
       "      <th>Benefits</th>\n",
       "      <th>Total Pay &amp; Benefits</th>\n",
       "      <th>Agency</th>\n",
       "      <th>Status</th>\n",
       "    </tr>\n",
       "  </thead>\n",
       "  <tbody>\n",
       "    <tr>\n",
       "      <th>1</th>\n",
       "      <td>Craig M Guensler</td>\n",
       "      <td>233539.86</td>\n",
       "      <td>0.0</td>\n",
       "      <td>10099.42</td>\n",
       "      <td>342424.16</td>\n",
       "      <td>586063.44</td>\n",
       "      <td>Wheatland Union High</td>\n",
       "      <td>NaN</td>\n",
       "    </tr>\n",
       "    <tr>\n",
       "      <th>257</th>\n",
       "      <td>Craig M Guensler</td>\n",
       "      <td>233539.86</td>\n",
       "      <td>0.0</td>\n",
       "      <td>10099.42</td>\n",
       "      <td>49392.44</td>\n",
       "      <td>293031.72</td>\n",
       "      <td>Wheatland School District</td>\n",
       "      <td>NaN</td>\n",
       "    </tr>\n",
       "  </tbody>\n",
       "</table>\n",
       "</div>"
      ],
      "text/plain": [
       "        Employee Name   Base Pay   Overtime Pay   Other Pay   Benefits  \\\n",
       "1    Craig M Guensler  233539.86            0.0    10099.42  342424.16   \n",
       "257  Craig M Guensler  233539.86            0.0    10099.42   49392.44   \n",
       "\n",
       "      Total Pay & Benefits                     Agency  Status  \n",
       "1                586063.44       Wheatland Union High     NaN  \n",
       "257              293031.72  Wheatland School District     NaN  "
      ]
     },
     "execution_count": 399,
     "metadata": {},
     "output_type": "execute_result"
    }
   ],
   "source": [
    "df[df['Employee Name'] == 'Craig M Guensler']"
   ]
  },
  {
   "cell_type": "code",
   "execution_count": 400,
   "id": "93f5eaba",
   "metadata": {},
   "outputs": [
    {
     "data": {
      "text/html": [
       "<div>\n",
       "<style scoped>\n",
       "    .dataframe tbody tr th:only-of-type {\n",
       "        vertical-align: middle;\n",
       "    }\n",
       "\n",
       "    .dataframe tbody tr th {\n",
       "        vertical-align: top;\n",
       "    }\n",
       "\n",
       "    .dataframe thead th {\n",
       "        text-align: right;\n",
       "    }\n",
       "</style>\n",
       "<table border=\"1\" class=\"dataframe\">\n",
       "  <thead>\n",
       "    <tr style=\"text-align: right;\">\n",
       "      <th></th>\n",
       "      <th>Employee Name</th>\n",
       "      <th>Base Pay</th>\n",
       "      <th>Overtime Pay</th>\n",
       "      <th>Other Pay</th>\n",
       "      <th>Benefits</th>\n",
       "      <th>Total Pay &amp; Benefits</th>\n",
       "      <th>Agency</th>\n",
       "      <th>Status</th>\n",
       "    </tr>\n",
       "  </thead>\n",
       "  <tbody>\n",
       "    <tr>\n",
       "      <th>48</th>\n",
       "      <td>Not Provided</td>\n",
       "      <td>310000.00</td>\n",
       "      <td>0.0</td>\n",
       "      <td>18500.00</td>\n",
       "      <td>70866.00</td>\n",
       "      <td>399366.00</td>\n",
       "      <td>Glendale Unified</td>\n",
       "      <td>NaN</td>\n",
       "    </tr>\n",
       "    <tr>\n",
       "      <th>222</th>\n",
       "      <td>Not Provided</td>\n",
       "      <td>134238.15</td>\n",
       "      <td>0.0</td>\n",
       "      <td>150228.55</td>\n",
       "      <td>20443.45</td>\n",
       "      <td>304910.15</td>\n",
       "      <td>Hayward Unified</td>\n",
       "      <td>NaN</td>\n",
       "    </tr>\n",
       "    <tr>\n",
       "      <th>265</th>\n",
       "      <td>Not Provided</td>\n",
       "      <td>227718.66</td>\n",
       "      <td>0.0</td>\n",
       "      <td>6000.00</td>\n",
       "      <td>57150.11</td>\n",
       "      <td>290868.77</td>\n",
       "      <td>Lincoln Unified</td>\n",
       "      <td>NaN</td>\n",
       "    </tr>\n",
       "  </tbody>\n",
       "</table>\n",
       "</div>"
      ],
      "text/plain": [
       "    Employee Name   Base Pay   Overtime Pay   Other Pay   Benefits  \\\n",
       "48   Not Provided  310000.00            0.0    18500.00   70866.00   \n",
       "222  Not Provided  134238.15            0.0   150228.55   20443.45   \n",
       "265  Not Provided  227718.66            0.0     6000.00   57150.11   \n",
       "\n",
       "      Total Pay & Benefits            Agency  Status  \n",
       "48               399366.00  Glendale Unified     NaN  \n",
       "222              304910.15   Hayward Unified     NaN  \n",
       "265              290868.77   Lincoln Unified     NaN  "
      ]
     },
     "execution_count": 400,
     "metadata": {},
     "output_type": "execute_result"
    }
   ],
   "source": [
    "df[df['Employee Name'] == 'Not Provided']"
   ]
  },
  {
   "cell_type": "code",
   "execution_count": 401,
   "id": "54726299",
   "metadata": {},
   "outputs": [
    {
     "data": {
      "text/plain": [
       "Not Provided            3\n",
       "Craig M Guensler        2\n",
       "Michael R Watenpaugh    2\n",
       "Krystal K Lomanto       2\n",
       "Adela Jones             1\n",
       "                       ..\n",
       "Kimberly Mae Fricker    1\n",
       "Stacy L McAfee          1\n",
       "Juan Cruz               1\n",
       "Kimberly M Berman       1\n",
       "Shannon M Sanford       1\n",
       "Name: Employee Name, Length: 485, dtype: int64"
      ]
     },
     "execution_count": 401,
     "metadata": {},
     "output_type": "execute_result"
    }
   ],
   "source": [
    "df['Employee Name'].value_counts()"
   ]
  },
  {
   "cell_type": "code",
   "execution_count": 402,
   "id": "7bb3146f",
   "metadata": {},
   "outputs": [],
   "source": [
    "# Drop status \n",
    "# Remove duplicate rows\n",
    "# Combine base pay + overtime pay\n",
    "# consider deleting benefits "
   ]
  },
  {
   "cell_type": "code",
   "execution_count": 403,
   "id": "b7f53ded",
   "metadata": {},
   "outputs": [
    {
     "data": {
      "text/html": [
       "<div>\n",
       "<style scoped>\n",
       "    .dataframe tbody tr th:only-of-type {\n",
       "        vertical-align: middle;\n",
       "    }\n",
       "\n",
       "    .dataframe tbody tr th {\n",
       "        vertical-align: top;\n",
       "    }\n",
       "\n",
       "    .dataframe thead th {\n",
       "        text-align: right;\n",
       "    }\n",
       "</style>\n",
       "<table border=\"1\" class=\"dataframe\">\n",
       "  <thead>\n",
       "    <tr style=\"text-align: right;\">\n",
       "      <th></th>\n",
       "      <th>Employee Name</th>\n",
       "      <th>Base Pay</th>\n",
       "      <th>Overtime Pay</th>\n",
       "      <th>Other Pay</th>\n",
       "      <th>Benefits</th>\n",
       "      <th>Total Pay &amp; Benefits</th>\n",
       "      <th>Agency</th>\n",
       "      <th>Status</th>\n",
       "    </tr>\n",
       "  </thead>\n",
       "  <tbody>\n",
       "    <tr>\n",
       "      <th>271</th>\n",
       "      <td>Michael R Watenpaugh</td>\n",
       "      <td>226763.27</td>\n",
       "      <td>0.0</td>\n",
       "      <td>5624.63</td>\n",
       "      <td>56979.68</td>\n",
       "      <td>289367.58</td>\n",
       "      <td>Cotati-Rohnert Park Unified</td>\n",
       "      <td>NaN</td>\n",
       "    </tr>\n",
       "    <tr>\n",
       "      <th>383</th>\n",
       "      <td>Michael R Watenpaugh</td>\n",
       "      <td>172581.20</td>\n",
       "      <td>0.0</td>\n",
       "      <td>34222.00</td>\n",
       "      <td>45477.13</td>\n",
       "      <td>252280.33</td>\n",
       "      <td>San Rafael City High</td>\n",
       "      <td>NaN</td>\n",
       "    </tr>\n",
       "  </tbody>\n",
       "</table>\n",
       "</div>"
      ],
      "text/plain": [
       "            Employee Name   Base Pay   Overtime Pay   Other Pay   Benefits  \\\n",
       "271  Michael R Watenpaugh  226763.27            0.0     5624.63   56979.68   \n",
       "383  Michael R Watenpaugh  172581.20            0.0    34222.00   45477.13   \n",
       "\n",
       "      Total Pay & Benefits                       Agency  Status  \n",
       "271              289367.58  Cotati-Rohnert Park Unified     NaN  \n",
       "383              252280.33         San Rafael City High     NaN  "
      ]
     },
     "execution_count": 403,
     "metadata": {},
     "output_type": "execute_result"
    }
   ],
   "source": [
    "df[df['Employee Name'] == 'Michael R Watenpaugh']"
   ]
  },
  {
   "cell_type": "code",
   "execution_count": 404,
   "id": "7bfcc51a",
   "metadata": {},
   "outputs": [
    {
     "data": {
      "text/html": [
       "<div>\n",
       "<style scoped>\n",
       "    .dataframe tbody tr th:only-of-type {\n",
       "        vertical-align: middle;\n",
       "    }\n",
       "\n",
       "    .dataframe tbody tr th {\n",
       "        vertical-align: top;\n",
       "    }\n",
       "\n",
       "    .dataframe thead th {\n",
       "        text-align: right;\n",
       "    }\n",
       "</style>\n",
       "<table border=\"1\" class=\"dataframe\">\n",
       "  <thead>\n",
       "    <tr style=\"text-align: right;\">\n",
       "      <th></th>\n",
       "      <th>Employee Name</th>\n",
       "      <th>Base Pay</th>\n",
       "      <th>Overtime Pay</th>\n",
       "      <th>Other Pay</th>\n",
       "      <th>Benefits</th>\n",
       "      <th>Total Pay &amp; Benefits</th>\n",
       "      <th>Agency</th>\n",
       "      <th>Status</th>\n",
       "    </tr>\n",
       "  </thead>\n",
       "  <tbody>\n",
       "    <tr>\n",
       "      <th>478</th>\n",
       "      <td>Krystal K Lomanto</td>\n",
       "      <td>179345.16</td>\n",
       "      <td>0.0</td>\n",
       "      <td>2160.0</td>\n",
       "      <td>45228.24</td>\n",
       "      <td>226733.4</td>\n",
       "      <td>San Benito High</td>\n",
       "      <td>NaN</td>\n",
       "    </tr>\n",
       "    <tr>\n",
       "      <th>479</th>\n",
       "      <td>Krystal K Lomanto</td>\n",
       "      <td>179345.16</td>\n",
       "      <td>0.0</td>\n",
       "      <td>2160.0</td>\n",
       "      <td>45228.24</td>\n",
       "      <td>226733.4</td>\n",
       "      <td>San Benito County Office of Education</td>\n",
       "      <td>NaN</td>\n",
       "    </tr>\n",
       "  </tbody>\n",
       "</table>\n",
       "</div>"
      ],
      "text/plain": [
       "         Employee Name   Base Pay   Overtime Pay   Other Pay   Benefits  \\\n",
       "478  Krystal K Lomanto  179345.16            0.0      2160.0   45228.24   \n",
       "479  Krystal K Lomanto  179345.16            0.0      2160.0   45228.24   \n",
       "\n",
       "      Total Pay & Benefits                                 Agency  Status  \n",
       "478               226733.4                        San Benito High     NaN  \n",
       "479               226733.4  San Benito County Office of Education     NaN  "
      ]
     },
     "execution_count": 404,
     "metadata": {},
     "output_type": "execute_result"
    }
   ],
   "source": [
    "df[df['Employee Name'] == 'Krystal K Lomanto']"
   ]
  },
  {
   "cell_type": "code",
   "execution_count": 405,
   "id": "008e899a",
   "metadata": {},
   "outputs": [],
   "source": [
    "df.drop(df.index[478], inplace=True)"
   ]
  },
  {
   "cell_type": "code",
   "execution_count": 406,
   "id": "927f684a",
   "metadata": {},
   "outputs": [
    {
     "data": {
      "text/html": [
       "<div>\n",
       "<style scoped>\n",
       "    .dataframe tbody tr th:only-of-type {\n",
       "        vertical-align: middle;\n",
       "    }\n",
       "\n",
       "    .dataframe tbody tr th {\n",
       "        vertical-align: top;\n",
       "    }\n",
       "\n",
       "    .dataframe thead th {\n",
       "        text-align: right;\n",
       "    }\n",
       "</style>\n",
       "<table border=\"1\" class=\"dataframe\">\n",
       "  <thead>\n",
       "    <tr style=\"text-align: right;\">\n",
       "      <th></th>\n",
       "      <th>Employee Name</th>\n",
       "      <th>Base Pay</th>\n",
       "      <th>Overtime Pay</th>\n",
       "      <th>Other Pay</th>\n",
       "      <th>Benefits</th>\n",
       "      <th>Total Pay &amp; Benefits</th>\n",
       "      <th>Agency</th>\n",
       "      <th>Status</th>\n",
       "    </tr>\n",
       "  </thead>\n",
       "  <tbody>\n",
       "    <tr>\n",
       "      <th>479</th>\n",
       "      <td>Krystal K Lomanto</td>\n",
       "      <td>179345.16</td>\n",
       "      <td>0.0</td>\n",
       "      <td>2160.0</td>\n",
       "      <td>45228.24</td>\n",
       "      <td>226733.4</td>\n",
       "      <td>San Benito County Office of Education</td>\n",
       "      <td>NaN</td>\n",
       "    </tr>\n",
       "  </tbody>\n",
       "</table>\n",
       "</div>"
      ],
      "text/plain": [
       "         Employee Name   Base Pay   Overtime Pay   Other Pay   Benefits  \\\n",
       "479  Krystal K Lomanto  179345.16            0.0      2160.0   45228.24   \n",
       "\n",
       "      Total Pay & Benefits                                 Agency  Status  \n",
       "479               226733.4  San Benito County Office of Education     NaN  "
      ]
     },
     "execution_count": 406,
     "metadata": {},
     "output_type": "execute_result"
    }
   ],
   "source": [
    "df[df['Employee Name'] == 'Krystal K Lomanto']"
   ]
  },
  {
   "cell_type": "code",
   "execution_count": 407,
   "id": "c848f3df",
   "metadata": {},
   "outputs": [
    {
     "data": {
      "text/plain": [
       "(489, 8)"
      ]
     },
     "execution_count": 407,
     "metadata": {},
     "output_type": "execute_result"
    }
   ],
   "source": [
    "df.shape"
   ]
  },
  {
   "cell_type": "code",
   "execution_count": 408,
   "id": "b72c650b",
   "metadata": {},
   "outputs": [
    {
     "data": {
      "text/plain": [
       "489"
      ]
     },
     "execution_count": 408,
     "metadata": {},
     "output_type": "execute_result"
    }
   ],
   "source": [
    "df[' Status'].isna().sum()"
   ]
  },
  {
   "cell_type": "code",
   "execution_count": 409,
   "id": "de64fad1",
   "metadata": {},
   "outputs": [],
   "source": [
    "df.drop(columns=[' Status', 'Employee Name'], inplace=True)"
   ]
  },
  {
   "cell_type": "code",
   "execution_count": 410,
   "id": "1a52b814",
   "metadata": {},
   "outputs": [
    {
     "data": {
      "text/html": [
       "<div>\n",
       "<style scoped>\n",
       "    .dataframe tbody tr th:only-of-type {\n",
       "        vertical-align: middle;\n",
       "    }\n",
       "\n",
       "    .dataframe tbody tr th {\n",
       "        vertical-align: top;\n",
       "    }\n",
       "\n",
       "    .dataframe thead th {\n",
       "        text-align: right;\n",
       "    }\n",
       "</style>\n",
       "<table border=\"1\" class=\"dataframe\">\n",
       "  <thead>\n",
       "    <tr style=\"text-align: right;\">\n",
       "      <th></th>\n",
       "      <th>Base Pay</th>\n",
       "      <th>Overtime Pay</th>\n",
       "      <th>Other Pay</th>\n",
       "      <th>Benefits</th>\n",
       "      <th>Total Pay &amp; Benefits</th>\n",
       "      <th>Agency</th>\n",
       "    </tr>\n",
       "  </thead>\n",
       "  <tbody>\n",
       "    <tr>\n",
       "      <th>0</th>\n",
       "      <td>355285.00</td>\n",
       "      <td>0.0</td>\n",
       "      <td>197112.00</td>\n",
       "      <td>167573.00</td>\n",
       "      <td>719970.00</td>\n",
       "      <td>Ontario-Montclair</td>\n",
       "    </tr>\n",
       "    <tr>\n",
       "      <th>1</th>\n",
       "      <td>233539.86</td>\n",
       "      <td>0.0</td>\n",
       "      <td>10099.42</td>\n",
       "      <td>342424.16</td>\n",
       "      <td>586063.44</td>\n",
       "      <td>Wheatland Union High</td>\n",
       "    </tr>\n",
       "    <tr>\n",
       "      <th>2</th>\n",
       "      <td>398979.02</td>\n",
       "      <td>0.0</td>\n",
       "      <td>57050.69</td>\n",
       "      <td>80208.48</td>\n",
       "      <td>536238.19</td>\n",
       "      <td>Corona-Norco Unified</td>\n",
       "    </tr>\n",
       "    <tr>\n",
       "      <th>3</th>\n",
       "      <td>399006.00</td>\n",
       "      <td>0.0</td>\n",
       "      <td>60457.00</td>\n",
       "      <td>66557.00</td>\n",
       "      <td>526020.00</td>\n",
       "      <td>College of the Desert</td>\n",
       "    </tr>\n",
       "    <tr>\n",
       "      <th>4</th>\n",
       "      <td>192784.38</td>\n",
       "      <td>0.0</td>\n",
       "      <td>259544.88</td>\n",
       "      <td>66560.32</td>\n",
       "      <td>518889.58</td>\n",
       "      <td>Sequoia Union High</td>\n",
       "    </tr>\n",
       "    <tr>\n",
       "      <th>...</th>\n",
       "      <td>...</td>\n",
       "      <td>...</td>\n",
       "      <td>...</td>\n",
       "      <td>...</td>\n",
       "      <td>...</td>\n",
       "      <td>...</td>\n",
       "    </tr>\n",
       "    <tr>\n",
       "      <th>485</th>\n",
       "      <td>171437.52</td>\n",
       "      <td>0.0</td>\n",
       "      <td>7500.00</td>\n",
       "      <td>46002.28</td>\n",
       "      <td>224939.80</td>\n",
       "      <td>Banta Unified</td>\n",
       "    </tr>\n",
       "    <tr>\n",
       "      <th>486</th>\n",
       "      <td>186381.54</td>\n",
       "      <td>0.0</td>\n",
       "      <td>0.00</td>\n",
       "      <td>38463.54</td>\n",
       "      <td>224845.08</td>\n",
       "      <td>Rescue Union Elementary</td>\n",
       "    </tr>\n",
       "    <tr>\n",
       "      <th>487</th>\n",
       "      <td>171531.54</td>\n",
       "      <td>0.0</td>\n",
       "      <td>14221.80</td>\n",
       "      <td>38898.40</td>\n",
       "      <td>224651.74</td>\n",
       "      <td>Alexander Valley Union Elementary</td>\n",
       "    </tr>\n",
       "    <tr>\n",
       "      <th>488</th>\n",
       "      <td>174545.00</td>\n",
       "      <td>0.0</td>\n",
       "      <td>420.00</td>\n",
       "      <td>48709.22</td>\n",
       "      <td>223674.22</td>\n",
       "      <td>Coastline ROP</td>\n",
       "    </tr>\n",
       "    <tr>\n",
       "      <th>489</th>\n",
       "      <td>178585.00</td>\n",
       "      <td>0.0</td>\n",
       "      <td>4800.00</td>\n",
       "      <td>40212.00</td>\n",
       "      <td>223597.00</td>\n",
       "      <td>Stanislaus Union Elementary</td>\n",
       "    </tr>\n",
       "  </tbody>\n",
       "</table>\n",
       "<p>489 rows × 6 columns</p>\n",
       "</div>"
      ],
      "text/plain": [
       "      Base Pay   Overtime Pay   Other Pay   Benefits   Total Pay & Benefits  \\\n",
       "0    355285.00            0.0   197112.00  167573.00              719970.00   \n",
       "1    233539.86            0.0    10099.42  342424.16              586063.44   \n",
       "2    398979.02            0.0    57050.69   80208.48              536238.19   \n",
       "3    399006.00            0.0    60457.00   66557.00              526020.00   \n",
       "4    192784.38            0.0   259544.88   66560.32              518889.58   \n",
       "..         ...            ...         ...        ...                    ...   \n",
       "485  171437.52            0.0     7500.00   46002.28              224939.80   \n",
       "486  186381.54            0.0        0.00   38463.54              224845.08   \n",
       "487  171531.54            0.0    14221.80   38898.40              224651.74   \n",
       "488  174545.00            0.0      420.00   48709.22              223674.22   \n",
       "489  178585.00            0.0     4800.00   40212.00              223597.00   \n",
       "\n",
       "                                Agency  \n",
       "0                    Ontario-Montclair  \n",
       "1                 Wheatland Union High  \n",
       "2                 Corona-Norco Unified  \n",
       "3                College of the Desert  \n",
       "4                   Sequoia Union High  \n",
       "..                                 ...  \n",
       "485                      Banta Unified  \n",
       "486            Rescue Union Elementary  \n",
       "487  Alexander Valley Union Elementary  \n",
       "488                      Coastline ROP  \n",
       "489        Stanislaus Union Elementary  \n",
       "\n",
       "[489 rows x 6 columns]"
      ]
     },
     "execution_count": 410,
     "metadata": {},
     "output_type": "execute_result"
    }
   ],
   "source": [
    "df"
   ]
  },
  {
   "cell_type": "code",
   "execution_count": 411,
   "id": "0a68b018",
   "metadata": {},
   "outputs": [],
   "source": [
    "# Combine base pay + overtime pay\n",
    "# consider deleting benefits "
   ]
  },
  {
   "cell_type": "code",
   "execution_count": 412,
   "id": "30223904",
   "metadata": {},
   "outputs": [
    {
     "data": {
      "text/plain": [
       "Index([' Base Pay', ' Overtime Pay', ' Other Pay', ' Benefits',\n",
       "       ' Total Pay & Benefits', ' Agency'],\n",
       "      dtype='object')"
      ]
     },
     "execution_count": 412,
     "metadata": {},
     "output_type": "execute_result"
    }
   ],
   "source": [
    "df.columns"
   ]
  },
  {
   "cell_type": "code",
   "execution_count": 413,
   "id": "eae2a70c",
   "metadata": {},
   "outputs": [
    {
     "data": {
      "text/plain": [
       "Index(['Base Pay', 'Overtime Pay', 'Other Pay', 'Benefits',\n",
       "       'Total Pay & Benefits', 'Agency'],\n",
       "      dtype='object')"
      ]
     },
     "execution_count": 413,
     "metadata": {},
     "output_type": "execute_result"
    }
   ],
   "source": [
    "# Rename columns\n",
    "for i in df.columns:\n",
    "    df.rename(columns={i:i.strip()}, inplace=True)\n",
    "\n",
    "df.columns"
   ]
  },
  {
   "cell_type": "code",
   "execution_count": 416,
   "id": "8559ff67",
   "metadata": {},
   "outputs": [
    {
     "data": {
      "text/plain": [
       "0.00        481\n",
       "500.00        1\n",
       "3834.78       1\n",
       "36536.46      1\n",
       "20642.00      1\n",
       "7411.00       1\n",
       "19933.60      1\n",
       "2500.00       1\n",
       "9231.28       1\n",
       "Name: Overtime Pay, dtype: int64"
      ]
     },
     "execution_count": 416,
     "metadata": {},
     "output_type": "execute_result"
    }
   ],
   "source": [
    "df['Overtime Pay'].value_counts()"
   ]
  },
  {
   "cell_type": "code",
   "execution_count": 417,
   "id": "ad2abd3e",
   "metadata": {},
   "outputs": [
    {
     "data": {
      "text/plain": [
       "Base Pay                float64\n",
       "Overtime Pay            float64\n",
       "Other Pay               float64\n",
       "Benefits                float64\n",
       "Total Pay & Benefits    float64\n",
       "Agency                   object\n",
       "dtype: object"
      ]
     },
     "execution_count": 417,
     "metadata": {},
     "output_type": "execute_result"
    }
   ],
   "source": [
    "df.dtypes"
   ]
  },
  {
   "cell_type": "code",
   "execution_count": 419,
   "id": "2b78a3a5",
   "metadata": {},
   "outputs": [],
   "source": [
    "df['Total Pay'] = (\n",
    "    df['Base Pay'] + \n",
    "    df['Overtime Pay'] +\n",
    "    df['Other Pay']\n",
    ")"
   ]
  },
  {
   "cell_type": "code",
   "execution_count": 440,
   "id": "a747b291",
   "metadata": {},
   "outputs": [],
   "source": [
    "for i in df.columns:\n",
    "    if df[i].dtype == 'float64':\n",
    "        df[i] = df[i].astype('int')"
   ]
  },
  {
   "cell_type": "code",
   "execution_count": 441,
   "id": "b182ecaa",
   "metadata": {},
   "outputs": [
    {
     "data": {
      "text/plain": [
       "Base Pay                 int64\n",
       "Overtime Pay             int64\n",
       "Other Pay                int64\n",
       "Benefits                 int64\n",
       "Total Pay & Benefits     int64\n",
       "Agency                  object\n",
       "Total Pay                int64\n",
       "dtype: object"
      ]
     },
     "execution_count": 441,
     "metadata": {},
     "output_type": "execute_result"
    }
   ],
   "source": [
    "df.dtypes"
   ]
  },
  {
   "cell_type": "code",
   "execution_count": 448,
   "id": "0ac1db20",
   "metadata": {},
   "outputs": [
    {
     "data": {
      "text/html": [
       "<div>\n",
       "<style scoped>\n",
       "    .dataframe tbody tr th:only-of-type {\n",
       "        vertical-align: middle;\n",
       "    }\n",
       "\n",
       "    .dataframe tbody tr th {\n",
       "        vertical-align: top;\n",
       "    }\n",
       "\n",
       "    .dataframe thead th {\n",
       "        text-align: right;\n",
       "    }\n",
       "</style>\n",
       "<table border=\"1\" class=\"dataframe\">\n",
       "  <thead>\n",
       "    <tr style=\"text-align: right;\">\n",
       "      <th></th>\n",
       "      <th>Base Pay</th>\n",
       "      <th>Overtime Pay</th>\n",
       "      <th>Other Pay</th>\n",
       "      <th>Benefits</th>\n",
       "      <th>Total Pay &amp; Benefits</th>\n",
       "      <th>Agency</th>\n",
       "      <th>Total Pay</th>\n",
       "    </tr>\n",
       "  </thead>\n",
       "  <tbody>\n",
       "    <tr>\n",
       "      <th>0</th>\n",
       "      <td>355285</td>\n",
       "      <td>0</td>\n",
       "      <td>197112</td>\n",
       "      <td>167573</td>\n",
       "      <td>719970</td>\n",
       "      <td>Ontario-Montclair</td>\n",
       "      <td>552397</td>\n",
       "    </tr>\n",
       "    <tr>\n",
       "      <th>1</th>\n",
       "      <td>233539</td>\n",
       "      <td>0</td>\n",
       "      <td>10099</td>\n",
       "      <td>342424</td>\n",
       "      <td>586063</td>\n",
       "      <td>Wheatland Union High</td>\n",
       "      <td>243639</td>\n",
       "    </tr>\n",
       "    <tr>\n",
       "      <th>2</th>\n",
       "      <td>398979</td>\n",
       "      <td>0</td>\n",
       "      <td>57050</td>\n",
       "      <td>80208</td>\n",
       "      <td>536238</td>\n",
       "      <td>Corona-Norco Unified</td>\n",
       "      <td>456029</td>\n",
       "    </tr>\n",
       "    <tr>\n",
       "      <th>3</th>\n",
       "      <td>399006</td>\n",
       "      <td>0</td>\n",
       "      <td>60457</td>\n",
       "      <td>66557</td>\n",
       "      <td>526020</td>\n",
       "      <td>College of the Desert</td>\n",
       "      <td>459463</td>\n",
       "    </tr>\n",
       "    <tr>\n",
       "      <th>4</th>\n",
       "      <td>192784</td>\n",
       "      <td>0</td>\n",
       "      <td>259544</td>\n",
       "      <td>66560</td>\n",
       "      <td>518889</td>\n",
       "      <td>Sequoia Union High</td>\n",
       "      <td>452329</td>\n",
       "    </tr>\n",
       "    <tr>\n",
       "      <th>...</th>\n",
       "      <td>...</td>\n",
       "      <td>...</td>\n",
       "      <td>...</td>\n",
       "      <td>...</td>\n",
       "      <td>...</td>\n",
       "      <td>...</td>\n",
       "      <td>...</td>\n",
       "    </tr>\n",
       "    <tr>\n",
       "      <th>485</th>\n",
       "      <td>171437</td>\n",
       "      <td>0</td>\n",
       "      <td>7500</td>\n",
       "      <td>46002</td>\n",
       "      <td>224939</td>\n",
       "      <td>Banta Unified</td>\n",
       "      <td>178937</td>\n",
       "    </tr>\n",
       "    <tr>\n",
       "      <th>486</th>\n",
       "      <td>186381</td>\n",
       "      <td>0</td>\n",
       "      <td>0</td>\n",
       "      <td>38463</td>\n",
       "      <td>224845</td>\n",
       "      <td>Rescue Union Elementary</td>\n",
       "      <td>186381</td>\n",
       "    </tr>\n",
       "    <tr>\n",
       "      <th>487</th>\n",
       "      <td>171531</td>\n",
       "      <td>0</td>\n",
       "      <td>14221</td>\n",
       "      <td>38898</td>\n",
       "      <td>224651</td>\n",
       "      <td>Alexander Valley Union Elementary</td>\n",
       "      <td>185753</td>\n",
       "    </tr>\n",
       "    <tr>\n",
       "      <th>488</th>\n",
       "      <td>174545</td>\n",
       "      <td>0</td>\n",
       "      <td>420</td>\n",
       "      <td>48709</td>\n",
       "      <td>223674</td>\n",
       "      <td>Coastline ROP</td>\n",
       "      <td>174965</td>\n",
       "    </tr>\n",
       "    <tr>\n",
       "      <th>489</th>\n",
       "      <td>178585</td>\n",
       "      <td>0</td>\n",
       "      <td>4800</td>\n",
       "      <td>40212</td>\n",
       "      <td>223597</td>\n",
       "      <td>Stanislaus Union Elementary</td>\n",
       "      <td>183385</td>\n",
       "    </tr>\n",
       "  </tbody>\n",
       "</table>\n",
       "<p>489 rows × 7 columns</p>\n",
       "</div>"
      ],
      "text/plain": [
       "     Base Pay  Overtime Pay  Other Pay  Benefits  Total Pay & Benefits  \\\n",
       "0      355285             0     197112    167573                719970   \n",
       "1      233539             0      10099    342424                586063   \n",
       "2      398979             0      57050     80208                536238   \n",
       "3      399006             0      60457     66557                526020   \n",
       "4      192784             0     259544     66560                518889   \n",
       "..        ...           ...        ...       ...                   ...   \n",
       "485    171437             0       7500     46002                224939   \n",
       "486    186381             0          0     38463                224845   \n",
       "487    171531             0      14221     38898                224651   \n",
       "488    174545             0        420     48709                223674   \n",
       "489    178585             0       4800     40212                223597   \n",
       "\n",
       "                                Agency  Total Pay  \n",
       "0                    Ontario-Montclair     552397  \n",
       "1                 Wheatland Union High     243639  \n",
       "2                 Corona-Norco Unified     456029  \n",
       "3                College of the Desert     459463  \n",
       "4                   Sequoia Union High     452329  \n",
       "..                                 ...        ...  \n",
       "485                      Banta Unified     178937  \n",
       "486            Rescue Union Elementary     186381  \n",
       "487  Alexander Valley Union Elementary     185753  \n",
       "488                      Coastline ROP     174965  \n",
       "489        Stanislaus Union Elementary     183385  \n",
       "\n",
       "[489 rows x 7 columns]"
      ]
     },
     "execution_count": 448,
     "metadata": {},
     "output_type": "execute_result"
    }
   ],
   "source": [
    "df"
   ]
  },
  {
   "cell_type": "code",
   "execution_count": 451,
   "id": "e36f8c13",
   "metadata": {},
   "outputs": [],
   "source": [
    "# Rearrange column order\n",
    "column_order = [\n",
    "                'Agency', \n",
    "                'Base Pay',\n",
    "                'Other Pay', \n",
    "                'Overtime Pay', \n",
    "                'Total Pay', \n",
    "                'Benefits',\n",
    "                'Total Pay & Benefits'\n",
    "                ]\n",
    "\n",
    "df = df.loc[:, column_order]"
   ]
  },
  {
   "cell_type": "code",
   "execution_count": 452,
   "id": "7336bda1",
   "metadata": {},
   "outputs": [
    {
     "data": {
      "text/html": [
       "<div>\n",
       "<style scoped>\n",
       "    .dataframe tbody tr th:only-of-type {\n",
       "        vertical-align: middle;\n",
       "    }\n",
       "\n",
       "    .dataframe tbody tr th {\n",
       "        vertical-align: top;\n",
       "    }\n",
       "\n",
       "    .dataframe thead th {\n",
       "        text-align: right;\n",
       "    }\n",
       "</style>\n",
       "<table border=\"1\" class=\"dataframe\">\n",
       "  <thead>\n",
       "    <tr style=\"text-align: right;\">\n",
       "      <th></th>\n",
       "      <th>Agency</th>\n",
       "      <th>Base Pay</th>\n",
       "      <th>Other Pay</th>\n",
       "      <th>Overtime Pay</th>\n",
       "      <th>Total Pay</th>\n",
       "      <th>Benefits</th>\n",
       "      <th>Total Pay &amp; Benefits</th>\n",
       "    </tr>\n",
       "  </thead>\n",
       "  <tbody>\n",
       "    <tr>\n",
       "      <th>0</th>\n",
       "      <td>Ontario-Montclair</td>\n",
       "      <td>355285</td>\n",
       "      <td>197112</td>\n",
       "      <td>0</td>\n",
       "      <td>552397</td>\n",
       "      <td>167573</td>\n",
       "      <td>719970</td>\n",
       "    </tr>\n",
       "    <tr>\n",
       "      <th>1</th>\n",
       "      <td>Wheatland Union High</td>\n",
       "      <td>233539</td>\n",
       "      <td>10099</td>\n",
       "      <td>0</td>\n",
       "      <td>243639</td>\n",
       "      <td>342424</td>\n",
       "      <td>586063</td>\n",
       "    </tr>\n",
       "    <tr>\n",
       "      <th>2</th>\n",
       "      <td>Corona-Norco Unified</td>\n",
       "      <td>398979</td>\n",
       "      <td>57050</td>\n",
       "      <td>0</td>\n",
       "      <td>456029</td>\n",
       "      <td>80208</td>\n",
       "      <td>536238</td>\n",
       "    </tr>\n",
       "    <tr>\n",
       "      <th>3</th>\n",
       "      <td>College of the Desert</td>\n",
       "      <td>399006</td>\n",
       "      <td>60457</td>\n",
       "      <td>0</td>\n",
       "      <td>459463</td>\n",
       "      <td>66557</td>\n",
       "      <td>526020</td>\n",
       "    </tr>\n",
       "    <tr>\n",
       "      <th>4</th>\n",
       "      <td>Sequoia Union High</td>\n",
       "      <td>192784</td>\n",
       "      <td>259544</td>\n",
       "      <td>0</td>\n",
       "      <td>452329</td>\n",
       "      <td>66560</td>\n",
       "      <td>518889</td>\n",
       "    </tr>\n",
       "    <tr>\n",
       "      <th>...</th>\n",
       "      <td>...</td>\n",
       "      <td>...</td>\n",
       "      <td>...</td>\n",
       "      <td>...</td>\n",
       "      <td>...</td>\n",
       "      <td>...</td>\n",
       "      <td>...</td>\n",
       "    </tr>\n",
       "    <tr>\n",
       "      <th>485</th>\n",
       "      <td>Banta Unified</td>\n",
       "      <td>171437</td>\n",
       "      <td>7500</td>\n",
       "      <td>0</td>\n",
       "      <td>178937</td>\n",
       "      <td>46002</td>\n",
       "      <td>224939</td>\n",
       "    </tr>\n",
       "    <tr>\n",
       "      <th>486</th>\n",
       "      <td>Rescue Union Elementary</td>\n",
       "      <td>186381</td>\n",
       "      <td>0</td>\n",
       "      <td>0</td>\n",
       "      <td>186381</td>\n",
       "      <td>38463</td>\n",
       "      <td>224845</td>\n",
       "    </tr>\n",
       "    <tr>\n",
       "      <th>487</th>\n",
       "      <td>Alexander Valley Union Elementary</td>\n",
       "      <td>171531</td>\n",
       "      <td>14221</td>\n",
       "      <td>0</td>\n",
       "      <td>185753</td>\n",
       "      <td>38898</td>\n",
       "      <td>224651</td>\n",
       "    </tr>\n",
       "    <tr>\n",
       "      <th>488</th>\n",
       "      <td>Coastline ROP</td>\n",
       "      <td>174545</td>\n",
       "      <td>420</td>\n",
       "      <td>0</td>\n",
       "      <td>174965</td>\n",
       "      <td>48709</td>\n",
       "      <td>223674</td>\n",
       "    </tr>\n",
       "    <tr>\n",
       "      <th>489</th>\n",
       "      <td>Stanislaus Union Elementary</td>\n",
       "      <td>178585</td>\n",
       "      <td>4800</td>\n",
       "      <td>0</td>\n",
       "      <td>183385</td>\n",
       "      <td>40212</td>\n",
       "      <td>223597</td>\n",
       "    </tr>\n",
       "  </tbody>\n",
       "</table>\n",
       "<p>489 rows × 7 columns</p>\n",
       "</div>"
      ],
      "text/plain": [
       "                                Agency  Base Pay  Other Pay  Overtime Pay  \\\n",
       "0                    Ontario-Montclair    355285     197112             0   \n",
       "1                 Wheatland Union High    233539      10099             0   \n",
       "2                 Corona-Norco Unified    398979      57050             0   \n",
       "3                College of the Desert    399006      60457             0   \n",
       "4                   Sequoia Union High    192784     259544             0   \n",
       "..                                 ...       ...        ...           ...   \n",
       "485                      Banta Unified    171437       7500             0   \n",
       "486            Rescue Union Elementary    186381          0             0   \n",
       "487  Alexander Valley Union Elementary    171531      14221             0   \n",
       "488                      Coastline ROP    174545        420             0   \n",
       "489        Stanislaus Union Elementary    178585       4800             0   \n",
       "\n",
       "     Total Pay  Benefits  Total Pay & Benefits  \n",
       "0       552397    167573                719970  \n",
       "1       243639    342424                586063  \n",
       "2       456029     80208                536238  \n",
       "3       459463     66557                526020  \n",
       "4       452329     66560                518889  \n",
       "..         ...       ...                   ...  \n",
       "485     178937     46002                224939  \n",
       "486     186381     38463                224845  \n",
       "487     185753     38898                224651  \n",
       "488     174965     48709                223674  \n",
       "489     183385     40212                223597  \n",
       "\n",
       "[489 rows x 7 columns]"
      ]
     },
     "execution_count": 452,
     "metadata": {},
     "output_type": "execute_result"
    }
   ],
   "source": [
    "df"
   ]
  },
  {
   "cell_type": "code",
   "execution_count": null,
   "id": "a5d826f7",
   "metadata": {},
   "outputs": [],
   "source": []
  }
 ],
 "metadata": {
  "kernelspec": {
   "display_name": "Python 3 (ipykernel)",
   "language": "python",
   "name": "python3"
  },
  "language_info": {
   "codemirror_mode": {
    "name": "ipython",
    "version": 3
   },
   "file_extension": ".py",
   "mimetype": "text/x-python",
   "name": "python",
   "nbconvert_exporter": "python",
   "pygments_lexer": "ipython3",
   "version": "3.9.12"
  }
 },
 "nbformat": 4,
 "nbformat_minor": 5
}
