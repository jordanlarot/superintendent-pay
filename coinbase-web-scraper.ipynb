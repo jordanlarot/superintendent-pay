{
 "cells": [
  {
   "cell_type": "code",
   "execution_count": 2,
   "id": "db1fd8f0",
   "metadata": {},
   "outputs": [],
   "source": [
    "import requests\n",
    "from bs4 import BeautifulSoup"
   ]
  },
  {
   "cell_type": "code",
   "execution_count": 3,
   "id": "d143231d",
   "metadata": {},
   "outputs": [],
   "source": [
    "url = 'https://coinmarketcap.com/'\n",
    "r = requests.get(url)\n",
    "html_doc = r.text\n",
    "soup = BeautifulSoup(html_doc)\n",
    "\n",
    "# Get table body\n",
    "tbody = soup.tbody"
   ]
  },
  {
   "cell_type": "code",
   "execution_count": 5,
   "id": "a7cdac93",
   "metadata": {},
   "outputs": [
    {
     "data": {
      "text/plain": [
       "[<td><span class=\"sc-80eeb0-1 iuAjRY\" data-btnname=\"watchlistStarIcon\" data-page=\"watchlistStarIconPage\"><span class=\"icon-Star\"></span></span></td>,\n",
       " <span class=\"sc-80eeb0-1 iuAjRY\" data-btnname=\"watchlistStarIcon\" data-page=\"watchlistStarIconPage\"><span class=\"icon-Star\"></span></span>,\n",
       " <span class=\"icon-Star\"></span>,\n",
       " <td style=\"text-align:left\"><p class=\"sc-1eb5slv-0 etpvrL\" color=\"text2\" font-size=\"0\">2</p></td>,\n",
       " <p class=\"sc-1eb5slv-0 etpvrL\" color=\"text2\" font-size=\"0\">2</p>,\n",
       " <td style=\"text-align:left\"><div class=\"sc-16r8icm-0 escjiH\" display=\"flex\"><a class=\"cmc-link\" href=\"/currencies/ethereum/\"><div class=\"sc-16r8icm-0 sc-1teo54s-0 dBKWCw\"><img alt=\"ETH logo\" class=\"coin-logo\" loading=\"lazy\" src=\"https://s2.coinmarketcap.com/static/img/coins/64x64/1027.png\"/><div class=\"sc-16r8icm-0 sc-1teo54s-1 dNOTPP\"><p class=\"sc-1eb5slv-0 iworPT\" color=\"text\" font-size=\"1\" font-weight=\"semibold\">Ethereum</p><div class=\"sc-1teo54s-2 fZIJcI\" data-nosnippet=\"true\"><div class=\"sc-1teo54s-3 etWhyV\">2</div><p class=\"sc-1eb5slv-0 gGIpIK coin-item-symbol\" color=\"text3\" font-size=\"1\">ETH</p></div></div></div></a></div></td>,\n",
       " <div class=\"sc-16r8icm-0 escjiH\" display=\"flex\"><a class=\"cmc-link\" href=\"/currencies/ethereum/\"><div class=\"sc-16r8icm-0 sc-1teo54s-0 dBKWCw\"><img alt=\"ETH logo\" class=\"coin-logo\" loading=\"lazy\" src=\"https://s2.coinmarketcap.com/static/img/coins/64x64/1027.png\"/><div class=\"sc-16r8icm-0 sc-1teo54s-1 dNOTPP\"><p class=\"sc-1eb5slv-0 iworPT\" color=\"text\" font-size=\"1\" font-weight=\"semibold\">Ethereum</p><div class=\"sc-1teo54s-2 fZIJcI\" data-nosnippet=\"true\"><div class=\"sc-1teo54s-3 etWhyV\">2</div><p class=\"sc-1eb5slv-0 gGIpIK coin-item-symbol\" color=\"text3\" font-size=\"1\">ETH</p></div></div></div></a></div>,\n",
       " <a class=\"cmc-link\" href=\"/currencies/ethereum/\"><div class=\"sc-16r8icm-0 sc-1teo54s-0 dBKWCw\"><img alt=\"ETH logo\" class=\"coin-logo\" loading=\"lazy\" src=\"https://s2.coinmarketcap.com/static/img/coins/64x64/1027.png\"/><div class=\"sc-16r8icm-0 sc-1teo54s-1 dNOTPP\"><p class=\"sc-1eb5slv-0 iworPT\" color=\"text\" font-size=\"1\" font-weight=\"semibold\">Ethereum</p><div class=\"sc-1teo54s-2 fZIJcI\" data-nosnippet=\"true\"><div class=\"sc-1teo54s-3 etWhyV\">2</div><p class=\"sc-1eb5slv-0 gGIpIK coin-item-symbol\" color=\"text3\" font-size=\"1\">ETH</p></div></div></div></a>,\n",
       " <div class=\"sc-16r8icm-0 sc-1teo54s-0 dBKWCw\"><img alt=\"ETH logo\" class=\"coin-logo\" loading=\"lazy\" src=\"https://s2.coinmarketcap.com/static/img/coins/64x64/1027.png\"/><div class=\"sc-16r8icm-0 sc-1teo54s-1 dNOTPP\"><p class=\"sc-1eb5slv-0 iworPT\" color=\"text\" font-size=\"1\" font-weight=\"semibold\">Ethereum</p><div class=\"sc-1teo54s-2 fZIJcI\" data-nosnippet=\"true\"><div class=\"sc-1teo54s-3 etWhyV\">2</div><p class=\"sc-1eb5slv-0 gGIpIK coin-item-symbol\" color=\"text3\" font-size=\"1\">ETH</p></div></div></div>,\n",
       " <img alt=\"ETH logo\" class=\"coin-logo\" loading=\"lazy\" src=\"https://s2.coinmarketcap.com/static/img/coins/64x64/1027.png\"/>,\n",
       " <div class=\"sc-16r8icm-0 sc-1teo54s-1 dNOTPP\"><p class=\"sc-1eb5slv-0 iworPT\" color=\"text\" font-size=\"1\" font-weight=\"semibold\">Ethereum</p><div class=\"sc-1teo54s-2 fZIJcI\" data-nosnippet=\"true\"><div class=\"sc-1teo54s-3 etWhyV\">2</div><p class=\"sc-1eb5slv-0 gGIpIK coin-item-symbol\" color=\"text3\" font-size=\"1\">ETH</p></div></div>,\n",
       " <p class=\"sc-1eb5slv-0 iworPT\" color=\"text\" font-size=\"1\" font-weight=\"semibold\">Ethereum</p>,\n",
       " <div class=\"sc-1teo54s-2 fZIJcI\" data-nosnippet=\"true\"><div class=\"sc-1teo54s-3 etWhyV\">2</div><p class=\"sc-1eb5slv-0 gGIpIK coin-item-symbol\" color=\"text3\" font-size=\"1\">ETH</p></div>,\n",
       " <div class=\"sc-1teo54s-3 etWhyV\">2</div>,\n",
       " <p class=\"sc-1eb5slv-0 gGIpIK coin-item-symbol\" color=\"text3\" font-size=\"1\">ETH</p>,\n",
       " <td><div class=\"sc-131di3y-0 cLgOOr\"><a class=\"cmc-link\" href=\"/currencies/ethereum/markets/\"><span>$1,837.96</span></a></div></td>,\n",
       " <div class=\"sc-131di3y-0 cLgOOr\"><a class=\"cmc-link\" href=\"/currencies/ethereum/markets/\"><span>$1,837.96</span></a></div>,\n",
       " <a class=\"cmc-link\" href=\"/currencies/ethereum/markets/\"><span>$1,837.96</span></a>,\n",
       " <span>$1,837.96</span>,\n",
       " <td style=\"text-align:right\"><span class=\"sc-15yy2pl-0 kAXKAX\"><span class=\"icon-Caret-up\"></span>0.39<!-- -->%</span></td>,\n",
       " <span class=\"sc-15yy2pl-0 kAXKAX\"><span class=\"icon-Caret-up\"></span>0.39<!-- -->%</span>,\n",
       " <span class=\"icon-Caret-up\"></span>,\n",
       " <td style=\"text-align:right\"><span class=\"sc-15yy2pl-0 hzgCfk\"><span class=\"icon-Caret-down\"></span>2.19<!-- -->%</span></td>,\n",
       " <span class=\"sc-15yy2pl-0 hzgCfk\"><span class=\"icon-Caret-down\"></span>2.19<!-- -->%</span>,\n",
       " <span class=\"icon-Caret-down\"></span>,\n",
       " <td style=\"text-align:right\"><span class=\"sc-15yy2pl-0 kAXKAX\"><span class=\"icon-Caret-up\"></span>0.45<!-- -->%</span></td>,\n",
       " <span class=\"sc-15yy2pl-0 kAXKAX\"><span class=\"icon-Caret-up\"></span>0.45<!-- -->%</span>,\n",
       " <span class=\"icon-Caret-up\"></span>,\n",
       " <td style=\"text-align:right\"><p class=\"sc-1eb5slv-0 hykWbK\" color=\"text\" font-size=\"1\" style=\"white-space:nowrap\"><span class=\"sc-1ow4cwt-0 iosgXe\">$224.23B</span><span class=\"sc-1ow4cwt-1 ieFnWP\" data-nosnippet=\"true\">$224,234,352,805</span></p></td>,\n",
       " <p class=\"sc-1eb5slv-0 hykWbK\" color=\"text\" font-size=\"1\" style=\"white-space:nowrap\"><span class=\"sc-1ow4cwt-0 iosgXe\">$224.23B</span><span class=\"sc-1ow4cwt-1 ieFnWP\" data-nosnippet=\"true\">$224,234,352,805</span></p>,\n",
       " <span class=\"sc-1ow4cwt-0 iosgXe\">$224.23B</span>,\n",
       " <span class=\"sc-1ow4cwt-1 ieFnWP\" data-nosnippet=\"true\">$224,234,352,805</span>,\n",
       " <td style=\"text-align:right\"><div class=\"sc-16r8icm-0 j3nwcd-0 cRcnjD\"><a class=\"cmc-link\" href=\"/currencies/ethereum/markets/\"><p class=\"sc-1eb5slv-0 hykWbK font_weight_500\" color=\"text\" font-size=\"1\">$19,135,464,683</p></a><div data-nosnippet=\"true\"><p class=\"sc-1eb5slv-0 etpvrL\" color=\"text2\" font-size=\"0\">10,411,260 ETH</p></div></div></td>,\n",
       " <div class=\"sc-16r8icm-0 j3nwcd-0 cRcnjD\"><a class=\"cmc-link\" href=\"/currencies/ethereum/markets/\"><p class=\"sc-1eb5slv-0 hykWbK font_weight_500\" color=\"text\" font-size=\"1\">$19,135,464,683</p></a><div data-nosnippet=\"true\"><p class=\"sc-1eb5slv-0 etpvrL\" color=\"text2\" font-size=\"0\">10,411,260 ETH</p></div></div>,\n",
       " <a class=\"cmc-link\" href=\"/currencies/ethereum/markets/\"><p class=\"sc-1eb5slv-0 hykWbK font_weight_500\" color=\"text\" font-size=\"1\">$19,135,464,683</p></a>,\n",
       " <p class=\"sc-1eb5slv-0 hykWbK font_weight_500\" color=\"text\" font-size=\"1\">$19,135,464,683</p>,\n",
       " <div data-nosnippet=\"true\"><p class=\"sc-1eb5slv-0 etpvrL\" color=\"text2\" font-size=\"0\">10,411,260 ETH</p></div>,\n",
       " <p class=\"sc-1eb5slv-0 etpvrL\" color=\"text2\" font-size=\"0\">10,411,260 ETH</p>,\n",
       " <td style=\"text-align:right\"><div class=\"sc-16r8icm-0 g5oqcc-0 drLITg\" style=\"cursor:\"><div class=\"sc-16r8icm-0 g5oqcc-1 eGQXzN\"><p class=\"sc-1eb5slv-0 kZlTnE\" color=\"text\" font-size=\"1\" font-weight=\"medium\">122,001,848 ETH</p></div></div></td>,\n",
       " <div class=\"sc-16r8icm-0 g5oqcc-0 drLITg\" style=\"cursor:\"><div class=\"sc-16r8icm-0 g5oqcc-1 eGQXzN\"><p class=\"sc-1eb5slv-0 kZlTnE\" color=\"text\" font-size=\"1\" font-weight=\"medium\">122,001,848 ETH</p></div></div>,\n",
       " <div class=\"sc-16r8icm-0 g5oqcc-1 eGQXzN\"><p class=\"sc-1eb5slv-0 kZlTnE\" color=\"text\" font-size=\"1\" font-weight=\"medium\">122,001,848 ETH</p></div>,\n",
       " <p class=\"sc-1eb5slv-0 kZlTnE\" color=\"text\" font-size=\"1\" font-weight=\"medium\">122,001,848 ETH</p>,\n",
       " <td style=\"text-align:right\"><a class=\"cmc-link\" href=\"/currencies/ethereum/?period=7d\"><img alt=\"ethereum-7d-price-graph\" class=\"h7vnx2-0 bCltOL isUp\" loading=\"lazy\" src=\"https://s3.coinmarketcap.com/generated/sparklines/web/7d/2781/1027.svg\"/></a></td>,\n",
       " <a class=\"cmc-link\" href=\"/currencies/ethereum/?period=7d\"><img alt=\"ethereum-7d-price-graph\" class=\"h7vnx2-0 bCltOL isUp\" loading=\"lazy\" src=\"https://s3.coinmarketcap.com/generated/sparklines/web/7d/2781/1027.svg\"/></a>,\n",
       " <img alt=\"ethereum-7d-price-graph\" class=\"h7vnx2-0 bCltOL isUp\" loading=\"lazy\" src=\"https://s3.coinmarketcap.com/generated/sparklines/web/7d/2781/1027.svg\"/>,\n",
       " <td><div class=\"sc-16r8icm-0 kjciSH\"><button class=\"x0o17e-0 ftvUnY sc-7pvt85-0 hmFKKb\"><span class=\"icon-More-Vertical\"></span></button></div></td>,\n",
       " <div class=\"sc-16r8icm-0 kjciSH\"><button class=\"x0o17e-0 ftvUnY sc-7pvt85-0 hmFKKb\"><span class=\"icon-More-Vertical\"></span></button></div>,\n",
       " <button class=\"x0o17e-0 ftvUnY sc-7pvt85-0 hmFKKb\"><span class=\"icon-More-Vertical\"></span></button>,\n",
       " <span class=\"icon-More-Vertical\"></span>]"
      ]
     },
     "execution_count": 5,
     "metadata": {},
     "output_type": "execute_result"
    }
   ],
   "source": [
    "# Get table rows; everything inside of the tbody, which are the table rows \n",
    "trs = tbody.contents\n",
    "\n",
    "# Print the table row after the first row \n",
    "trs[0].next_sibling()"
   ]
  },
  {
   "cell_type": "code",
   "execution_count": 48,
   "id": "9df2c16c",
   "metadata": {},
   "outputs": [
    {
     "data": {
      "text/plain": [
       "{'Bitcoin': '$24,118.65',\n",
       " 'Ethereum': '$1,898.99',\n",
       " 'Tether': '$1.00',\n",
       " 'USD Coin': '$0.9999',\n",
       " 'BNB': '$318.86',\n",
       " 'Cardano': '$0.5599',\n",
       " 'XRP': '$0.3717',\n",
       " 'Binance USD': '$1',\n",
       " 'Solana': '$43.87',\n",
       " 'Dogecoin': '$0.078'}"
      ]
     },
     "execution_count": 48,
     "metadata": {},
     "output_type": "execute_result"
    }
   ],
   "source": [
    "prices = {}\n",
    "for tr in trs[:10]:\n",
    "    name, price = tr.contents[2:4]\n",
    "    c_name = name.p.string #find(\"p\", class_ = \"sc-1eb5slv-0 iworPT\").string)   # prettify())\n",
    "    c_price = price.a.text #find(\"a\", class_=\"cmc-link\").span.text)\n",
    "    prices[c_name] = c_price\n",
    "prices"
   ]
  },
  {
   "cell_type": "code",
   "execution_count": null,
   "id": "2de5cfc3",
   "metadata": {},
   "outputs": [],
   "source": [
    "prices = {}\n",
    "for tr in trs:\n",
    "    name, price = tr.contents[2:4]\n",
    "    print(name.prettify())#find(\"p\", class_ = \"sc-1eb5slv-0 iworPT\").string)   # prettify())\n",
    "    print(price.find(\"a\", class_=\"cmc-link\").span.text)"
   ]
  }
 ],
 "metadata": {
  "kernelspec": {
   "display_name": "Python 3 (ipykernel)",
   "language": "python",
   "name": "python3"
  },
  "language_info": {
   "codemirror_mode": {
    "name": "ipython",
    "version": 3
   },
   "file_extension": ".py",
   "mimetype": "text/x-python",
   "name": "python",
   "nbconvert_exporter": "python",
   "pygments_lexer": "ipython3",
   "version": "3.9.12"
  }
 },
 "nbformat": 4,
 "nbformat_minor": 5
}
