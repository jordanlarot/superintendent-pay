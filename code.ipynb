{
 "cells": [
  {
   "cell_type": "code",
   "execution_count": 1,
   "id": "418820aa",
   "metadata": {},
   "outputs": [
    {
     "name": "stderr",
     "output_type": "stream",
     "text": [
      "/Users/jordan/miniforge3/envs/py39/lib/python3.9/site-packages/scipy/__init__.py:146: UserWarning: A NumPy version >=1.16.5 and <1.23.0 is required for this version of SciPy (detected version 1.23.1\n",
      "  warnings.warn(f\"A NumPy version >={np_minversion} and <{np_maxversion}\"\n"
     ]
    }
   ],
   "source": [
    "import numpy as np\n",
    "import pandas as pd\n",
    "import matplotlib.pyplot as plt\n",
    "import seaborn as sns"
   ]
  },
  {
   "cell_type": "code",
   "execution_count": 26,
   "id": "89a2bd03",
   "metadata": {},
   "outputs": [],
   "source": [
    "# Import data\n",
    "file = 'search_results_principal.csv'\n",
    "df = pd.read_csv(file)"
   ]
  },
  {
   "cell_type": "code",
   "execution_count": 36,
   "id": "7002f9cf",
   "metadata": {},
   "outputs": [
    {
     "data": {
      "text/html": [
       "<div>\n",
       "<style scoped>\n",
       "    .dataframe tbody tr th:only-of-type {\n",
       "        vertical-align: middle;\n",
       "    }\n",
       "\n",
       "    .dataframe tbody tr th {\n",
       "        vertical-align: top;\n",
       "    }\n",
       "\n",
       "    .dataframe thead th {\n",
       "        text-align: right;\n",
       "    }\n",
       "</style>\n",
       "<table border=\"1\" class=\"dataframe\">\n",
       "  <thead>\n",
       "    <tr style=\"text-align: right;\">\n",
       "      <th></th>\n",
       "      <th>Employee Name</th>\n",
       "      <th>Job Title</th>\n",
       "      <th>Base Pay</th>\n",
       "      <th>Overtime Pay</th>\n",
       "      <th>Other Pay</th>\n",
       "      <th>Benefits</th>\n",
       "      <th>Total Pay &amp; Benefits</th>\n",
       "      <th>Notes</th>\n",
       "      <th>Agency</th>\n",
       "      <th>Status</th>\n",
       "    </tr>\n",
       "  </thead>\n",
       "  <tbody>\n",
       "    <tr>\n",
       "      <th>0</th>\n",
       "      <td>Vache Mahseredjian</td>\n",
       "      <td>Principal Investment Officer, Lacera</td>\n",
       "      <td>471844.0</td>\n",
       "      <td>0.0</td>\n",
       "      <td>53977.0</td>\n",
       "      <td>150089.0</td>\n",
       "      <td>675910.0</td>\n",
       "      <td>None</td>\n",
       "      <td>Los Angeles County Employees Retirement Associ...</td>\n",
       "      <td>NaN</td>\n",
       "    </tr>\n",
       "    <tr>\n",
       "      <th>1</th>\n",
       "      <td>John Mc Clelland</td>\n",
       "      <td>Principal Investment Officer, Lacera</td>\n",
       "      <td>433618.0</td>\n",
       "      <td>0.0</td>\n",
       "      <td>50354.0</td>\n",
       "      <td>145655.0</td>\n",
       "      <td>629627.0</td>\n",
       "      <td>None</td>\n",
       "      <td>Los Angeles County Employees Retirement Associ...</td>\n",
       "      <td>NaN</td>\n",
       "    </tr>\n",
       "    <tr>\n",
       "      <th>2</th>\n",
       "      <td>James Rice</td>\n",
       "      <td>Principal Investment Officer, Lacera (Uc)</td>\n",
       "      <td>397165.0</td>\n",
       "      <td>0.0</td>\n",
       "      <td>43577.0</td>\n",
       "      <td>169728.0</td>\n",
       "      <td>610470.0</td>\n",
       "      <td>None</td>\n",
       "      <td>Los Angeles County Employees Retirement Associ...</td>\n",
       "      <td>NaN</td>\n",
       "    </tr>\n",
       "    <tr>\n",
       "      <th>3</th>\n",
       "      <td>Edward Wright</td>\n",
       "      <td>Principal Investment Officer, Lacera (Uc)</td>\n",
       "      <td>381102.0</td>\n",
       "      <td>0.0</td>\n",
       "      <td>36340.0</td>\n",
       "      <td>127689.0</td>\n",
       "      <td>545131.0</td>\n",
       "      <td>None</td>\n",
       "      <td>Los Angeles County Employees Retirement Associ...</td>\n",
       "      <td>NaN</td>\n",
       "    </tr>\n",
       "    <tr>\n",
       "      <th>4</th>\n",
       "      <td>Christopher Wagner</td>\n",
       "      <td>Principal Investment Officer, Lacera (Uc)</td>\n",
       "      <td>364776.0</td>\n",
       "      <td>0.0</td>\n",
       "      <td>48001.0</td>\n",
       "      <td>124521.0</td>\n",
       "      <td>537298.0</td>\n",
       "      <td>None</td>\n",
       "      <td>Los Angeles County Employees Retirement Associ...</td>\n",
       "      <td>NaN</td>\n",
       "    </tr>\n",
       "  </tbody>\n",
       "</table>\n",
       "</div>"
      ],
      "text/plain": [
       "        Employee Name                                  Job Title   Base Pay  \\\n",
       "0  Vache Mahseredjian       Principal Investment Officer, Lacera   471844.0   \n",
       "1    John Mc Clelland       Principal Investment Officer, Lacera   433618.0   \n",
       "2          James Rice  Principal Investment Officer, Lacera (Uc)   397165.0   \n",
       "3       Edward Wright  Principal Investment Officer, Lacera (Uc)   381102.0   \n",
       "4  Christopher Wagner  Principal Investment Officer, Lacera (Uc)   364776.0   \n",
       "\n",
       "    Overtime Pay   Other Pay   Benefits   Total Pay & Benefits  Notes  \\\n",
       "0            0.0     53977.0   150089.0               675910.0   None   \n",
       "1            0.0     50354.0   145655.0               629627.0   None   \n",
       "2            0.0     43577.0   169728.0               610470.0   None   \n",
       "3            0.0     36340.0   127689.0               545131.0   None   \n",
       "4            0.0     48001.0   124521.0               537298.0   None   \n",
       "\n",
       "                                              Agency  Status  \n",
       "0  Los Angeles County Employees Retirement Associ...     NaN  \n",
       "1  Los Angeles County Employees Retirement Associ...     NaN  \n",
       "2  Los Angeles County Employees Retirement Associ...     NaN  \n",
       "3  Los Angeles County Employees Retirement Associ...     NaN  \n",
       "4  Los Angeles County Employees Retirement Associ...     NaN  "
      ]
     },
     "execution_count": 36,
     "metadata": {},
     "output_type": "execute_result"
    }
   ],
   "source": [
    "df.head()"
   ]
  },
  {
   "cell_type": "code",
   "execution_count": 39,
   "id": "198d26d9",
   "metadata": {},
   "outputs": [
    {
     "data": {
      "text/html": [
       "<div>\n",
       "<style scoped>\n",
       "    .dataframe tbody tr th:only-of-type {\n",
       "        vertical-align: middle;\n",
       "    }\n",
       "\n",
       "    .dataframe tbody tr th {\n",
       "        vertical-align: top;\n",
       "    }\n",
       "\n",
       "    .dataframe thead th {\n",
       "        text-align: right;\n",
       "    }\n",
       "</style>\n",
       "<table border=\"1\" class=\"dataframe\">\n",
       "  <thead>\n",
       "    <tr style=\"text-align: right;\">\n",
       "      <th></th>\n",
       "      <th>Employee Name</th>\n",
       "      <th>Job Title</th>\n",
       "      <th>Base Pay</th>\n",
       "      <th>Overtime Pay</th>\n",
       "      <th>Other Pay</th>\n",
       "      <th>Benefits</th>\n",
       "      <th>Total Pay &amp; Benefits</th>\n",
       "      <th>Notes</th>\n",
       "      <th>Agency</th>\n",
       "      <th>Status</th>\n",
       "    </tr>\n",
       "  </thead>\n",
       "  <tbody>\n",
       "    <tr>\n",
       "      <th>999</th>\n",
       "      <td>Alberto Lopez</td>\n",
       "      <td>Principal Transportation Engineer, Caltrans</td>\n",
       "      <td>150138.04</td>\n",
       "      <td>0.0</td>\n",
       "      <td>0.0</td>\n",
       "      <td>72821.31</td>\n",
       "      <td>222959.35</td>\n",
       "      <td>None</td>\n",
       "      <td>State of California</td>\n",
       "      <td>NaN</td>\n",
       "    </tr>\n",
       "  </tbody>\n",
       "</table>\n",
       "</div>"
      ],
      "text/plain": [
       "     Employee Name                                    Job Title   Base Pay  \\\n",
       "999  Alberto Lopez  Principal Transportation Engineer, Caltrans  150138.04   \n",
       "\n",
       "      Overtime Pay   Other Pay   Benefits   Total Pay & Benefits  Notes  \\\n",
       "999            0.0         0.0   72821.31              222959.35   None   \n",
       "\n",
       "                  Agency  Status  \n",
       "999  State of California     NaN  "
      ]
     },
     "execution_count": 39,
     "metadata": {},
     "output_type": "execute_result"
    }
   ],
   "source": [
    "df.loc[df['Employee Name'] == 'Alberto Lopez']"
   ]
  },
  {
   "cell_type": "code",
   "execution_count": 45,
   "id": "69f378f5",
   "metadata": {},
   "outputs": [
    {
     "data": {
      "text/plain": [
       "Employee Name                 Ciara Barnett\n",
       " Job Title               PRINCIPAL ENGINEER\n",
       " Base Pay                          152766.0\n",
       " Overtime Pay                        2085.0\n",
       " Other Pay                          10552.0\n",
       " Benefits                           57582.0\n",
       " Total Pay & Benefits              222985.0\n",
       " Notes                                 None\n",
       " Agency                  Los Angeles County\n",
       " Status                                 NaN\n",
       "Name: 997, dtype: object"
      ]
     },
     "execution_count": 45,
     "metadata": {},
     "output_type": "execute_result"
    }
   ],
   "source": [
    "df.iloc[997]"
   ]
  },
  {
   "cell_type": "code",
   "execution_count": 28,
   "id": "70de8bb4",
   "metadata": {},
   "outputs": [
    {
     "data": {
      "text/plain": [
       "Index(['Employee Name', ' Job Title', ' Base Pay', ' Overtime Pay',\n",
       "       ' Other Pay', ' Benefits', ' Total Pay & Benefits', ' Year', ' Notes',\n",
       "       ' Agency', ' Status'],\n",
       "      dtype='object')"
      ]
     },
     "execution_count": 28,
     "metadata": {},
     "output_type": "execute_result"
    }
   ],
   "source": [
    "df.columns"
   ]
  },
  {
   "cell_type": "code",
   "execution_count": 29,
   "id": "a094df86",
   "metadata": {},
   "outputs": [
    {
     "data": {
      "text/plain": [
       "(1001, 11)"
      ]
     },
     "execution_count": 29,
     "metadata": {},
     "output_type": "execute_result"
    }
   ],
   "source": [
    "df.shape"
   ]
  },
  {
   "cell_type": "code",
   "execution_count": 30,
   "id": "791a05e3",
   "metadata": {},
   "outputs": [
    {
     "data": {
      "text/plain": [
       " Year\n",
       "2020.0    1000\n",
       "dtype: int64"
      ]
     },
     "execution_count": 30,
     "metadata": {},
     "output_type": "execute_result"
    }
   ],
   "source": [
    "df.value_counts(' Year')"
   ]
  },
  {
   "cell_type": "code",
   "execution_count": 31,
   "id": "3822e753",
   "metadata": {},
   "outputs": [],
   "source": [
    "# Drop Year column because the values are the same\n",
    "df.drop([' Year'], inplace=True, axis=1)"
   ]
  },
  {
   "cell_type": "code",
   "execution_count": 32,
   "id": "0822fe0e",
   "metadata": {},
   "outputs": [
    {
     "data": {
      "text/plain": [
       " Status\n",
       "FT    239\n",
       "PT      3\n",
       "dtype: int64"
      ]
     },
     "execution_count": 32,
     "metadata": {},
     "output_type": "execute_result"
    }
   ],
   "source": [
    "df.value_counts(' Status')"
   ]
  },
  {
   "cell_type": "code",
   "execution_count": 35,
   "id": "c4351e8f",
   "metadata": {},
   "outputs": [
    {
     "data": {
      "text/plain": [
       "759"
      ]
     },
     "execution_count": 35,
     "metadata": {},
     "output_type": "execute_result"
    }
   ],
   "source": [
    "df[' Status'].isna().sum()\n",
    "\n",
    "### A lot of missing data for status"
   ]
  },
  {
   "cell_type": "code",
   "execution_count": 49,
   "id": "8bffc720",
   "metadata": {},
   "outputs": [],
   "source": [
    "title = ['Principal']\n"
   ]
  },
  {
   "cell_type": "code",
   "execution_count": 58,
   "id": "3d861080",
   "metadata": {},
   "outputs": [
    {
     "data": {
      "text/html": [
       "<div>\n",
       "<style scoped>\n",
       "    .dataframe tbody tr th:only-of-type {\n",
       "        vertical-align: middle;\n",
       "    }\n",
       "\n",
       "    .dataframe tbody tr th {\n",
       "        vertical-align: top;\n",
       "    }\n",
       "\n",
       "    .dataframe thead th {\n",
       "        text-align: right;\n",
       "    }\n",
       "</style>\n",
       "<table border=\"1\" class=\"dataframe\">\n",
       "  <thead>\n",
       "    <tr style=\"text-align: right;\">\n",
       "      <th></th>\n",
       "      <th>Base Pay</th>\n",
       "      <th>Overtime Pay</th>\n",
       "      <th>Other Pay</th>\n",
       "      <th>Benefits</th>\n",
       "      <th>Total Pay &amp; Benefits</th>\n",
       "    </tr>\n",
       "  </thead>\n",
       "  <tbody>\n",
       "    <tr>\n",
       "      <th>count</th>\n",
       "      <td>86.000000</td>\n",
       "      <td>86.000000</td>\n",
       "      <td>86.000000</td>\n",
       "      <td>86.000000</td>\n",
       "      <td>86.000000</td>\n",
       "    </tr>\n",
       "    <tr>\n",
       "      <th>mean</th>\n",
       "      <td>165987.325000</td>\n",
       "      <td>412.236395</td>\n",
       "      <td>7494.500000</td>\n",
       "      <td>72882.935349</td>\n",
       "      <td>246776.996744</td>\n",
       "    </tr>\n",
       "    <tr>\n",
       "      <th>std</th>\n",
       "      <td>27004.742825</td>\n",
       "      <td>1650.524575</td>\n",
       "      <td>6858.273261</td>\n",
       "      <td>47190.406549</td>\n",
       "      <td>38181.843797</td>\n",
       "    </tr>\n",
       "    <tr>\n",
       "      <th>min</th>\n",
       "      <td>109255.000000</td>\n",
       "      <td>0.000000</td>\n",
       "      <td>0.000000</td>\n",
       "      <td>29772.460000</td>\n",
       "      <td>223030.740000</td>\n",
       "    </tr>\n",
       "    <tr>\n",
       "      <th>25%</th>\n",
       "      <td>150541.022500</td>\n",
       "      <td>0.000000</td>\n",
       "      <td>3315.000000</td>\n",
       "      <td>51496.135000</td>\n",
       "      <td>225156.435000</td>\n",
       "    </tr>\n",
       "    <tr>\n",
       "      <th>50%</th>\n",
       "      <td>161021.775000</td>\n",
       "      <td>0.000000</td>\n",
       "      <td>6438.410000</td>\n",
       "      <td>60305.660000</td>\n",
       "      <td>232757.990000</td>\n",
       "    </tr>\n",
       "    <tr>\n",
       "      <th>75%</th>\n",
       "      <td>181800.645000</td>\n",
       "      <td>0.000000</td>\n",
       "      <td>10217.750000</td>\n",
       "      <td>69259.197500</td>\n",
       "      <td>250439.985000</td>\n",
       "    </tr>\n",
       "    <tr>\n",
       "      <th>max</th>\n",
       "      <td>229369.000000</td>\n",
       "      <td>8500.000000</td>\n",
       "      <td>43488.000000</td>\n",
       "      <td>246591.580000</td>\n",
       "      <td>426985.120000</td>\n",
       "    </tr>\n",
       "  </tbody>\n",
       "</table>\n",
       "</div>"
      ],
      "text/plain": [
       "            Base Pay   Overtime Pay     Other Pay       Benefits  \\\n",
       "count      86.000000      86.000000     86.000000      86.000000   \n",
       "mean   165987.325000     412.236395   7494.500000   72882.935349   \n",
       "std     27004.742825    1650.524575   6858.273261   47190.406549   \n",
       "min    109255.000000       0.000000      0.000000   29772.460000   \n",
       "25%    150541.022500       0.000000   3315.000000   51496.135000   \n",
       "50%    161021.775000       0.000000   6438.410000   60305.660000   \n",
       "75%    181800.645000       0.000000  10217.750000   69259.197500   \n",
       "max    229369.000000    8500.000000  43488.000000  246591.580000   \n",
       "\n",
       "        Total Pay & Benefits  \n",
       "count              86.000000  \n",
       "mean           246776.996744  \n",
       "std             38181.843797  \n",
       "min            223030.740000  \n",
       "25%            225156.435000  \n",
       "50%            232757.990000  \n",
       "75%            250439.985000  \n",
       "max            426985.120000  "
      ]
     },
     "execution_count": 58,
     "metadata": {},
     "output_type": "execute_result"
    }
   ],
   "source": [
    "principals = df[' Job Title'].isin(title)\n",
    "\n",
    "df[principals]#.value_counts(' Agency')\n",
    "df[principals].describe()"
   ]
  },
  {
   "cell_type": "code",
   "execution_count": 57,
   "id": "ab2277ed",
   "metadata": {},
   "outputs": [
    {
     "data": {
      "text/plain": [
       "Employee Name             object\n",
       " Job Title                object\n",
       " Base Pay                float64\n",
       " Overtime Pay            float64\n",
       " Other Pay               float64\n",
       " Benefits                float64\n",
       " Total Pay & Benefits    float64\n",
       " Notes                    object\n",
       " Agency                   object\n",
       " Status                   object\n",
       "dtype: object"
      ]
     },
     "execution_count": 57,
     "metadata": {},
     "output_type": "execute_result"
    }
   ],
   "source": []
  },
  {
   "cell_type": "code",
   "execution_count": null,
   "id": "17acbffc",
   "metadata": {},
   "outputs": [],
   "source": []
  }
 ],
 "metadata": {
  "kernelspec": {
   "display_name": "Python 3 (ipykernel)",
   "language": "python",
   "name": "python3"
  },
  "language_info": {
   "codemirror_mode": {
    "name": "ipython",
    "version": 3
   },
   "file_extension": ".py",
   "mimetype": "text/x-python",
   "name": "python",
   "nbconvert_exporter": "python",
   "pygments_lexer": "ipython3",
   "version": "3.9.12"
  }
 },
 "nbformat": 4,
 "nbformat_minor": 5
}
