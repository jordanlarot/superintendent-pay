{
 "cells": [
  {
   "cell_type": "code",
   "execution_count": 33,
   "id": "4e203b59",
   "metadata": {},
   "outputs": [
    {
     "data": {
      "text/html": [
       "<div>\n",
       "<style scoped>\n",
       "    .dataframe tbody tr th:only-of-type {\n",
       "        vertical-align: middle;\n",
       "    }\n",
       "\n",
       "    .dataframe tbody tr th {\n",
       "        vertical-align: top;\n",
       "    }\n",
       "\n",
       "    .dataframe thead th {\n",
       "        text-align: right;\n",
       "    }\n",
       "</style>\n",
       "<table border=\"1\" class=\"dataframe\">\n",
       "  <thead>\n",
       "    <tr style=\"text-align: right;\">\n",
       "      <th></th>\n",
       "      <th>Employee Name</th>\n",
       "      <th>Job Title</th>\n",
       "      <th>Base Pay</th>\n",
       "      <th>Overtime Pay</th>\n",
       "      <th>Other Pay</th>\n",
       "      <th>Benefits</th>\n",
       "      <th>Total Pay &amp; Benefits</th>\n",
       "      <th>Year</th>\n",
       "      <th>Notes</th>\n",
       "      <th>Agency</th>\n",
       "      <th>Status</th>\n",
       "    </tr>\n",
       "  </thead>\n",
       "  <tbody>\n",
       "    <tr>\n",
       "      <th>0</th>\n",
       "      <td>James Hammond</td>\n",
       "      <td>Superintendent</td>\n",
       "      <td>355285.00</td>\n",
       "      <td>0.0</td>\n",
       "      <td>197112.00</td>\n",
       "      <td>167573.00</td>\n",
       "      <td>719970.00</td>\n",
       "      <td>2020.0</td>\n",
       "      <td>None</td>\n",
       "      <td>Ontario-Montclair</td>\n",
       "      <td>NaN</td>\n",
       "    </tr>\n",
       "    <tr>\n",
       "      <th>1</th>\n",
       "      <td>Craig M Guensler</td>\n",
       "      <td>Superintendent</td>\n",
       "      <td>233539.86</td>\n",
       "      <td>0.0</td>\n",
       "      <td>10099.42</td>\n",
       "      <td>342424.16</td>\n",
       "      <td>586063.44</td>\n",
       "      <td>2020.0</td>\n",
       "      <td>None</td>\n",
       "      <td>Wheatland Union High</td>\n",
       "      <td>NaN</td>\n",
       "    </tr>\n",
       "    <tr>\n",
       "      <th>2</th>\n",
       "      <td>Michael Lin</td>\n",
       "      <td>Superintendent</td>\n",
       "      <td>398979.02</td>\n",
       "      <td>0.0</td>\n",
       "      <td>57050.69</td>\n",
       "      <td>80208.48</td>\n",
       "      <td>536238.19</td>\n",
       "      <td>2020.0</td>\n",
       "      <td>None</td>\n",
       "      <td>Corona-Norco Unified</td>\n",
       "      <td>NaN</td>\n",
       "    </tr>\n",
       "    <tr>\n",
       "      <th>3</th>\n",
       "      <td>Joel Lee Kinnamon</td>\n",
       "      <td>Superintendent/President</td>\n",
       "      <td>399006.00</td>\n",
       "      <td>0.0</td>\n",
       "      <td>60457.00</td>\n",
       "      <td>66557.00</td>\n",
       "      <td>526020.00</td>\n",
       "      <td>2020.0</td>\n",
       "      <td>None</td>\n",
       "      <td>College of the Desert</td>\n",
       "      <td>NaN</td>\n",
       "    </tr>\n",
       "    <tr>\n",
       "      <th>4</th>\n",
       "      <td>Mary E Streshly</td>\n",
       "      <td>Superintendent</td>\n",
       "      <td>192784.38</td>\n",
       "      <td>0.0</td>\n",
       "      <td>259544.88</td>\n",
       "      <td>66560.32</td>\n",
       "      <td>518889.58</td>\n",
       "      <td>2020.0</td>\n",
       "      <td>None</td>\n",
       "      <td>Sequoia Union High</td>\n",
       "      <td>NaN</td>\n",
       "    </tr>\n",
       "  </tbody>\n",
       "</table>\n",
       "</div>"
      ],
      "text/plain": [
       "       Employee Name                 Job Title   Base Pay   Overtime Pay  \\\n",
       "0      James Hammond            Superintendent  355285.00            0.0   \n",
       "1   Craig M Guensler            Superintendent  233539.86            0.0   \n",
       "2        Michael Lin            Superintendent  398979.02            0.0   \n",
       "3  Joel Lee Kinnamon  Superintendent/President  399006.00            0.0   \n",
       "4    Mary E Streshly            Superintendent  192784.38            0.0   \n",
       "\n",
       "    Other Pay   Benefits   Total Pay & Benefits    Year  Notes  \\\n",
       "0   197112.00  167573.00              719970.00  2020.0   None   \n",
       "1    10099.42  342424.16              586063.44  2020.0   None   \n",
       "2    57050.69   80208.48              536238.19  2020.0   None   \n",
       "3    60457.00   66557.00              526020.00  2020.0   None   \n",
       "4   259544.88   66560.32              518889.58  2020.0   None   \n",
       "\n",
       "                  Agency  Status  \n",
       "0      Ontario-Montclair     NaN  \n",
       "1   Wheatland Union High     NaN  \n",
       "2   Corona-Norco Unified     NaN  \n",
       "3  College of the Desert     NaN  \n",
       "4     Sequoia Union High     NaN  "
      ]
     },
     "execution_count": 33,
     "metadata": {},
     "output_type": "execute_result"
    }
   ],
   "source": [
    "import pandas as pd\n",
    "import numpy as np\n",
    "\n",
    "file = 'search_results_superintendent_1.csv'\n",
    "df = pd.read_csv(file)\n",
    "df.head()"
   ]
  },
  {
   "cell_type": "code",
   "execution_count": 34,
   "id": "6f4c939d",
   "metadata": {},
   "outputs": [
    {
     "data": {
      "text/plain": [
       "Index(['Employee Name', ' Job Title', ' Base Pay', ' Overtime Pay',\n",
       "       ' Other Pay', ' Benefits', ' Total Pay & Benefits', ' Year', ' Notes',\n",
       "       ' Agency', ' Status'],\n",
       "      dtype='object')"
      ]
     },
     "execution_count": 34,
     "metadata": {},
     "output_type": "execute_result"
    }
   ],
   "source": [
    "df.columns"
   ]
  },
  {
   "cell_type": "code",
   "execution_count": 35,
   "id": "036bf81e",
   "metadata": {},
   "outputs": [
    {
     "data": {
      "text/plain": [
       "Superintendent                                          435\n",
       "Assistant Superintendent                                 68\n",
       "Deputy Superintendent                                    52\n",
       "Associate Superintendent                                 23\n",
       "Superintendent/President                                 21\n",
       "                                                       ... \n",
       "Assistant Superintendent Student Support Services         1\n",
       "Assistant Superintendent-Bsvc                             1\n",
       "Assistant Superintendent, Pupil Services &amp; Selpa      1\n",
       "Assistant Superintendent-Edser                            1\n",
       "Assistant Superintendent Of Instructional Services        1\n",
       "Name:  Job Title, Length: 255, dtype: int64"
      ]
     },
     "execution_count": 35,
     "metadata": {},
     "output_type": "execute_result"
    }
   ],
   "source": [
    "df[' Job Title'].value_counts()"
   ]
  },
  {
   "cell_type": "code",
   "execution_count": 36,
   "id": "bd1db5ec",
   "metadata": {},
   "outputs": [
    {
     "data": {
      "text/plain": [
       "array(['Superintendent', 'Superintendent/President',\n",
       "       'Superintendent Of Schools', 'District Superintendent',\n",
       "       'Superintendent President', 'President/Superintendent',\n",
       "       'County Superintendent Of Schl', 'Superintendent-President',\n",
       "       'Deputy Superintendent, Business Services And Operations',\n",
       "       'General Superintendent', 'Associate Superintendent',\n",
       "       'County Superintendent/Schools', 'Assistant Superintendent Moft',\n",
       "       'Deputy Superintendent - 2302', 'Street Tree Superintendent',\n",
       "       'State Park Superintendent Iii', 'Associate Superintendent - Cbo',\n",
       "       'State Park Superintendent V', 'Shops Superintendent',\n",
       "       'Deputy Superintendent Of Business Services',\n",
       "       'Assistant Superintendent',\n",
       "       'President/Superintendent Chief Executive Officer',\n",
       "       'Water Utility Superintendent', 'Deputy Superintendent',\n",
       "       'A Superintendent', 'Superintendent, Deputy',\n",
       "       'Superintendent/Presi', 'Superintendent-Cert',\n",
       "       'Interim Superintendent', 'Deputy Superintendent Of Building I',\n",
       "       'Electrical Superintendent', 'Deputy Superintendent, Busines',\n",
       "       'Asst. Superintendent Business',\n",
       "       'Associate Superintendent, Business Services',\n",
       "       'Vice President, Academic Affairs/Asst Superintendent',\n",
       "       '2900 Superintendent', 'Assistant Superintendent-Business',\n",
       "       'Assistant Superintendent Education Services',\n",
       "       'Chief Personnel Officer/Associate Superintendent',\n",
       "       'Vp Hr/Asst Superintendent',\n",
       "       'Assistant Superintendent Human Resource',\n",
       "       'Asst Superintendent Human Resc',\n",
       "       'Senior Maintenance Superintendent',\n",
       "       'Street Services General Superintendent Ii',\n",
       "       '5043 Deputy Superintendent',\n",
       "       'Street Services General Superintendent I',\n",
       "       'Interim Superintendent/President', 'County Superintendent',\n",
       "       'Asst. Superintendent/Vice Pres',\n",
       "       'Vice President, Student Services/Assistant Superintendent',\n",
       "       'Assistant Superintendent-Admin', 'Assist Superintendent-Ed Servi',\n",
       "       'Associate Superintendent, School Climate, Culture And Safety',\n",
       "       'Operations &amp; Maintenance Superintendent',\n",
       "       'Building Construction And Maintenance General Superintendent Ii',\n",
       "       'Superintendent/Principal', 'Deputy Superintendent,Business',\n",
       "       'Shift Superintendent Wastewater Treatment Ii',\n",
       "       'Asst Superintendent,Pr Sv', 'Equipment Superintendent',\n",
       "       'Local District Superintendent', 'Aa746 : Superintendent',\n",
       "       'Airport Superintendent Of Operations Ii',\n",
       "       'Public Works Superintendent', 'Power Generation Superintendent',\n",
       "       'Associate Superintendent, Human Resources',\n",
       "       'Superintendent Of Parks &amp; Golf',\n",
       "       'Asst. Superintendent Bus. Svc.', 'Asst Superintendent Bsn Servs',\n",
       "       'Assistant Superintendent Of Op', 'Assistant Superintendent Of Bu',\n",
       "       'Electric Operations Superintendent',\n",
       "       'Assistant Superintendent Innovation And Instructional Services',\n",
       "       'Ast Superintendent Ed Services', 'President / Superintendent',\n",
       "       'Park Superintendent', 'Superintendent Of Libraries',\n",
       "       'Building Construction And Maintenance Superintendent',\n",
       "       'Asst To Superintendent -Dist.',\n",
       "       'Assistant Superintendent, Ed Services',\n",
       "       'County Superintendent Of Schs', 'Associate Superintendent, Sps',\n",
       "       'Assistant Superintendent - Education Services',\n",
       "       'Assistant Superintendent - Human Resources',\n",
       "       'Superintendent Of Public Works Operations',\n",
       "       'Assistant Superintendent Personnel Services',\n",
       "       'Assistant Superintendent Of Operations',\n",
       "       'Superintendent, Asst Business', 'Deputy Superintendent, Educati',\n",
       "       'Assistant Superintendent - Business Services',\n",
       "       'Superintendent Of Recreation And Parks Operations',\n",
       "       'Assistant Superintendent-Business Services',\n",
       "       'Asst Superintendent-Business', 'Assist Superintendent - Admin',\n",
       "       'Airport Superintendent Of Operations Iii',\n",
       "       'Superintendent Of Building',\n",
       "       'Assistant Superintendent Business Services',\n",
       "       'Assistant Superintendent Educational Services',\n",
       "       'Superintendent, Probation',\n",
       "       'Assistant Superintendent, Human Resources',\n",
       "       'Water Treatment Superintendent', 'Deputy Superintendent-12',\n",
       "       'Assistant Deputy Superintendent Of Building Ii',\n",
       "       'Deputy Superintendent/Cbo', 'Street Superintendent',\n",
       "       'Vice President Instruction/Assistant Superintendent',\n",
       "       'Assist Superintendent - Hr',\n",
       "       'Assistant Superintendent Student Support Services',\n",
       "       'Airports Maintenance Superintendent',\n",
       "       'Assistant Superintendent-Bsvc',\n",
       "       'Assistant Superintendent, Pupil Services &amp; Selpa',\n",
       "       'Assistant Superintendent-Edser', 'Assistant Superintendent Bus.',\n",
       "       'Associate Superintendent, Educational Services',\n",
       "       'Acting Asst Superintendent/Vp', 'Associate Superintendent, Huma',\n",
       "       'State Park Superintendent Ii', 'Assist Superintendent - Is',\n",
       "       'Assistant Superintendent Hr',\n",
       "       'Shift Superintendent Wastewater Treatment I',\n",
       "       'Asst Superintendent-', 'Laboratory Superintendent',\n",
       "       'Associate Superintendent, Inno', 'Assoc Superintendent',\n",
       "       'Superintendent Of Pardee', 'Signal Systems Superintendent',\n",
       "       'Assist Superintendent', 'Assist Superintendent Bus Svcs',\n",
       "       'Dist Deputy Superintendent', 'Assistant Superintendent Cl',\n",
       "       'Associate Superintendent - Human Resources',\n",
       "       'Asst Superintendent/Personnel', 'Street Services Superintendent',\n",
       "       'Asst. Superintendent', 'Asst Superintendent, Inst',\n",
       "       'O&amp;M Superintendent', 'Facilities &amp; Field Superintendent',\n",
       "       'Assistant Superintendent - Hr',\n",
       "       'Assistant Superintendent Instruction/Curriculum',\n",
       "       'Field Operations Superintendent', 'Assistant Superintendent, Hr',\n",
       "       'Superintendent Of Aqueduct', 'Street Services Superintendent I',\n",
       "       'Maintenance Superintendent', 'Assistant Superintendent-Curri',\n",
       "       'Environmental Compliance Superintendent', 'Water Superintendent',\n",
       "       'Associate Superintendent, Selp', 'Superintendent/Clo',\n",
       "       'Assistant Superintendent, Business Services-Interim',\n",
       "       'Asst Superintendent Special Ed', 'Asst. Superintendent-Selpa',\n",
       "       'Asst Superintendent', 'Street Tree Superintendent I',\n",
       "       'Plant Maint Superintendent',\n",
       "       'Vice President Student Services/Assistant Superintendent',\n",
       "       'Assistant Superintendent Admin', 'Asst Superintendent-Bus Serv',\n",
       "       'Utilities Electric Superintendent',\n",
       "       'Assistant Superintendent Of Ed', 'Assist. Superintendent/Busines',\n",
       "       'Superintendent Of Community Services',\n",
       "       'Assistant Superintendent Human Resources',\n",
       "       'Hydroelectric Plant Operations Superintendent',\n",
       "       'Utilities Water Superintendent',\n",
       "       'Plant Operations Superintendent',\n",
       "       'Assistant Superintendent-Edsvc',\n",
       "       'Assistant Superintendent Business',\n",
       "       'Asst Superintendent Ed Options', 'Asst Superintendent Bus Svs',\n",
       "       'Assistant Superintendent, Human Resources Dev.',\n",
       "       'Asst Superintendent-Hr', 'SUPERINTENDENT',\n",
       "       'Street Services Superintendent Ii', 'General Srvc Superintendent',\n",
       "       'Superintendent*', 'Asst Superintendent-Ed Service',\n",
       "       'Assist Superintendent, Prob',\n",
       "       'Assistant Power Production Superintendent',\n",
       "       'Asst Superintendent Bus Serv', 'Asst Superintendent-Ed Serv',\n",
       "       'Assistant Superintendent, Early Learning Services',\n",
       "       'Asst Superintendent Of Facilit',\n",
       "       'Superintendent Of Maintenance Sv',\n",
       "       'Assistant Superintendent Of Business Services',\n",
       "       'Assist Superintendent - Educat',\n",
       "       'Assistant Superintendent Ed Services',\n",
       "       'Asst Superintendent-Spl Educ', 'Associate Superintendent-Bussv',\n",
       "       'Water Quality Superintendent', 'Gas Systems Superintendent',\n",
       "       'Assistant Superintendent Instr',\n",
       "       'Asst Superintendent-Business Services',\n",
       "       'Network Superintendent Hs',\n",
       "       'Site Superintendent, School For The Deaf',\n",
       "       'Water And Sewer Superintendent', 'Principal Superintendent',\n",
       "       'Assistant Superintendent, Pers', 'Asst. Superintendent, Ele Sch',\n",
       "       'Superintendent - Building And Safety',\n",
       "       'Water Utility Distribution Superintendent',\n",
       "       'Watershed Rescs Superintendent', 'Assistant Superintendent-Sped',\n",
       "       'Community Serv Superintendent', 'Superintendent/District Admin',\n",
       "       'Recreation Services Superintendent',\n",
       "       'Assistant Superintendent, Educational Service',\n",
       "       'Asst Superintendent Bus &amp; Ops', 'Superintendent, Assistant',\n",
       "       'Asst Superintendent-Educ Serv', 'Superintendent Community',\n",
       "       'Construction Superintendent', 'Assist Superintendent - Hr/Stu',\n",
       "       'Network Superintendent Pre-K5', 'Assist. Superintendent',\n",
       "       'Associate Superintendent Selpa',\n",
       "       'Water Utility Operations Superintendent',\n",
       "       'Asso Superintendent Es', 'Elec Utility Superintendent',\n",
       "       'Assistant Superintendent Of Bo', 'Asst Superintendent - Human Re',\n",
       "       'Street Tree Superintendent Ii', 'Asst Superintendent Admin Svc',\n",
       "       'Chief Of Staff To The Superintendent',\n",
       "       'Environmental Utilities Maintenance Superintendent',\n",
       "       'District Superintendent Ii, Department Of Parks And Recreation',\n",
       "       'Water Reclamation Operations Superintendent',\n",
       "       'Asst. Superintendent Of Educat', 'Pw Superintendent',\n",
       "       'Distribution System Superintendent',\n",
       "       'Fleet Services Superintendent', 'Public Services Superintendent',\n",
       "       'Assistant Superintendent, Ed. Services',\n",
       "       'State Park Superintendent Iv', '2021 Assistant Superintendent Hr',\n",
       "       '3002 Asst Superintendent Cert', 'Chief Deputy Superintendent',\n",
       "       'Assistant Superintendent Cbo', 'Acting Superintendent',\n",
       "       'Water Operations Superintendent',\n",
       "       'Assistant Superintendent/Admin', 'Superintendent-1',\n",
       "       'Assistant Superintendent- Hr', 'Asst Superintendent Ed Svc',\n",
       "       'Water Systems Operations Superintendent',\n",
       "       'Superintendent Facilities Ops', 'Asst Superintendent Aqueduct',\n",
       "       'Superintendent-District', 'Assistant Superintendent, Sss',\n",
       "       'Operations Superintendent',\n",
       "       'General Superintendent - Development Services',\n",
       "       'Associate Superintendent - Curriculum',\n",
       "       'Utility Maintenance Superintendent',\n",
       "       'Administrative Services Assistant Superintendent',\n",
       "       'Assistant Superintendent Of Instructional Services', nan],\n",
       "      dtype=object)"
      ]
     },
     "execution_count": 36,
     "metadata": {},
     "output_type": "execute_result"
    }
   ],
   "source": [
    "df[' Job Title'].unique()"
   ]
  },
  {
   "cell_type": "code",
   "execution_count": 37,
   "id": "f8cc561b",
   "metadata": {},
   "outputs": [
    {
     "data": {
      "text/plain": [
       "(490, 10)"
      ]
     },
     "execution_count": 37,
     "metadata": {},
     "output_type": "execute_result"
    }
   ],
   "source": [
    "titles = ['Superintendent', 'Superintendent/President',\n",
    "       'Superintendent Of Schools', 'District Superintendent',\n",
    "       'Superintendent President', 'President/Superintendent',\n",
    "       'County Superintendent Of Schl', 'Superintendent-President', 'Superintendent-District']\n",
    "\n",
    "df = df[df[' Job Title'].isin(titles)]\n",
    "df.drop(columns= ' Job Title', axis=1, inplace=True)\n",
    "df.shape"
   ]
  },
  {
   "cell_type": "code",
   "execution_count": 38,
   "id": "3af35fa9",
   "metadata": {},
   "outputs": [
    {
     "data": {
      "text/plain": [
       "Index(['Employee Name', ' Base Pay', ' Overtime Pay', ' Other Pay',\n",
       "       ' Benefits', ' Total Pay & Benefits', ' Year', ' Notes', ' Agency',\n",
       "       ' Status'],\n",
       "      dtype='object')"
      ]
     },
     "execution_count": 38,
     "metadata": {},
     "output_type": "execute_result"
    }
   ],
   "source": [
    "df.columns"
   ]
  },
  {
   "cell_type": "code",
   "execution_count": 39,
   "id": "22a429cc",
   "metadata": {},
   "outputs": [
    {
     "data": {
      "text/plain": [
       " Notes\n",
       "None    490\n",
       "dtype: int64"
      ]
     },
     "execution_count": 39,
     "metadata": {},
     "output_type": "execute_result"
    }
   ],
   "source": [
    "df.value_counts(' Notes')"
   ]
  },
  {
   "cell_type": "code",
   "execution_count": 40,
   "id": "8606a9b0",
   "metadata": {},
   "outputs": [],
   "source": [
    "df.drop(columns= ' Notes', axis=1, inplace=True)"
   ]
  },
  {
   "cell_type": "code",
   "execution_count": 41,
   "id": "5d3ce968",
   "metadata": {},
   "outputs": [
    {
     "data": {
      "text/plain": [
       "2020.0    490\n",
       "Name:  Year, dtype: int64"
      ]
     },
     "execution_count": 41,
     "metadata": {},
     "output_type": "execute_result"
    }
   ],
   "source": [
    "df[' Year'].value_counts()"
   ]
  },
  {
   "cell_type": "code",
   "execution_count": 42,
   "id": "6c7a3fcc",
   "metadata": {},
   "outputs": [],
   "source": [
    "df.drop(columns= ' Year', axis=1, inplace=True)"
   ]
  },
  {
   "cell_type": "code",
   "execution_count": 43,
   "id": "ef1ebe0b",
   "metadata": {},
   "outputs": [
    {
     "data": {
      "text/plain": [
       "Index(['Employee Name', ' Base Pay', ' Overtime Pay', ' Other Pay',\n",
       "       ' Benefits', ' Total Pay & Benefits', ' Agency', ' Status'],\n",
       "      dtype='object')"
      ]
     },
     "execution_count": 43,
     "metadata": {},
     "output_type": "execute_result"
    }
   ],
   "source": [
    "df.columns"
   ]
  },
  {
   "cell_type": "code",
   "execution_count": 47,
   "id": "b0e52522",
   "metadata": {},
   "outputs": [
    {
     "data": {
      "text/plain": [
       "Series([], dtype: int64)"
      ]
     },
     "execution_count": 47,
     "metadata": {},
     "output_type": "execute_result"
    }
   ],
   "source": [
    "df.value_counts(' Status')"
   ]
  },
  {
   "cell_type": "code",
   "execution_count": 48,
   "id": "f01f8e83",
   "metadata": {},
   "outputs": [
    {
     "data": {
      "text/plain": [
       "Employee Name             object\n",
       " Base Pay                float64\n",
       " Overtime Pay            float64\n",
       " Other Pay               float64\n",
       " Benefits                float64\n",
       " Total Pay & Benefits    float64\n",
       " Agency                   object\n",
       " Status                   object\n",
       "dtype: object"
      ]
     },
     "execution_count": 48,
     "metadata": {},
     "output_type": "execute_result"
    }
   ],
   "source": [
    "df.dtypes"
   ]
  },
  {
   "cell_type": "code",
   "execution_count": 51,
   "id": "06ff3382",
   "metadata": {},
   "outputs": [
    {
     "data": {
      "text/plain": [
       "490"
      ]
     },
     "execution_count": 51,
     "metadata": {},
     "output_type": "execute_result"
    }
   ],
   "source": [
    "df[' Status'].isna().sum()"
   ]
  },
  {
   "cell_type": "code",
   "execution_count": 71,
   "id": "08879ae1",
   "metadata": {},
   "outputs": [
    {
     "data": {
      "text/html": [
       "<div>\n",
       "<style scoped>\n",
       "    .dataframe tbody tr th:only-of-type {\n",
       "        vertical-align: middle;\n",
       "    }\n",
       "\n",
       "    .dataframe tbody tr th {\n",
       "        vertical-align: top;\n",
       "    }\n",
       "\n",
       "    .dataframe thead th {\n",
       "        text-align: right;\n",
       "    }\n",
       "</style>\n",
       "<table border=\"1\" class=\"dataframe\">\n",
       "  <thead>\n",
       "    <tr style=\"text-align: right;\">\n",
       "      <th></th>\n",
       "      <th>Employee Name</th>\n",
       "      <th>Base Pay</th>\n",
       "      <th>Overtime Pay</th>\n",
       "      <th>Other Pay</th>\n",
       "      <th>Benefits</th>\n",
       "      <th>Total Pay &amp; Benefits</th>\n",
       "      <th>Agency</th>\n",
       "      <th>Status</th>\n",
       "    </tr>\n",
       "  </thead>\n",
       "  <tbody>\n",
       "    <tr>\n",
       "      <th>0</th>\n",
       "      <td>James Hammond</td>\n",
       "      <td>355285.00</td>\n",
       "      <td>0.0</td>\n",
       "      <td>197112.00</td>\n",
       "      <td>167573.00</td>\n",
       "      <td>719970.00</td>\n",
       "      <td>Ontario-Montclair</td>\n",
       "      <td>NaN</td>\n",
       "    </tr>\n",
       "    <tr>\n",
       "      <th>1</th>\n",
       "      <td>Craig M Guensler</td>\n",
       "      <td>233539.86</td>\n",
       "      <td>0.0</td>\n",
       "      <td>10099.42</td>\n",
       "      <td>342424.16</td>\n",
       "      <td>586063.44</td>\n",
       "      <td>Wheatland Union High</td>\n",
       "      <td>NaN</td>\n",
       "    </tr>\n",
       "    <tr>\n",
       "      <th>2</th>\n",
       "      <td>Michael Lin</td>\n",
       "      <td>398979.02</td>\n",
       "      <td>0.0</td>\n",
       "      <td>57050.69</td>\n",
       "      <td>80208.48</td>\n",
       "      <td>536238.19</td>\n",
       "      <td>Corona-Norco Unified</td>\n",
       "      <td>NaN</td>\n",
       "    </tr>\n",
       "    <tr>\n",
       "      <th>3</th>\n",
       "      <td>Joel Lee Kinnamon</td>\n",
       "      <td>399006.00</td>\n",
       "      <td>0.0</td>\n",
       "      <td>60457.00</td>\n",
       "      <td>66557.00</td>\n",
       "      <td>526020.00</td>\n",
       "      <td>College of the Desert</td>\n",
       "      <td>NaN</td>\n",
       "    </tr>\n",
       "    <tr>\n",
       "      <th>4</th>\n",
       "      <td>Mary E Streshly</td>\n",
       "      <td>192784.38</td>\n",
       "      <td>0.0</td>\n",
       "      <td>259544.88</td>\n",
       "      <td>66560.32</td>\n",
       "      <td>518889.58</td>\n",
       "      <td>Sequoia Union High</td>\n",
       "      <td>NaN</td>\n",
       "    </tr>\n",
       "    <tr>\n",
       "      <th>...</th>\n",
       "      <td>...</td>\n",
       "      <td>...</td>\n",
       "      <td>...</td>\n",
       "      <td>...</td>\n",
       "      <td>...</td>\n",
       "      <td>...</td>\n",
       "      <td>...</td>\n",
       "      <td>...</td>\n",
       "    </tr>\n",
       "    <tr>\n",
       "      <th>984</th>\n",
       "      <td>Daniel E Moore</td>\n",
       "      <td>171437.52</td>\n",
       "      <td>0.0</td>\n",
       "      <td>7500.00</td>\n",
       "      <td>46002.28</td>\n",
       "      <td>224939.80</td>\n",
       "      <td>Banta Unified</td>\n",
       "      <td>NaN</td>\n",
       "    </tr>\n",
       "    <tr>\n",
       "      <th>986</th>\n",
       "      <td>Cheryl L Olson</td>\n",
       "      <td>186381.54</td>\n",
       "      <td>0.0</td>\n",
       "      <td>0.00</td>\n",
       "      <td>38463.54</td>\n",
       "      <td>224845.08</td>\n",
       "      <td>Rescue Union Elementary</td>\n",
       "      <td>NaN</td>\n",
       "    </tr>\n",
       "    <tr>\n",
       "      <th>989</th>\n",
       "      <td>Matthew Reno</td>\n",
       "      <td>171531.54</td>\n",
       "      <td>0.0</td>\n",
       "      <td>14221.80</td>\n",
       "      <td>38898.40</td>\n",
       "      <td>224651.74</td>\n",
       "      <td>Alexander Valley Union Elementary</td>\n",
       "      <td>NaN</td>\n",
       "    </tr>\n",
       "    <tr>\n",
       "      <th>995</th>\n",
       "      <td>Carol Lynne Hume</td>\n",
       "      <td>174545.00</td>\n",
       "      <td>0.0</td>\n",
       "      <td>420.00</td>\n",
       "      <td>48709.22</td>\n",
       "      <td>223674.22</td>\n",
       "      <td>Coastline ROP</td>\n",
       "      <td>NaN</td>\n",
       "    </tr>\n",
       "    <tr>\n",
       "      <th>997</th>\n",
       "      <td>Shannon M Sanford</td>\n",
       "      <td>178585.00</td>\n",
       "      <td>0.0</td>\n",
       "      <td>4800.00</td>\n",
       "      <td>40212.00</td>\n",
       "      <td>223597.00</td>\n",
       "      <td>Stanislaus Union Elementary</td>\n",
       "      <td>NaN</td>\n",
       "    </tr>\n",
       "  </tbody>\n",
       "</table>\n",
       "<p>490 rows × 8 columns</p>\n",
       "</div>"
      ],
      "text/plain": [
       "         Employee Name   Base Pay   Overtime Pay   Other Pay   Benefits  \\\n",
       "0        James Hammond  355285.00            0.0   197112.00  167573.00   \n",
       "1     Craig M Guensler  233539.86            0.0    10099.42  342424.16   \n",
       "2          Michael Lin  398979.02            0.0    57050.69   80208.48   \n",
       "3    Joel Lee Kinnamon  399006.00            0.0    60457.00   66557.00   \n",
       "4      Mary E Streshly  192784.38            0.0   259544.88   66560.32   \n",
       "..                 ...        ...            ...         ...        ...   \n",
       "984     Daniel E Moore  171437.52            0.0     7500.00   46002.28   \n",
       "986     Cheryl L Olson  186381.54            0.0        0.00   38463.54   \n",
       "989       Matthew Reno  171531.54            0.0    14221.80   38898.40   \n",
       "995   Carol Lynne Hume  174545.00            0.0      420.00   48709.22   \n",
       "997  Shannon M Sanford  178585.00            0.0     4800.00   40212.00   \n",
       "\n",
       "      Total Pay & Benefits                             Agency  Status  \n",
       "0                719970.00                  Ontario-Montclair     NaN  \n",
       "1                586063.44               Wheatland Union High     NaN  \n",
       "2                536238.19               Corona-Norco Unified     NaN  \n",
       "3                526020.00              College of the Desert     NaN  \n",
       "4                518889.58                 Sequoia Union High     NaN  \n",
       "..                     ...                                ...     ...  \n",
       "984              224939.80                      Banta Unified     NaN  \n",
       "986              224845.08            Rescue Union Elementary     NaN  \n",
       "989              224651.74  Alexander Valley Union Elementary     NaN  \n",
       "995              223674.22                      Coastline ROP     NaN  \n",
       "997              223597.00        Stanislaus Union Elementary     NaN  \n",
       "\n",
       "[490 rows x 8 columns]"
      ]
     },
     "execution_count": 71,
     "metadata": {},
     "output_type": "execute_result"
    }
   ],
   "source": [
    "df"
   ]
  },
  {
   "cell_type": "code",
   "execution_count": 72,
   "id": "dbe50c01",
   "metadata": {},
   "outputs": [
    {
     "data": {
      "text/plain": [
       "'Craig M Guensler'"
      ]
     },
     "execution_count": 72,
     "metadata": {},
     "output_type": "execute_result"
    }
   ],
   "source": [
    "df['Employee Name'].iloc[1]"
   ]
  },
  {
   "cell_type": "code",
   "execution_count": 79,
   "id": "1c9f682a",
   "metadata": {},
   "outputs": [
    {
     "data": {
      "text/html": [
       "<div>\n",
       "<style scoped>\n",
       "    .dataframe tbody tr th:only-of-type {\n",
       "        vertical-align: middle;\n",
       "    }\n",
       "\n",
       "    .dataframe tbody tr th {\n",
       "        vertical-align: top;\n",
       "    }\n",
       "\n",
       "    .dataframe thead th {\n",
       "        text-align: right;\n",
       "    }\n",
       "</style>\n",
       "<table border=\"1\" class=\"dataframe\">\n",
       "  <thead>\n",
       "    <tr style=\"text-align: right;\">\n",
       "      <th></th>\n",
       "      <th>Employee Name</th>\n",
       "      <th>Base Pay</th>\n",
       "      <th>Overtime Pay</th>\n",
       "      <th>Other Pay</th>\n",
       "      <th>Benefits</th>\n",
       "      <th>Total Pay &amp; Benefits</th>\n",
       "      <th>Agency</th>\n",
       "      <th>Status</th>\n",
       "    </tr>\n",
       "  </thead>\n",
       "  <tbody>\n",
       "    <tr>\n",
       "      <th>1</th>\n",
       "      <td>Craig M Guensler</td>\n",
       "      <td>233539.86</td>\n",
       "      <td>0.0</td>\n",
       "      <td>10099.42</td>\n",
       "      <td>342424.16</td>\n",
       "      <td>586063.44</td>\n",
       "      <td>Wheatland Union High</td>\n",
       "      <td>NaN</td>\n",
       "    </tr>\n",
       "    <tr>\n",
       "      <th>332</th>\n",
       "      <td>Craig M Guensler</td>\n",
       "      <td>233539.86</td>\n",
       "      <td>0.0</td>\n",
       "      <td>10099.42</td>\n",
       "      <td>49392.44</td>\n",
       "      <td>293031.72</td>\n",
       "      <td>Wheatland School District</td>\n",
       "      <td>NaN</td>\n",
       "    </tr>\n",
       "  </tbody>\n",
       "</table>\n",
       "</div>"
      ],
      "text/plain": [
       "        Employee Name   Base Pay   Overtime Pay   Other Pay   Benefits  \\\n",
       "1    Craig M Guensler  233539.86            0.0    10099.42  342424.16   \n",
       "332  Craig M Guensler  233539.86            0.0    10099.42   49392.44   \n",
       "\n",
       "      Total Pay & Benefits                     Agency  Status  \n",
       "1                586063.44       Wheatland Union High     NaN  \n",
       "332              293031.72  Wheatland School District     NaN  "
      ]
     },
     "execution_count": 79,
     "metadata": {},
     "output_type": "execute_result"
    }
   ],
   "source": [
    "df[df['Employee Name'] == 'Craig M Guensler']"
   ]
  },
  {
   "cell_type": "code",
   "execution_count": 80,
   "id": "93f5eaba",
   "metadata": {},
   "outputs": [
    {
     "data": {
      "text/html": [
       "<div>\n",
       "<style scoped>\n",
       "    .dataframe tbody tr th:only-of-type {\n",
       "        vertical-align: middle;\n",
       "    }\n",
       "\n",
       "    .dataframe tbody tr th {\n",
       "        vertical-align: top;\n",
       "    }\n",
       "\n",
       "    .dataframe thead th {\n",
       "        text-align: right;\n",
       "    }\n",
       "</style>\n",
       "<table border=\"1\" class=\"dataframe\">\n",
       "  <thead>\n",
       "    <tr style=\"text-align: right;\">\n",
       "      <th></th>\n",
       "      <th>Employee Name</th>\n",
       "      <th>Base Pay</th>\n",
       "      <th>Overtime Pay</th>\n",
       "      <th>Other Pay</th>\n",
       "      <th>Benefits</th>\n",
       "      <th>Total Pay &amp; Benefits</th>\n",
       "      <th>Agency</th>\n",
       "      <th>Status</th>\n",
       "    </tr>\n",
       "  </thead>\n",
       "  <tbody>\n",
       "    <tr>\n",
       "      <th>48</th>\n",
       "      <td>Not Provided</td>\n",
       "      <td>310000.00</td>\n",
       "      <td>0.0</td>\n",
       "      <td>18500.00</td>\n",
       "      <td>70866.00</td>\n",
       "      <td>399366.00</td>\n",
       "      <td>Glendale Unified</td>\n",
       "      <td>NaN</td>\n",
       "    </tr>\n",
       "    <tr>\n",
       "      <th>271</th>\n",
       "      <td>Not Provided</td>\n",
       "      <td>134238.15</td>\n",
       "      <td>0.0</td>\n",
       "      <td>150228.55</td>\n",
       "      <td>20443.45</td>\n",
       "      <td>304910.15</td>\n",
       "      <td>Hayward Unified</td>\n",
       "      <td>NaN</td>\n",
       "    </tr>\n",
       "    <tr>\n",
       "      <th>345</th>\n",
       "      <td>Not Provided</td>\n",
       "      <td>227718.66</td>\n",
       "      <td>0.0</td>\n",
       "      <td>6000.00</td>\n",
       "      <td>57150.11</td>\n",
       "      <td>290868.77</td>\n",
       "      <td>Lincoln Unified</td>\n",
       "      <td>NaN</td>\n",
       "    </tr>\n",
       "  </tbody>\n",
       "</table>\n",
       "</div>"
      ],
      "text/plain": [
       "    Employee Name   Base Pay   Overtime Pay   Other Pay   Benefits  \\\n",
       "48   Not Provided  310000.00            0.0    18500.00   70866.00   \n",
       "271  Not Provided  134238.15            0.0   150228.55   20443.45   \n",
       "345  Not Provided  227718.66            0.0     6000.00   57150.11   \n",
       "\n",
       "      Total Pay & Benefits            Agency  Status  \n",
       "48               399366.00  Glendale Unified     NaN  \n",
       "271              304910.15   Hayward Unified     NaN  \n",
       "345              290868.77   Lincoln Unified     NaN  "
      ]
     },
     "execution_count": 80,
     "metadata": {},
     "output_type": "execute_result"
    }
   ],
   "source": [
    "df[df['Employee Name'] == 'Not Provided']"
   ]
  },
  {
   "cell_type": "code",
   "execution_count": null,
   "id": "7bb3146f",
   "metadata": {},
   "outputs": [],
   "source": [
    "# Drop status \n",
    "# Remove duplicate rows\n",
    "# Combine base pay + overtime pay\n",
    "# consider deleting benefits "
   ]
  }
 ],
 "metadata": {
  "kernelspec": {
   "display_name": "Python 3 (ipykernel)",
   "language": "python",
   "name": "python3"
  },
  "language_info": {
   "codemirror_mode": {
    "name": "ipython",
    "version": 3
   },
   "file_extension": ".py",
   "mimetype": "text/x-python",
   "name": "python",
   "nbconvert_exporter": "python",
   "pygments_lexer": "ipython3",
   "version": "3.9.12"
  }
 },
 "nbformat": 4,
 "nbformat_minor": 5
}
